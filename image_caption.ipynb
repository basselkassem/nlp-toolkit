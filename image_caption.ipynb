{
  "nbformat": 4,
  "nbformat_minor": 0,
  "metadata": {
    "colab": {
      "name": "image-caption",
      "provenance": [],
      "collapsed_sections": [
        "IRxoXRWxs6DH",
        "AnymL19pz5yV",
        "2oStmcxPzuM7",
        "T4xUjcREzk9S",
        "TUgVLPuU0Pd_",
        "uR4mYvcs_d6X"
      ],
      "authorship_tag": "ABX9TyOnDOG0g4dY/EnAJpt3ePOX",
      "include_colab_link": true
    },
    "kernelspec": {
      "name": "python3",
      "display_name": "Python 3"
    },
    "accelerator": "GPU"
  },
  "cells": [
    {
      "cell_type": "markdown",
      "metadata": {
        "id": "view-in-github",
        "colab_type": "text"
      },
      "source": [
        "<a href=\"https://colab.research.google.com/github/basselkassem/nlp-toolkit/blob/master/image_caption.ipynb\" target=\"_parent\"><img src=\"https://colab.research.google.com/assets/colab-badge.svg\" alt=\"Open In Colab\"/></a>"
      ]
    },
    {
      "cell_type": "markdown",
      "metadata": {
        "id": "S1PyHEBAmTIT",
        "colab_type": "text"
      },
      "source": [
        "![alt encoder-decoder-with-attention](https://miro.medium.com/max/511/1*qhOlQHLdtfZORIXYuoCtaA.png) \n",
        "\n",
        "source: https://towardsdatascience.com/sequence-2-sequence-model-with-attention-mechanism-9e9ca2a613a"
      ]
    },
    {
      "cell_type": "markdown",
      "metadata": {
        "id": "5VTxZsFMoaGP",
        "colab_type": "text"
      },
      "source": [
        "# Download Data"
      ]
    },
    {
      "cell_type": "code",
      "metadata": {
        "id": "bbWMgv_HKxie",
        "colab_type": "code",
        "colab": {
          "base_uri": "https://localhost:8080/",
          "height": 391
        },
        "outputId": "5aa611c7-8a79-48e0-815e-0d75d2b79339"
      },
      "source": [
        "!wget http://images.cocodataset.org/zips/train2014.zip\n",
        "!wget http://images.cocodataset.org/annotations/annotations_trainval2014.zip"
      ],
      "execution_count": 2,
      "outputs": [
        {
          "output_type": "stream",
          "text": [
            "--2020-08-09 21:00:23--  http://images.cocodataset.org/zips/train2014.zip\n",
            "Resolving images.cocodataset.org (images.cocodataset.org)... 52.216.139.43\n",
            "Connecting to images.cocodataset.org (images.cocodataset.org)|52.216.139.43|:80... connected.\n",
            "HTTP request sent, awaiting response... 200 OK\n",
            "Length: 13510573713 (13G) [application/zip]\n",
            "Saving to: ‘train2014.zip’\n",
            "\n",
            "train2014.zip       100%[===================>]  12.58G  35.2MB/s    in 6m 39s  \n",
            "\n",
            "2020-08-09 21:07:03 (32.3 MB/s) - ‘train2014.zip’ saved [13510573713/13510573713]\n",
            "\n",
            "--2020-08-09 21:07:04--  http://images.cocodataset.org/annotations/annotations_trainval2014.zip\n",
            "Resolving images.cocodataset.org (images.cocodataset.org)... 52.216.170.227\n",
            "Connecting to images.cocodataset.org (images.cocodataset.org)|52.216.170.227|:80... connected.\n",
            "HTTP request sent, awaiting response... 200 OK\n",
            "Length: 252872794 (241M) [application/zip]\n",
            "Saving to: ‘annotations_trainval2014.zip’\n",
            "\n",
            "annotations_trainva 100%[===================>] 241.16M  35.1MB/s    in 7.5s    \n",
            "\n",
            "2020-08-09 21:07:12 (32.3 MB/s) - ‘annotations_trainval2014.zip’ saved [252872794/252872794]\n",
            "\n"
          ],
          "name": "stdout"
        }
      ]
    },
    {
      "cell_type": "code",
      "metadata": {
        "id": "o8w8HCAtqEIR",
        "colab_type": "code",
        "colab": {
          "base_uri": "https://localhost:8080/",
          "height": 34
        },
        "outputId": "c004a91a-adf9-456c-d3ee-07a5cdfaa62c"
      },
      "source": [
        "!ls"
      ],
      "execution_count": 3,
      "outputs": [
        {
          "output_type": "stream",
          "text": [
            "annotations_trainval2014.zip  sample_data  train2014.zip\n"
          ],
          "name": "stdout"
        }
      ]
    },
    {
      "cell_type": "code",
      "metadata": {
        "id": "2XF-qbuWpS87",
        "colab_type": "code",
        "colab": {
          "base_uri": "https://localhost:8080/",
          "height": 51
        },
        "outputId": "1119951d-39f8-450d-a597-908cf10a8135"
      },
      "source": [
        "%%time\n",
        "from zipfile import ZipFile\n",
        "with ZipFile('annotations_trainval2014.zip') as ref_file:\n",
        "  ref_file.extractall()"
      ],
      "execution_count": 4,
      "outputs": [
        {
          "output_type": "stream",
          "text": [
            "CPU times: user 5.51 s, sys: 744 ms, total: 6.25 s\n",
            "Wall time: 6.41 s\n"
          ],
          "name": "stdout"
        }
      ]
    },
    {
      "cell_type": "code",
      "metadata": {
        "id": "KdSVdG3eqoXl",
        "colab_type": "code",
        "colab": {
          "base_uri": "https://localhost:8080/",
          "height": 51
        },
        "outputId": "6dbae56e-9bdf-4b53-b446-9d8eeb529b36"
      },
      "source": [
        "%%time\n",
        "with ZipFile('train2014.zip') as ref_file:\n",
        "  ref_file.extractall()"
      ],
      "execution_count": 5,
      "outputs": [
        {
          "output_type": "stream",
          "text": [
            "CPU times: user 30.6 s, sys: 23.5 s, total: 54.1 s\n",
            "Wall time: 6min 24s\n"
          ],
          "name": "stdout"
        }
      ]
    },
    {
      "cell_type": "code",
      "metadata": {
        "id": "FzCWC7Uur7tf",
        "colab_type": "code",
        "colab": {
          "base_uri": "https://localhost:8080/",
          "height": 68
        },
        "outputId": "59b3d27f-c8c8-4d22-ddd4-e1d363483eb8"
      },
      "source": [
        "!ls annotations"
      ],
      "execution_count": 6,
      "outputs": [
        {
          "output_type": "stream",
          "text": [
            "captions_train2014.json   instances_val2014.json\n",
            "captions_val2014.json\t  person_keypoints_train2014.json\n",
            "instances_train2014.json  person_keypoints_val2014.json\n"
          ],
          "name": "stdout"
        }
      ]
    },
    {
      "cell_type": "markdown",
      "metadata": {
        "id": "u1BjWBJIoeJ6",
        "colab_type": "text"
      },
      "source": [
        "# Import Libs"
      ]
    },
    {
      "cell_type": "code",
      "metadata": {
        "id": "xAdz4SH3ogRb",
        "colab_type": "code",
        "colab": {}
      },
      "source": [
        "import numpy as np\n",
        "import pandas as pd\n",
        "import matplotlib.pyplot as plt\n",
        "import json\n",
        "import time\n",
        "from PIL import Image\n",
        "%matplotlib inline"
      ],
      "execution_count": 76,
      "outputs": []
    },
    {
      "cell_type": "code",
      "metadata": {
        "id": "1uTJVdbmtOCG",
        "colab_type": "code",
        "colab": {}
      },
      "source": [
        "from sklearn.model_selection import train_test_split"
      ],
      "execution_count": 8,
      "outputs": []
    },
    {
      "cell_type": "code",
      "metadata": {
        "id": "v2GCZVUarzQe",
        "colab_type": "code",
        "colab": {
          "base_uri": "https://localhost:8080/",
          "height": 34
        },
        "outputId": "c24c948d-6a38-424f-a5df-5c23b65147b1"
      },
      "source": [
        "import tensorflow as tf\n",
        "from tensorflow.keras.models import Model\n",
        "from tensorflow.keras.layers import Layer, Dense, Embedding, GRU\n",
        "from tensorflow.keras.losses import SparseCategoricalCrossentropy\n",
        "from tensorflow.keras.metrics import Accuracy\n",
        "from tensorflow.keras.optimizers import Adam\n",
        "from tensorflow.train import Checkpoint, CheckpointManager\n",
        "\n",
        "from tensorflow.keras.applications import InceptionV3, inception_v3\n",
        "\n",
        "print(tf.__version__)"
      ],
      "execution_count": 9,
      "outputs": [
        {
          "output_type": "stream",
          "text": [
            "2.3.0\n"
          ],
          "name": "stdout"
        }
      ]
    },
    {
      "cell_type": "markdown",
      "metadata": {
        "id": "7F1hTw5SrwMD",
        "colab_type": "text"
      },
      "source": [
        "# Prepare Data"
      ]
    },
    {
      "cell_type": "code",
      "metadata": {
        "id": "c4SbGSiGrvPG",
        "colab_type": "code",
        "colab": {}
      },
      "source": [
        "image_folder = 'train2014/'\n",
        "annotation_file = 'annotations/captions_train2014.json'\n",
        "\n",
        "with open(annotation_file) as ref_file:\n",
        "  annotations = json.load(ref_file)\n",
        "annotations = annotations['annotations']"
      ],
      "execution_count": 10,
      "outputs": []
    },
    {
      "cell_type": "code",
      "metadata": {
        "id": "9GgLreLc5bcD",
        "colab_type": "code",
        "colab": {}
      },
      "source": [
        "SAMPLES_NUM = 30000\n",
        "captions_list = np.random.choice(annotations, size = SAMPLES_NUM)"
      ],
      "execution_count": 23,
      "outputs": []
    },
    {
      "cell_type": "code",
      "metadata": {
        "id": "eZn1BdWz1lyi",
        "colab_type": "code",
        "colab": {}
      },
      "source": [
        "def get_img_name(img_id):\n",
        "  return 'COCO_train2014_{:012d}.jpg'.format(img_id)\n",
        "\n",
        "captions, image_paths = [], []\n",
        "for caption_item in captions_list:\n",
        "  img_path = image_folder + get_img_name(caption_item['image_id'])\n",
        "  image_paths.append(img_path)\n",
        "  captions.append(caption_item['caption'])"
      ],
      "execution_count": 24,
      "outputs": []
    },
    {
      "cell_type": "markdown",
      "metadata": {
        "id": "NLIXER9z6VaD",
        "colab_type": "text"
      },
      "source": [
        "# Data Processing"
      ]
    },
    {
      "cell_type": "markdown",
      "metadata": {
        "id": "juwXvj7eUr1C",
        "colab_type": "text"
      },
      "source": [
        "## Image Feature Extraction"
      ]
    },
    {
      "cell_type": "code",
      "metadata": {
        "id": "HD9Ki6pKU9mK",
        "colab_type": "code",
        "colab": {}
      },
      "source": [
        "def process_image(img):\n",
        "  res_img = tf.image.resize(img, size =(299, 299))\n",
        "  return inception_v3.preprocess_input(res_img)\n",
        "\n",
        "def read_image(img_path):\n",
        "  img = tf.io.read_file(img_path)\n",
        "  img = tf.image.decode_jpeg(img, channels = 3)\n",
        "  return process_image(img), img_path\n",
        "\n",
        "def create_feature_extractor():\n",
        "  model = InceptionV3(include_top=False, weights = 'imagenet')\n",
        "  input = model.input\n",
        "  output = model.layers[-1].output\n",
        "  feature_extractor = Model(inputs = input, outputs = output)\n",
        "  return feature_extractor\n",
        "\n",
        "feature_extractor = create_feature_extractor()"
      ],
      "execution_count": 25,
      "outputs": []
    },
    {
      "cell_type": "markdown",
      "metadata": {
        "id": "vvQw6DEnfmsy",
        "colab_type": "text"
      },
      "source": [
        "Load the images, extract features using inception_v3 and save the results on the desk. The reasons of doing this are: \n",
        "*  Use tensorflow parallel computing abilities to load the images\n",
        "*  Reduce the amount of computations required during training by extracting features from images at early stage\n"
      ]
    },
    {
      "cell_type": "code",
      "metadata": {
        "id": "lbqNxfZSgnWA",
        "colab_type": "code",
        "colab": {}
      },
      "source": [
        "unique_image_paths = sorted(set(image_paths))\n",
        "image_ds = tf.data.Dataset.from_tensor_slices(unique_image_paths)\n",
        "image_ds = image_ds.map(\n",
        "    read_image, num_parallel_calls = tf.data.experimental.AUTOTUNE\n",
        ").batch(32)\n",
        "\n",
        "for imgs_batch, path_batch in image_ds:\n",
        "  img_features_batch = feature_extractor(imgs_batch)\n",
        "  img_features_batch = tf.reshape(img_features_batch, shape = (\n",
        "      img_features_batch.shape[0], img_features_batch.shape[1] * img_features_batch.shape[2], -1,\n",
        "  ))\n",
        "\n",
        "  for img_features, path in zip(img_features_batch, path_batch):\n",
        "    img_path = path.numpy().decode('utf-8')\n",
        "    np.save(img_path, img_features)"
      ],
      "execution_count": 26,
      "outputs": []
    },
    {
      "cell_type": "markdown",
      "metadata": {
        "id": "FSGG8PB9UsJN",
        "colab_type": "text"
      },
      "source": [
        "##Caption Preprocessing"
      ]
    },
    {
      "cell_type": "code",
      "metadata": {
        "id": "JbOqBtOq6N86",
        "colab_type": "code",
        "colab": {}
      },
      "source": [
        "captions = ['<start> ' + caption + ' <end>' for caption in captions]"
      ],
      "execution_count": 27,
      "outputs": []
    },
    {
      "cell_type": "code",
      "metadata": {
        "id": "GO9tqZIZ6Umr",
        "colab_type": "code",
        "colab": {}
      },
      "source": [
        "words_num = 5000\n",
        "tokenizer = tf.keras.preprocessing.text.Tokenizer(\n",
        "    num_words = words_num,\n",
        "    filters = '!\"#$%&()*+.,-/:;=?@[\\]^_`{|}~ ',\n",
        "    oov_token = '<unk>',\n",
        ")\n",
        "tokenizer.fit_on_texts(captions)\n",
        "tokenizer.word_index['<pad>'] = 0\n",
        "tokenizer.index_word[0] = '<pad>'\n",
        "\n",
        "captions_seqs = tokenizer.texts_to_sequences(captions)\n",
        "captions_seqs = tf.keras.preprocessing.sequence.pad_sequences(\n",
        "    captions_seqs, \n",
        "    padding = 'post',\n",
        ")"
      ],
      "execution_count": 28,
      "outputs": []
    },
    {
      "cell_type": "markdown",
      "metadata": {
        "id": "IRxoXRWxs6DH",
        "colab_type": "text"
      },
      "source": [
        "## Creating Train/Test Datasets"
      ]
    },
    {
      "cell_type": "code",
      "metadata": {
        "id": "_e4vNKIgtLdF",
        "colab_type": "code",
        "colab": {
          "base_uri": "https://localhost:8080/",
          "height": 34
        },
        "outputId": "18ffbc82-7770-46a5-d7e1-36f5f3ff021e"
      },
      "source": [
        "img_paths_tr, img_paths_val, captions_seqs_tr, captions_seqs_val = train_test_split(\n",
        "    image_paths, captions_seqs, train_size = 0.8,\n",
        ")\n",
        "len(img_paths_tr), len(img_paths_val), len(captions_seqs_tr), len(captions_seqs_val)"
      ],
      "execution_count": 29,
      "outputs": [
        {
          "output_type": "execute_result",
          "data": {
            "text/plain": [
              "(24000, 6000, 24000, 6000)"
            ]
          },
          "metadata": {
            "tags": []
          },
          "execution_count": 29
        }
      ]
    },
    {
      "cell_type": "code",
      "metadata": {
        "id": "CY0RL3w3sYA8",
        "colab_type": "code",
        "colab": {}
      },
      "source": [
        "BATCH_SIZE = 64\n",
        "VOCAB_SIZE = words_num + 1\n",
        "BUFFER_SIZE = 1000\n",
        "\n",
        "def load_img_features(img_path, caption):\n",
        "  path = img_path.decode('utf-8') + '.npy'\n",
        "  return np.load(path), caption\n",
        "\n",
        "train_ds = tf.data.Dataset.from_tensor_slices((img_paths_tr, captions_seqs_tr))\n",
        "train_ds = train_ds.map(\n",
        "    lambda img_path, caption: tf.numpy_function(\n",
        "      load_img_features,  [img_path, caption], [tf.float32, tf.int32],  \n",
        "    ),\n",
        "    num_parallel_calls = tf.data.experimental.AUTOTUNE,\n",
        ")\n",
        "\n",
        "train_ds = train_ds.shuffle(BUFFER_SIZE).batch(BATCH_SIZE)\n",
        "train_ds = train_ds.prefetch(buffer_size = tf.data.experimental.AUTOTUNE)"
      ],
      "execution_count": 30,
      "outputs": []
    },
    {
      "cell_type": "code",
      "metadata": {
        "id": "gZdyQNy9vwL0",
        "colab_type": "code",
        "colab": {
          "base_uri": "https://localhost:8080/",
          "height": 34
        },
        "outputId": "61627908-ce93-4a68-ac82-0b8c12db7edd"
      },
      "source": [
        "sample_img_batch, sample_cap_batch = next(iter(train_ds))\n",
        "sample_img_batch.shape, sample_cap_batch.shape"
      ],
      "execution_count": 31,
      "outputs": [
        {
          "output_type": "execute_result",
          "data": {
            "text/plain": [
              "(TensorShape([64, 64, 2048]), TensorShape([64, 47]))"
            ]
          },
          "metadata": {
            "tags": []
          },
          "execution_count": 31
        }
      ]
    },
    {
      "cell_type": "markdown",
      "metadata": {
        "id": "iC6jZSPsyjUd",
        "colab_type": "text"
      },
      "source": [
        "# Build the Model"
      ]
    },
    {
      "cell_type": "markdown",
      "metadata": {
        "id": "AnymL19pz5yV",
        "colab_type": "text"
      },
      "source": [
        "## Attention Mechanisim"
      ]
    },
    {
      "cell_type": "code",
      "metadata": {
        "id": "-O8z_79D0Xzl",
        "colab_type": "code",
        "colab": {
          "base_uri": "https://localhost:8080/",
          "height": 34
        },
        "outputId": "fb30742b-f7ac-4bbb-f5ba-0f2f25afdf50"
      },
      "source": [
        "class Attention(Model):\n",
        "  def __init__(self, units):\n",
        "    super(Attention, self).__init__()\n",
        "    self.W1 = Dense(units)\n",
        "    self.W2 = Dense(units)\n",
        "    self.V = Dense(1)\n",
        "\n",
        "  def call(self, img_features, hidden_state):\n",
        "    hidden_state = tf.expand_dims(hidden_state, 1)\n",
        "    score = tf.nn.tanh(self.W1(img_features) + self.W2(hidden_state))\n",
        "    score = self.V(score)\n",
        "    attention_weights = tf.nn.softmax(score, axis = 1)\n",
        "    context = attention_weights * img_features\n",
        "    context = tf.reduce_mean(context, axis=1)\n",
        "    return context, attention_weights\n",
        "\n",
        "atten = Attention(20)\n",
        "hstate = tf.random.uniform(shape = [64, 30])\n",
        "context, attention_weights = atten(sample_img_batch, hstate)\n",
        "context.shape, attention_weights.shape"
      ],
      "execution_count": 37,
      "outputs": [
        {
          "output_type": "execute_result",
          "data": {
            "text/plain": [
              "(TensorShape([64, 2048]), TensorShape([64, 64, 1]))"
            ]
          },
          "metadata": {
            "tags": []
          },
          "execution_count": 37
        }
      ]
    },
    {
      "cell_type": "markdown",
      "metadata": {
        "id": "2oStmcxPzuM7",
        "colab_type": "text"
      },
      "source": [
        "## CNN Encoder"
      ]
    },
    {
      "cell_type": "code",
      "metadata": {
        "id": "insrTyAF-m7B",
        "colab_type": "code",
        "colab": {
          "base_uri": "https://localhost:8080/",
          "height": 34
        },
        "outputId": "92a197ad-d60b-4e94-e6cd-f3d106e068c5"
      },
      "source": [
        "class CNNEncoder(Model):\n",
        "  def __init__(self, units):\n",
        "    super(CNNEncoder, self).__init__()\n",
        "    self.fc = Dense(units)\n",
        "\n",
        "  def call(self, x):\n",
        "    y = self.fc(x)\n",
        "    y = tf.nn.relu(y)\n",
        "    return y\n",
        "\n",
        "encoder = CNNEncoder(10)\n",
        "sample_enc_output = encoder(sample_img_batch)\n",
        "sample_enc_output.shape"
      ],
      "execution_count": 38,
      "outputs": [
        {
          "output_type": "execute_result",
          "data": {
            "text/plain": [
              "TensorShape([64, 64, 10])"
            ]
          },
          "metadata": {
            "tags": []
          },
          "execution_count": 38
        }
      ]
    },
    {
      "cell_type": "markdown",
      "metadata": {
        "id": "T4xUjcREzk9S",
        "colab_type": "text"
      },
      "source": [
        "## RNN Decoder"
      ]
    },
    {
      "cell_type": "code",
      "metadata": {
        "id": "RHxc0Njx0Yeq",
        "colab_type": "code",
        "colab": {
          "base_uri": "https://localhost:8080/",
          "height": 34
        },
        "outputId": "b1744bd1-603f-4d0c-8b63-10a0638003a5"
      },
      "source": [
        "class RNNDecoder(Model):\n",
        "  def __init__(self, units, vocab_size, embedding_size,):\n",
        "    super(RNNDecoder, self).__init__()\n",
        "    self.units = units\n",
        "    self.embedding = Embedding(vocab_size, embedding_size)\n",
        "    self.gru = GRU(\n",
        "        units,\n",
        "        return_state = True,\n",
        "        return_sequences = True,\n",
        "        recurrent_initializer = 'glorot_uniform',\n",
        "    )\n",
        "    self.fc1 = Dense(units)\n",
        "    self.fc2 = Dense(vocab_size)\n",
        "    self.attention = Attention(units)\n",
        "\n",
        "\n",
        "  def call(self, x, img_features, hidden_state):\n",
        "    y = self.embedding(x)\n",
        "    context, attention_weights = self.attention(img_features, hidden_state)\n",
        "    context = tf.expand_dims(context, 1)\n",
        "    y = tf.concat([context, y], axis = -1)\n",
        "    y, state = self.gru(y)\n",
        "    y = self.fc1(y)\n",
        "    #y = tf.nn.relu(y)\n",
        "    y = tf.reshape(y, (-1, y.shape[2]))\n",
        "    y = self.fc2(y)\n",
        "    return y, state, attention_weights\n",
        "  \n",
        "  def init_state(self, batch_size):\n",
        "    return tf.zeros((batch_size, self.units))\n",
        "  \n",
        "decoder = RNNDecoder(20, VOCAB_SIZE, 2)\n",
        "sample_hidden_state = decoder.init_state(BATCH_SIZE)\n",
        "decoder_input = tf.expand_dims(sample_cap_batch[:, 0], 1)\n",
        "sample_dec_output, sample_state, attention_weights = decoder(decoder_input, sample_enc_output, sample_hidden_state)\n",
        "sample_dec_output.shape, sample_state.shape, attention_weights.shape\n"
      ],
      "execution_count": 50,
      "outputs": [
        {
          "output_type": "execute_result",
          "data": {
            "text/plain": [
              "(TensorShape([64, 5001]), TensorShape([64, 20]), TensorShape([64, 64, 1]))"
            ]
          },
          "metadata": {
            "tags": []
          },
          "execution_count": 50
        }
      ]
    },
    {
      "cell_type": "markdown",
      "metadata": {
        "id": "TUgVLPuU0Pd_",
        "colab_type": "text"
      },
      "source": [
        "## Loss Function"
      ]
    },
    {
      "cell_type": "code",
      "metadata": {
        "id": "_bNdCqS_0JKU",
        "colab_type": "code",
        "colab": {}
      },
      "source": [
        "optimizer = Adam()\n",
        "loss_objective = SparseCategoricalCrossentropy(from_logits=True, reduction='none')\n",
        "\n",
        "def loss_function(y_true, y_hat):\n",
        "  mask = tf.math.logical_not(tf.math.equal(y_true, 0))\n",
        "  loss_ = loss_objective(y_true, y_hat)\n",
        "  mask = tf.cast(mask, dtype = loss_.dtype)\n",
        "  loss_ *= mask\n",
        "  return tf.reduce_mean(loss_)"
      ],
      "execution_count": 51,
      "outputs": []
    },
    {
      "cell_type": "markdown",
      "metadata": {
        "id": "uR4mYvcs_d6X",
        "colab_type": "text"
      },
      "source": [
        "## Checkpoints"
      ]
    },
    {
      "cell_type": "code",
      "metadata": {
        "id": "0dzWNBxb0Icp",
        "colab_type": "code",
        "colab": {}
      },
      "source": [
        "ckpt_folder = 'checkpoints'\n",
        "ckpt = Checkpoint(encoder = encoder, decoder = decoder, optimizer = optimizer)\n",
        "ckpt_manager = CheckpointManager(ckpt, ckpt_folder, max_to_keep = 5)\n",
        "\n",
        "start_epoch = 0\n",
        "if ckpt_manager.latest_checkpoint:\n",
        "  start_epoch = int(ckpt_manager.latest_checkpoint.split('-')[-1])\n",
        "  ckpt.restore(ckpt_manager.latest_checkpoint)"
      ],
      "execution_count": 52,
      "outputs": []
    },
    {
      "cell_type": "markdown",
      "metadata": {
        "id": "wzeyBvSJ0EG0",
        "colab_type": "text"
      },
      "source": [
        "## Training"
      ]
    },
    {
      "cell_type": "code",
      "metadata": {
        "id": "r5IEbjwvBhPp",
        "colab_type": "code",
        "colab": {}
      },
      "source": [
        "embedding_dim = 256\n",
        "units = 512\n",
        "\n",
        "encoder = CNNEncoder(units)\n",
        "decoder = RNNDecoder(units, VOCAB_SIZE, embedding_dim)"
      ],
      "execution_count": 57,
      "outputs": []
    },
    {
      "cell_type": "code",
      "metadata": {
        "id": "wvOfSEoD3GGf",
        "colab_type": "code",
        "colab": {
          "base_uri": "https://localhost:8080/",
          "height": 1000
        },
        "outputId": "f59f3b92-ce73-4751-e556-2fd95254b6ca"
      },
      "source": [
        "@tf.function\n",
        "def train_step(img_features, caption_seqs):\n",
        "  loss = 0\n",
        "\n",
        "  dec_state = decoder.init_state(BATCH_SIZE)\n",
        "  start_token_id = tokenizer.word_index['<start>']\n",
        "  dec_input_seq = tf.expand_dims([start_token_id] * BATCH_SIZE, 1)\n",
        "\n",
        "  with tf.GradientTape() as tape:\n",
        "    enc_output = encoder(img_features)\n",
        "\n",
        "    for t in range(1, caption_seqs.shape[1]):\n",
        "      dec_output, dec_state, _ = decoder(dec_input_seq, enc_output, dec_state)\n",
        "      loss += loss_function(caption_seqs[:, t], dec_output)\n",
        "      dec_input_seq = tf.expand_dims(caption_seqs[:, t], 1)\n",
        "  \n",
        "  total_loss = loss / caption_seqs.shape[1]\n",
        "  variables = encoder.trainable_variables + decoder.trainable_variables\n",
        "  grads = tape.gradient(loss, variables)\n",
        "  optimizer.apply_gradients(zip(grads, variables))\n",
        "\n",
        "  return loss, total_loss\n",
        "\n",
        "def train(epochs_num = 20):\n",
        "  steps_num = len(captions) // BATCH_SIZE\n",
        "  loss_list = []\n",
        "  for epoch in range(1, epochs_num + 1 ):\n",
        "    total_loss = 0\n",
        "    start = time.time()\n",
        "    for batch, (img_features, caption_seqs) in enumerate(train_ds):\n",
        "      batch_loss, t_loss = train_step(img_features, caption_seqs)\n",
        "      total_loss += t_loss\n",
        "\n",
        "      if batch % 100 == 0:\n",
        "        msg = 'Epoch {} Batch {} Loss {:.4f}'.format(epoch, batch, batch_loss.numpy() / int(caption_seqs.shape[1]))\n",
        "        print(msg)\n",
        "\n",
        "    loss_list.append(total_loss / steps_num)\n",
        "\n",
        "    if epoch % 5 == 0:\n",
        "      ckpt_manager.save()\n",
        "\n",
        "    print ('Epoch {} Loss {:.6f}'.format(epoch, total_loss / steps_num))\n",
        "    print ('Time taken for 1 epoch {:.4f} sec\\n'.format(time.time() - start))\n",
        "  return loss_list\n",
        "\n",
        "history = train()\n"
      ],
      "execution_count": 58,
      "outputs": [
        {
          "output_type": "stream",
          "text": [
            "Epoch 1 Batch 0 Loss 2.0473\n",
            "Epoch 1 Batch 100 Loss 1.1027\n",
            "Epoch 1 Batch 200 Loss 1.0608\n",
            "Epoch 1 Batch 300 Loss 1.0760\n",
            "Epoch 1 Loss 0.855644\n",
            "Time taken for 1 epoch 374.8619 sec\n",
            "\n",
            "Epoch 2 Batch 0 Loss 0.9333\n",
            "Epoch 2 Batch 100 Loss 0.9229\n",
            "Epoch 2 Batch 200 Loss 0.8776\n",
            "Epoch 2 Batch 300 Loss 0.7854\n",
            "Epoch 2 Loss 0.694477\n",
            "Time taken for 1 epoch 368.8265 sec\n",
            "\n",
            "Epoch 3 Batch 0 Loss 0.7892\n",
            "Epoch 3 Batch 100 Loss 0.7199\n",
            "Epoch 3 Batch 200 Loss 0.7708\n",
            "Epoch 3 Batch 300 Loss 0.7811\n",
            "Epoch 3 Loss 0.635302\n",
            "Time taken for 1 epoch 368.3240 sec\n",
            "\n",
            "Epoch 4 Batch 0 Loss 0.7899\n",
            "Epoch 4 Batch 100 Loss 0.7695\n",
            "Epoch 4 Batch 200 Loss 0.7490\n",
            "Epoch 4 Batch 300 Loss 0.7212\n",
            "Epoch 4 Loss 0.601786\n",
            "Time taken for 1 epoch 366.4582 sec\n",
            "\n",
            "Epoch 5 Batch 0 Loss 0.7043\n",
            "Epoch 5 Batch 100 Loss 0.6861\n",
            "Epoch 5 Batch 200 Loss 0.7221\n",
            "Epoch 5 Batch 300 Loss 0.7136\n",
            "Epoch 5 Loss 0.577581\n",
            "Time taken for 1 epoch 366.4799 sec\n",
            "\n",
            "Epoch 6 Batch 0 Loss 0.7256\n",
            "Epoch 6 Batch 100 Loss 0.6347\n",
            "Epoch 6 Batch 200 Loss 0.6851\n",
            "Epoch 6 Batch 300 Loss 0.7117\n",
            "Epoch 6 Loss 0.557554\n",
            "Time taken for 1 epoch 365.0034 sec\n",
            "\n",
            "Epoch 7 Batch 0 Loss 0.7474\n",
            "Epoch 7 Batch 100 Loss 0.6570\n",
            "Epoch 7 Batch 200 Loss 0.6839\n",
            "Epoch 7 Batch 300 Loss 0.7279\n",
            "Epoch 7 Loss 0.540920\n",
            "Time taken for 1 epoch 366.2619 sec\n",
            "\n",
            "Epoch 8 Batch 0 Loss 0.6864\n",
            "Epoch 8 Batch 100 Loss 0.6277\n",
            "Epoch 8 Batch 200 Loss 0.6684\n",
            "Epoch 8 Batch 300 Loss 0.6148\n",
            "Epoch 8 Loss 0.525761\n",
            "Time taken for 1 epoch 365.8433 sec\n",
            "\n",
            "Epoch 9 Batch 0 Loss 0.6513\n",
            "Epoch 9 Batch 100 Loss 0.6002\n",
            "Epoch 9 Batch 200 Loss 0.6454\n",
            "Epoch 9 Batch 300 Loss 0.6366\n",
            "Epoch 9 Loss 0.511985\n",
            "Time taken for 1 epoch 367.0567 sec\n",
            "\n",
            "Epoch 10 Batch 0 Loss 0.6281\n",
            "Epoch 10 Batch 100 Loss 0.5882\n",
            "Epoch 10 Batch 200 Loss 0.6228\n",
            "Epoch 10 Batch 300 Loss 0.6515\n",
            "Epoch 10 Loss 0.498817\n",
            "Time taken for 1 epoch 365.6744 sec\n",
            "\n",
            "Epoch 11 Batch 0 Loss 0.6667\n",
            "Epoch 11 Batch 100 Loss 0.5838\n",
            "Epoch 11 Batch 200 Loss 0.5565\n",
            "Epoch 11 Batch 300 Loss 0.6020\n",
            "Epoch 11 Loss 0.485805\n",
            "Time taken for 1 epoch 364.5843 sec\n",
            "\n",
            "Epoch 12 Batch 0 Loss 0.5700\n",
            "Epoch 12 Batch 100 Loss 0.5881\n",
            "Epoch 12 Batch 200 Loss 0.5770\n",
            "Epoch 12 Batch 300 Loss 0.5632\n",
            "Epoch 12 Loss 0.473240\n",
            "Time taken for 1 epoch 365.3703 sec\n",
            "\n",
            "Epoch 13 Batch 0 Loss 0.5786\n",
            "Epoch 13 Batch 100 Loss 0.5983\n",
            "Epoch 13 Batch 200 Loss 0.5343\n",
            "Epoch 13 Batch 300 Loss 0.5467\n",
            "Epoch 13 Loss 0.461439\n",
            "Time taken for 1 epoch 367.1240 sec\n",
            "\n",
            "Epoch 14 Batch 0 Loss 0.6076\n",
            "Epoch 14 Batch 100 Loss 0.5144\n",
            "Epoch 14 Batch 200 Loss 0.5448\n",
            "Epoch 14 Batch 300 Loss 0.5354\n",
            "Epoch 14 Loss 0.449943\n",
            "Time taken for 1 epoch 366.4347 sec\n",
            "\n",
            "Epoch 15 Batch 0 Loss 0.5381\n",
            "Epoch 15 Batch 100 Loss 0.5511\n",
            "Epoch 15 Batch 200 Loss 0.5553\n",
            "Epoch 15 Batch 300 Loss 0.5138\n",
            "Epoch 15 Loss 0.438007\n",
            "Time taken for 1 epoch 367.0530 sec\n",
            "\n",
            "Epoch 16 Batch 0 Loss 0.5483\n",
            "Epoch 16 Batch 100 Loss 0.5308\n",
            "Epoch 16 Batch 200 Loss 0.5302\n",
            "Epoch 16 Batch 300 Loss 0.5656\n",
            "Epoch 16 Loss 0.427352\n",
            "Time taken for 1 epoch 366.8579 sec\n",
            "\n",
            "Epoch 17 Batch 0 Loss 0.5334\n",
            "Epoch 17 Batch 100 Loss 0.4762\n"
          ],
          "name": "stdout"
        },
        {
          "output_type": "error",
          "ename": "KeyboardInterrupt",
          "evalue": "ignored",
          "traceback": [
            "\u001b[0;31m---------------------------------------------------------------------------\u001b[0m",
            "\u001b[0;31mKeyboardInterrupt\u001b[0m                         Traceback (most recent call last)",
            "\u001b[0;32m<ipython-input-58-fba1aa86457f>\u001b[0m in \u001b[0;36m<module>\u001b[0;34m()\u001b[0m\n\u001b[1;32m     45\u001b[0m   \u001b[0;32mreturn\u001b[0m \u001b[0mloss_list\u001b[0m\u001b[0;34m\u001b[0m\u001b[0;34m\u001b[0m\u001b[0m\n\u001b[1;32m     46\u001b[0m \u001b[0;34m\u001b[0m\u001b[0m\n\u001b[0;32m---> 47\u001b[0;31m \u001b[0mhistory\u001b[0m \u001b[0;34m=\u001b[0m \u001b[0mtrain\u001b[0m\u001b[0;34m(\u001b[0m\u001b[0;34m)\u001b[0m\u001b[0;34m\u001b[0m\u001b[0;34m\u001b[0m\u001b[0m\n\u001b[0m",
            "\u001b[0;32m<ipython-input-58-fba1aa86457f>\u001b[0m in \u001b[0;36mtrain\u001b[0;34m(epochs_num)\u001b[0m\n\u001b[1;32m     28\u001b[0m     \u001b[0mtotal_loss\u001b[0m \u001b[0;34m=\u001b[0m \u001b[0;36m0\u001b[0m\u001b[0;34m\u001b[0m\u001b[0;34m\u001b[0m\u001b[0m\n\u001b[1;32m     29\u001b[0m     \u001b[0mstart\u001b[0m \u001b[0;34m=\u001b[0m \u001b[0mtime\u001b[0m\u001b[0;34m.\u001b[0m\u001b[0mtime\u001b[0m\u001b[0;34m(\u001b[0m\u001b[0;34m)\u001b[0m\u001b[0;34m\u001b[0m\u001b[0;34m\u001b[0m\u001b[0m\n\u001b[0;32m---> 30\u001b[0;31m     \u001b[0;32mfor\u001b[0m \u001b[0mbatch\u001b[0m\u001b[0;34m,\u001b[0m \u001b[0;34m(\u001b[0m\u001b[0mimg_features\u001b[0m\u001b[0;34m,\u001b[0m \u001b[0mcaption_seqs\u001b[0m\u001b[0;34m)\u001b[0m \u001b[0;32min\u001b[0m \u001b[0menumerate\u001b[0m\u001b[0;34m(\u001b[0m\u001b[0mtrain_ds\u001b[0m\u001b[0;34m)\u001b[0m\u001b[0;34m:\u001b[0m\u001b[0;34m\u001b[0m\u001b[0;34m\u001b[0m\u001b[0m\n\u001b[0m\u001b[1;32m     31\u001b[0m       \u001b[0mbatch_loss\u001b[0m\u001b[0;34m,\u001b[0m \u001b[0mt_loss\u001b[0m \u001b[0;34m=\u001b[0m \u001b[0mtrain_step\u001b[0m\u001b[0;34m(\u001b[0m\u001b[0mimg_features\u001b[0m\u001b[0;34m,\u001b[0m \u001b[0mcaption_seqs\u001b[0m\u001b[0;34m)\u001b[0m\u001b[0;34m\u001b[0m\u001b[0;34m\u001b[0m\u001b[0m\n\u001b[1;32m     32\u001b[0m       \u001b[0mtotal_loss\u001b[0m \u001b[0;34m+=\u001b[0m \u001b[0mt_loss\u001b[0m\u001b[0;34m\u001b[0m\u001b[0;34m\u001b[0m\u001b[0m\n",
            "\u001b[0;32m/usr/local/lib/python3.6/dist-packages/tensorflow/python/data/ops/iterator_ops.py\u001b[0m in \u001b[0;36m__next__\u001b[0;34m(self)\u001b[0m\n\u001b[1;32m    734\u001b[0m \u001b[0;34m\u001b[0m\u001b[0m\n\u001b[1;32m    735\u001b[0m   \u001b[0;32mdef\u001b[0m \u001b[0m__next__\u001b[0m\u001b[0;34m(\u001b[0m\u001b[0mself\u001b[0m\u001b[0;34m)\u001b[0m\u001b[0;34m:\u001b[0m  \u001b[0;31m# For Python 3 compatibility\u001b[0m\u001b[0;34m\u001b[0m\u001b[0;34m\u001b[0m\u001b[0m\n\u001b[0;32m--> 736\u001b[0;31m     \u001b[0;32mreturn\u001b[0m \u001b[0mself\u001b[0m\u001b[0;34m.\u001b[0m\u001b[0mnext\u001b[0m\u001b[0;34m(\u001b[0m\u001b[0;34m)\u001b[0m\u001b[0;34m\u001b[0m\u001b[0;34m\u001b[0m\u001b[0m\n\u001b[0m\u001b[1;32m    737\u001b[0m \u001b[0;34m\u001b[0m\u001b[0m\n\u001b[1;32m    738\u001b[0m   \u001b[0;32mdef\u001b[0m \u001b[0m_next_internal\u001b[0m\u001b[0;34m(\u001b[0m\u001b[0mself\u001b[0m\u001b[0;34m)\u001b[0m\u001b[0;34m:\u001b[0m\u001b[0;34m\u001b[0m\u001b[0;34m\u001b[0m\u001b[0m\n",
            "\u001b[0;32m/usr/local/lib/python3.6/dist-packages/tensorflow/python/data/ops/iterator_ops.py\u001b[0m in \u001b[0;36mnext\u001b[0;34m(self)\u001b[0m\n\u001b[1;32m    770\u001b[0m   \u001b[0;32mdef\u001b[0m \u001b[0mnext\u001b[0m\u001b[0;34m(\u001b[0m\u001b[0mself\u001b[0m\u001b[0;34m)\u001b[0m\u001b[0;34m:\u001b[0m\u001b[0;34m\u001b[0m\u001b[0;34m\u001b[0m\u001b[0m\n\u001b[1;32m    771\u001b[0m     \u001b[0;32mtry\u001b[0m\u001b[0;34m:\u001b[0m\u001b[0;34m\u001b[0m\u001b[0;34m\u001b[0m\u001b[0m\n\u001b[0;32m--> 772\u001b[0;31m       \u001b[0;32mreturn\u001b[0m \u001b[0mself\u001b[0m\u001b[0;34m.\u001b[0m\u001b[0m_next_internal\u001b[0m\u001b[0;34m(\u001b[0m\u001b[0;34m)\u001b[0m\u001b[0;34m\u001b[0m\u001b[0;34m\u001b[0m\u001b[0m\n\u001b[0m\u001b[1;32m    773\u001b[0m     \u001b[0;32mexcept\u001b[0m \u001b[0merrors\u001b[0m\u001b[0;34m.\u001b[0m\u001b[0mOutOfRangeError\u001b[0m\u001b[0;34m:\u001b[0m\u001b[0;34m\u001b[0m\u001b[0;34m\u001b[0m\u001b[0m\n\u001b[1;32m    774\u001b[0m       \u001b[0;32mraise\u001b[0m \u001b[0mStopIteration\u001b[0m\u001b[0;34m\u001b[0m\u001b[0;34m\u001b[0m\u001b[0m\n",
            "\u001b[0;32m/usr/local/lib/python3.6/dist-packages/tensorflow/python/data/ops/iterator_ops.py\u001b[0m in \u001b[0;36m_next_internal\u001b[0;34m(self)\u001b[0m\n\u001b[1;32m    756\u001b[0m             \u001b[0mself\u001b[0m\u001b[0;34m.\u001b[0m\u001b[0m_iterator_resource\u001b[0m\u001b[0;34m,\u001b[0m\u001b[0;34m\u001b[0m\u001b[0;34m\u001b[0m\u001b[0m\n\u001b[1;32m    757\u001b[0m             \u001b[0moutput_types\u001b[0m\u001b[0;34m=\u001b[0m\u001b[0mself\u001b[0m\u001b[0;34m.\u001b[0m\u001b[0m_flat_output_types\u001b[0m\u001b[0;34m,\u001b[0m\u001b[0;34m\u001b[0m\u001b[0;34m\u001b[0m\u001b[0m\n\u001b[0;32m--> 758\u001b[0;31m             output_shapes=self._flat_output_shapes)\n\u001b[0m\u001b[1;32m    759\u001b[0m \u001b[0;34m\u001b[0m\u001b[0m\n\u001b[1;32m    760\u001b[0m       \u001b[0;32mtry\u001b[0m\u001b[0;34m:\u001b[0m\u001b[0;34m\u001b[0m\u001b[0;34m\u001b[0m\u001b[0m\n",
            "\u001b[0;32m/usr/local/lib/python3.6/dist-packages/tensorflow/python/ops/gen_dataset_ops.py\u001b[0m in \u001b[0;36miterator_get_next\u001b[0;34m(iterator, output_types, output_shapes, name)\u001b[0m\n\u001b[1;32m   2605\u001b[0m         \u001b[0m_ctx\u001b[0m\u001b[0;34m.\u001b[0m\u001b[0m_context_handle\u001b[0m\u001b[0;34m,\u001b[0m \u001b[0mtld\u001b[0m\u001b[0;34m.\u001b[0m\u001b[0mdevice_name\u001b[0m\u001b[0;34m,\u001b[0m \u001b[0;34m\"IteratorGetNext\"\u001b[0m\u001b[0;34m,\u001b[0m \u001b[0mname\u001b[0m\u001b[0;34m,\u001b[0m\u001b[0;34m\u001b[0m\u001b[0;34m\u001b[0m\u001b[0m\n\u001b[1;32m   2606\u001b[0m         \u001b[0mtld\u001b[0m\u001b[0;34m.\u001b[0m\u001b[0mop_callbacks\u001b[0m\u001b[0;34m,\u001b[0m \u001b[0miterator\u001b[0m\u001b[0;34m,\u001b[0m \u001b[0;34m\"output_types\"\u001b[0m\u001b[0;34m,\u001b[0m \u001b[0moutput_types\u001b[0m\u001b[0;34m,\u001b[0m\u001b[0;34m\u001b[0m\u001b[0;34m\u001b[0m\u001b[0m\n\u001b[0;32m-> 2607\u001b[0;31m         \"output_shapes\", output_shapes)\n\u001b[0m\u001b[1;32m   2608\u001b[0m       \u001b[0;32mreturn\u001b[0m \u001b[0m_result\u001b[0m\u001b[0;34m\u001b[0m\u001b[0;34m\u001b[0m\u001b[0m\n\u001b[1;32m   2609\u001b[0m     \u001b[0;32mexcept\u001b[0m \u001b[0m_core\u001b[0m\u001b[0;34m.\u001b[0m\u001b[0m_NotOkStatusException\u001b[0m \u001b[0;32mas\u001b[0m \u001b[0me\u001b[0m\u001b[0;34m:\u001b[0m\u001b[0;34m\u001b[0m\u001b[0;34m\u001b[0m\u001b[0m\n",
            "\u001b[0;31mKeyboardInterrupt\u001b[0m: "
          ]
        }
      ]
    },
    {
      "cell_type": "code",
      "metadata": {
        "id": "zeV0oJyZ3Oic",
        "colab_type": "code",
        "colab": {
          "base_uri": "https://localhost:8080/",
          "height": 215
        },
        "outputId": "60f08b29-b07a-4dc8-c97e-a669725e2152"
      },
      "source": [
        "plt.plot(history)\n",
        "plt.xlabel('epochs')\n",
        "plt.ylabel('Loss')\n",
        "plt.show()"
      ],
      "execution_count": 59,
      "outputs": [
        {
          "output_type": "error",
          "ename": "NameError",
          "evalue": "ignored",
          "traceback": [
            "\u001b[0;31m---------------------------------------------------------------------------\u001b[0m",
            "\u001b[0;31mNameError\u001b[0m                                 Traceback (most recent call last)",
            "\u001b[0;32m<ipython-input-59-bf06df2c61ea>\u001b[0m in \u001b[0;36m<module>\u001b[0;34m()\u001b[0m\n\u001b[0;32m----> 1\u001b[0;31m \u001b[0mplt\u001b[0m\u001b[0;34m.\u001b[0m\u001b[0mplot\u001b[0m\u001b[0;34m(\u001b[0m\u001b[0mhistory\u001b[0m\u001b[0;34m)\u001b[0m\u001b[0;34m\u001b[0m\u001b[0;34m\u001b[0m\u001b[0m\n\u001b[0m\u001b[1;32m      2\u001b[0m \u001b[0mplt\u001b[0m\u001b[0;34m.\u001b[0m\u001b[0mxlabel\u001b[0m\u001b[0;34m(\u001b[0m\u001b[0;34m'epochs'\u001b[0m\u001b[0;34m)\u001b[0m\u001b[0;34m\u001b[0m\u001b[0;34m\u001b[0m\u001b[0m\n\u001b[1;32m      3\u001b[0m \u001b[0mplt\u001b[0m\u001b[0;34m.\u001b[0m\u001b[0mylabel\u001b[0m\u001b[0;34m(\u001b[0m\u001b[0;34m'Loss'\u001b[0m\u001b[0;34m)\u001b[0m\u001b[0;34m\u001b[0m\u001b[0;34m\u001b[0m\u001b[0m\n\u001b[1;32m      4\u001b[0m \u001b[0mplt\u001b[0m\u001b[0;34m.\u001b[0m\u001b[0mshow\u001b[0m\u001b[0;34m(\u001b[0m\u001b[0;34m)\u001b[0m\u001b[0;34m\u001b[0m\u001b[0;34m\u001b[0m\u001b[0m\n",
            "\u001b[0;31mNameError\u001b[0m: name 'history' is not defined"
          ]
        }
      ]
    },
    {
      "cell_type": "markdown",
      "metadata": {
        "id": "OR0O79qr0IDm",
        "colab_type": "text"
      },
      "source": [
        "# Evaluation"
      ]
    },
    {
      "cell_type": "code",
      "metadata": {
        "id": "ejWqIuncMkPG",
        "colab_type": "code",
        "colab": {}
      },
      "source": [
        "def generate_caption(img_path, max_length = 40):\n",
        "  caption = []\n",
        "  attentions_dict = {}\n",
        "\n",
        "  img, _ = read_image(img_path)\n",
        "  img = tf.expand_dims(img, 0)\n",
        "  img_features = feature_extractor(img)\n",
        "  img_features = tf.reshape(img_features, (img_features.shape[0], -1, img_features.shape[3]))\n",
        "  enc_output = encoder(img_features)\n",
        "\n",
        "  dec_state = decoder.init_state(1)\n",
        "  start_token_ind = tokenizer.word_index['<start>']\n",
        "  dec_input = tf.expand_dims([start_token_ind], 1)\n",
        "\n",
        "  for t in range(max_length):\n",
        "    dec_output, dec_state, attention_weights = decoder(dec_input, enc_output, dec_state)\n",
        "    #word_ind = tf.argmax(dec_output, axis = -1)\n",
        "    word_ind = tf.random.categorical(dec_output, 1)[0][0].numpy()\n",
        "    word = tokenizer.index_word[word_ind]\n",
        "    caption.append(word)\n",
        "    attentions_dict[word] = tf.reshape(attention_weights, (-1, )).numpy()\n",
        "    if word == '<end>':\n",
        "      return caption, attentions_dict\n",
        "    \n",
        "    dec_input = tf.expand_dims([word_ind], 1)\n",
        "  \n",
        "  return caption, attentions_dict\n",
        "\n",
        "def plot_attention(img_path, caption_hat, attentions_dict):\n",
        "  original_img = np.array(plt.imread(img_path))\n",
        "  fig = plt.figure(figsize = (15, 15))\n",
        "  words_num = len(caption_hat)\n",
        "  for i, word in enumerate(caption_hat):\n",
        "    atten_weights = attentions_dict[word]\n",
        "    atten_weights = np.resize(atten_weights, (8, 8))\n",
        "    \n",
        "    ax = fig.add_subplot(words_num // 2, words_num // 2, i + 1)\n",
        "    ax.set_title(word)\n",
        "    img = ax.imshow(original_img)\n",
        "    ax.imshow(atten_weights, cmap = 'gray', alpha = 0.6, extent = img.get_extent())\n",
        "  plt.tight_layout()\n",
        "  plt.show()\n",
        "\n",
        "def evaluate(img_paths, captions, index = -1):\n",
        "  if index == -1:\n",
        "    index = np.random.randint(0, len(captions))\n",
        "  print(index)\n",
        "  img_path = img_paths[index]\n",
        "  caption_true = ' '.join([tokenizer.index_word[i] for i in captions[index] if i not in [0]])\n",
        "  caption_hat, attention_dict = generate_caption(img_path)\n",
        "\n",
        "  print ('Real Caption:', caption_true)\n",
        "  print ('Pred Caption:', ' '.join(caption_hat))\n",
        "  plot_attention(img_path, caption_hat, attention_dict)\n"
      ],
      "execution_count": 87,
      "outputs": []
    },
    {
      "cell_type": "code",
      "metadata": {
        "id": "vpASbQQJNyz-",
        "colab_type": "code",
        "colab": {
          "base_uri": "https://localhost:8080/",
          "height": 614
        },
        "outputId": "daa32912-ad12-40da-b234-614058b50683"
      },
      "source": [
        "evaluate(img_paths_val, captions_seqs_val)"
      ],
      "execution_count": 95,
      "outputs": [
        {
          "output_type": "stream",
          "text": [
            "1514\n",
            "Real Caption: <start> a very <unk> bathroom with a walk in shower <end>\n",
            "Pred Caption: a bathroom that is all snow and a rack in a room <end>\n"
          ],
          "name": "stdout"
        },
        {
          "output_type": "display_data",
          "data": {
            "image/png": "[encoded data removed]",
            "text/plain": [
              "<Figure size 1080x1080 with 13 Axes>"
            ]
          },
          "metadata": {
            "tags": [],
            "needs_background": "light"
          }
        }
      ]
    },
    {
      "cell_type": "code",
      "metadata": {
        "id": "npWhgiDKht_c",
        "colab_type": "code",
        "colab": {}
      },
      "source": [
        ""
      ],
      "execution_count": null,
      "outputs": []
    }
  ]
}