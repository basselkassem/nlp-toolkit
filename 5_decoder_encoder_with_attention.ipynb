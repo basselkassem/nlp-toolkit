{
  "nbformat": 4,
  "nbformat_minor": 0,
  "metadata": {
    "colab": {
      "name": "5-decoder_encoder_with_attention",
      "provenance": [],
      "collapsed_sections": [
        "69IT4zCRLqpz",
        "ReFry90zL18S"
      ],
      "authorship_tag": "ABX9TyOdNer097xnUcOSnoBAnEX8",
      "include_colab_link": true
    },
    "kernelspec": {
      "name": "python3",
      "display_name": "Python 3"
    },
    "accelerator": "GPU"
  },
  "cells": [
    {
      "cell_type": "markdown",
      "metadata": {
        "id": "view-in-github",
        "colab_type": "text"
      },
      "source": [
        "<a href=\"https://colab.research.google.com/github/basselkassem/nlp-toolkit/blob/master/5_decoder_encoder_with_attention.ipynb\" target=\"_parent\"><img src=\"https://colab.research.google.com/assets/colab-badge.svg\" alt=\"Open In Colab\"/></a>"
      ]
    },
    {
      "cell_type": "markdown",
      "metadata": {
        "id": "WLzb2aneGQQh",
        "colab_type": "text"
      },
      "source": [
        "# Import libs"
      ]
    },
    {
      "cell_type": "code",
      "metadata": {
        "id": "oSB5cBhXenGo",
        "colab_type": "code",
        "colab": {
          "base_uri": "https://localhost:8080/",
          "height": 34
        },
        "outputId": "4e7e5bb8-1b71-4a58-b074-27622aee6a65"
      },
      "source": [
        "import tensorflow as tf\n",
        "import numpy as np\n",
        "import matplotlib.pyplot as plt\n",
        "import matplotlib.ticker as ticker\n",
        "import re\n",
        "import time\n",
        "import os\n",
        "from itertools import chain\n",
        "from nltk.tokenize import TreebankWordTokenizer\n",
        "from tensorflow.keras.layers import LSTM, Bidirectional, Embedding, Input, Dense, GRU\n",
        "from tensorflow.keras.models import Model\n",
        "from tensorflow.keras.optimizers import Adam\n",
        "from tensorflow.keras.losses import SparseCategoricalCrossentropy\n",
        "\n",
        "%matplotlib inline\n",
        "print(tf.__version__)"
      ],
      "execution_count": 2,
      "outputs": [
        {
          "output_type": "stream",
          "text": [
            "2.2.0\n"
          ],
          "name": "stdout"
        }
      ]
    },
    {
      "cell_type": "markdown",
      "metadata": {
        "id": "ScfAH_yO_42t",
        "colab_type": "text"
      },
      "source": [
        "# Download and read data"
      ]
    },
    {
      "cell_type": "code",
      "metadata": {
        "id": "3vYwbxBo_9fG",
        "colab_type": "code",
        "colab": {
          "base_uri": "https://localhost:8080/",
          "height": 204
        },
        "outputId": "8f17c5d6-ad39-4a4b-e66f-f40d818d21b2"
      },
      "source": [
        "!wget http://www.manythings.org/anki/ara-eng.zip"
      ],
      "execution_count": 3,
      "outputs": [
        {
          "output_type": "stream",
          "text": [
            "--2020-06-25 17:13:09--  http://www.manythings.org/anki/ara-eng.zip\n",
            "Resolving www.manythings.org (www.manythings.org)... 104.24.108.196, 172.67.173.198, 104.24.109.196, ...\n",
            "Connecting to www.manythings.org (www.manythings.org)|104.24.108.196|:80... connected.\n",
            "HTTP request sent, awaiting response... 200 OK\n",
            "Length: 443921 (434K) [application/zip]\n",
            "Saving to: ‘ara-eng.zip’\n",
            "\n",
            "ara-eng.zip         100%[===================>] 433.52K   504KB/s    in 0.9s    \n",
            "\n",
            "2020-06-25 17:13:11 (504 KB/s) - ‘ara-eng.zip’ saved [443921/443921]\n",
            "\n"
          ],
          "name": "stdout"
        }
      ]
    },
    {
      "cell_type": "code",
      "metadata": {
        "id": "Nmc7ytH5AEiV",
        "colab_type": "code",
        "colab": {}
      },
      "source": [
        "from zipfile import ZipFile\n",
        "with ZipFile('ara-eng.zip', 'r') as zipf:\n",
        "  zipf.extractall()"
      ],
      "execution_count": 4,
      "outputs": []
    },
    {
      "cell_type": "code",
      "metadata": {
        "id": "3yA0vBfcBI-b",
        "colab_type": "code",
        "colab": {
          "base_uri": "https://localhost:8080/",
          "height": 34
        },
        "outputId": "f6bff0ee-4920-4ebc-d08e-80eaac980c5f"
      },
      "source": [
        "def read_data(file_path = 'ara.txt'):\n",
        "  src_senteces, dist_senteces = [], []\n",
        "  for line in open(file_path, 'r', encoding='utf8'):\n",
        "    sentences = line.split('\\t')\n",
        "    src_sent = sentences[0].strip()\n",
        "    dis_sent = sentences[1].strip()\n",
        "    src_senteces.append(src_sent)\n",
        "    dist_senteces.append(dis_sent)\n",
        "  return src_senteces, dist_senteces\n",
        "eng_sentences, ara_sentences = read_data()\n",
        "print(len(eng_sentences), len(ara_sentences))"
      ],
      "execution_count": 5,
      "outputs": [
        {
          "output_type": "stream",
          "text": [
            "11320 11320\n"
          ],
          "name": "stdout"
        }
      ]
    },
    {
      "cell_type": "code",
      "metadata": {
        "id": "ay_X1TOJDmL3",
        "colab_type": "code",
        "colab": {
          "base_uri": "https://localhost:8080/",
          "height": 34
        },
        "outputId": "efb3d634-31e9-4068-a2a4-4eed93833868"
      },
      "source": [
        "ind = np.random.randint(0, len(eng_sentences))\n",
        "print(eng_sentences[ind], ara_sentences[ind])"
      ],
      "execution_count": 6,
      "outputs": [
        {
          "output_type": "stream",
          "text": [
            "That factory makes toys. ذلك المصنع ينتج الألعاب.\n"
          ],
          "name": "stdout"
        }
      ]
    },
    {
      "cell_type": "markdown",
      "metadata": {
        "id": "EzEoACvm5hfk",
        "colab_type": "text"
      },
      "source": [
        "# Global variables"
      ]
    },
    {
      "cell_type": "code",
      "metadata": {
        "id": "szV5U5gH5ude",
        "colab_type": "code",
        "colab": {}
      },
      "source": [
        "START_TOKEN = '<start>'\n",
        "END_TOKEN = '<end>'\n",
        "PAD_TOKEN = '<pad>'\n",
        "\n",
        "BATCH_SIZE = 64\n",
        "LATENT_DIM = 1024\n",
        "EPOCHS = 10\n",
        "DROP_OUT = 0.1\n",
        "\n",
        "ENC_EMBEDDING_DIM = 256\n",
        "DEC_EMBEDDING_DIM = 256"
      ],
      "execution_count": 7,
      "outputs": []
    },
    {
      "cell_type": "markdown",
      "metadata": {
        "id": "3btmDVzI_2mz",
        "colab_type": "text"
      },
      "source": [
        "# Data preprocessing"
      ]
    },
    {
      "cell_type": "code",
      "metadata": {
        "id": "E-3MxbK4EDJP",
        "colab_type": "code",
        "colab": {}
      },
      "source": [
        "ar_pattern = '[^' + 'أ-يَُِّْإًٌٍلإلأ~إأآلآلآـ!?.,' + ']+'\n",
        "en_pattern = '[^' + 'a-zA-Z!?.,' + ']+'"
      ],
      "execution_count": 8,
      "outputs": []
    },
    {
      "cell_type": "code",
      "metadata": {
        "id": "DM0LD2K-F6w9",
        "colab_type": "code",
        "colab": {
          "base_uri": "https://localhost:8080/",
          "height": 51
        },
        "outputId": "418e0d96-0240-432f-9955-ab9d278c31f2"
      },
      "source": [
        "def process_sentence(sentence, lang):\n",
        "  processed_sent = sentence.lower()\n",
        "  if lang == 'ar':\n",
        "    processed_sent = re.sub(ar_pattern, ' ', processed_sent)\n",
        "    return processed_sent.strip()\n",
        "  else:\n",
        "    processed_sent = re.sub(en_pattern, ' ', processed_sent)\n",
        "    return processed_sent.strip()\n",
        "\n",
        "def process_sentences(sentences, lang ='ar'):\n",
        "  processed_sents = [process_sentence(sent, lang) for sent in sentences]\n",
        "  return processed_sents\n",
        "\n",
        "src_sentences = process_sentences(eng_sentences, lang ='en')\n",
        "dist_sentences = process_sentences(ara_sentences, lang ='ar')\n",
        "ind = np.random.randint(0, len(src_sentences))\n",
        "print(src_sentences[ind])\n",
        "print(dist_sentences[ind])"
      ],
      "execution_count": 9,
      "outputs": [
        {
          "output_type": "stream",
          "text": [
            "everything is better without you.\n",
            "كل شي أفضل من دونك.\n"
          ],
          "name": "stdout"
        }
      ]
    },
    {
      "cell_type": "code",
      "metadata": {
        "id": "NZAGOcUUJ7od",
        "colab_type": "code",
        "colab": {}
      },
      "source": [
        "def tokenize(sentences):\n",
        "  tokenizer = TreebankWordTokenizer()\n",
        "  sents = [[START_TOKEN] + tokenizer.tokenize(sentence) + [END_TOKEN] for sentence in sentences]\n",
        "  max_length = np.max([len(sent) for sent in sents])\n",
        "  return sents, max_length\n",
        "\n",
        "def create_word2ind(sentences):\n",
        "  word2ind, ind2word = {}, []\n",
        "  words = chain(*sentences)\n",
        "  vocabs = sorted(set(words), reverse = False)\n",
        "  word2ind[PAD_TOKEN] = 0\n",
        "  ind2word.append(PAD_TOKEN)\n",
        "  for i, word in enumerate(vocabs):\n",
        "    word2ind[word] = i + 1\n",
        "    ind2word.append(word)\n",
        "  return word2ind, ind2word\n",
        "\n",
        "def pad_sentences(sentences, word2ind, max_length):\n",
        "  seqs = []\n",
        "  lengths = []\n",
        "  for sent in sentences:\n",
        "    seq = [word2ind[token] for token in sent] + [0] * (max_length - len(sent))\n",
        "    seqs.append(seq)\n",
        "    lengths.append(len(sent))\n",
        "  return seqs, lengths"
      ],
      "execution_count": 10,
      "outputs": []
    },
    {
      "cell_type": "code",
      "metadata": {
        "id": "dv5ZED3qMtNq",
        "colab_type": "code",
        "colab": {}
      },
      "source": [
        "def create_sequencs(sentences):\n",
        "  seqs, max_len,  = tokenize(sentences)\n",
        "  word2ind, ind2word = create_word2ind(seqs)\n",
        "  seqs, lengths = pad_sentences(seqs, word2ind, max_len)\n",
        "  return seqs, word2ind, ind2word, max_len, lengths\n",
        "\n",
        "src_seqs, src_word2ind, src_ind2word, src_max_len, src_lengths = create_sequencs(src_sentences)\n",
        "dist_seqs, dist_word2ind, dist_ind2word, dist_max_len, dist_lengths = create_sequencs(dist_sentences)"
      ],
      "execution_count": 11,
      "outputs": []
    },
    {
      "cell_type": "code",
      "metadata": {
        "id": "WjZljxDWZAJN",
        "colab_type": "code",
        "colab": {}
      },
      "source": [
        "def convert2text(seqs, ind2word):\n",
        "  sents = []\n",
        "  for seq in seqs:\n",
        "    sent =  []\n",
        "    for ind in seq:\n",
        "      token = ind2word[ind]\n",
        "      if START_TOKEN != token and END_TOKEN!= token and PAD_TOKEN != token:\n",
        "        sent.append(token)\n",
        "    sents.append(' '.join(sent))\n",
        "  return sents"
      ],
      "execution_count": 12,
      "outputs": []
    },
    {
      "cell_type": "code",
      "metadata": {
        "id": "YsJGjWhdQ-LM",
        "colab_type": "code",
        "colab": {}
      },
      "source": [
        "def create_dataset(src_seqs, dist_seqs, batch_size = 64):\n",
        "  buffer_size = len(src_seqs)\n",
        "  dataset = tf.data.Dataset.from_tensor_slices((src_seqs, dist_seqs)).shuffle(buffer_size)\n",
        "  return dataset.batch(batch_size)\n",
        "\n",
        "dataset = create_dataset(src_seqs, dist_seqs, BATCH_SIZE)"
      ],
      "execution_count": 13,
      "outputs": []
    },
    {
      "cell_type": "code",
      "metadata": {
        "id": "df0gczUKqAs4",
        "colab_type": "code",
        "colab": {}
      },
      "source": [
        "src_vocabs_size = len(src_word2ind.keys())\n",
        "dist_vocabs_size = len(dist_word2ind.keys())\n",
        "\n",
        "steps_per_epoch = len(dist_seqs) // BATCH_SIZE\n",
        "sample_src_seqs, sample_dist_seqs = next(iter(dataset))\n",
        "\n",
        "sentences = [\n",
        "  'how to run a car?',\n",
        "  'what kind of food do you like?',\n",
        "  'he comes from syria.',\n",
        "  'he has a lot of money.', \n",
        "  'it is good.', \n",
        "  'do you have friends?',\n",
        "  'it is a nice weather.', \n",
        "  'they are very bad people.',\n",
        "  'do you need help?',\n",
        "]\n",
        "ind = np.random.randint(len(src_sentences))\n",
        "sent2trans = src_sentences[ind]"
      ],
      "execution_count": 81,
      "outputs": []
    },
    {
      "cell_type": "markdown",
      "metadata": {
        "id": "9IkzDhOXfTMc",
        "colab_type": "text"
      },
      "source": [
        "# Encoder decoder architecture"
      ]
    },
    {
      "cell_type": "markdown",
      "metadata": {
        "id": "qTicfdtpfo42",
        "colab_type": "text"
      },
      "source": [
        "\n",
        "## seq2seq\n",
        "The [encoder-decoder architecture](https://arxiv.org/pdf/1406.1078.pdf) is used to encode the input sequece into hidden representation, then decode this representation to ouput sequence.\n",
        "\n",
        "$p(y_1, y_2, ...,y_J|x_1, x_2, ..., x_I) = \\prod_{i=1}^{J}p(y_i|v,x_1,...x_I)$\n",
        "###encoder\n",
        "$\\forall i\\in [1,I]; h_i = f(h_{i-1}, x_i)$, $v = h_I$\n",
        "### decoder\n",
        "$\\forall j\\in [1, J]; s_j = g(s_{j-1}, [y_{i-1}, v] )$\n",
        "### prediction\n",
        "$p(y_j|x_1, x_2, ..., x_I) = softmax(Us_j + b)$"
      ]
    },
    {
      "cell_type": "markdown",
      "metadata": {
        "id": "69IT4zCRLqpz",
        "colab_type": "text"
      },
      "source": [
        "## Encoder-Decoder(GRU)"
      ]
    },
    {
      "cell_type": "code",
      "metadata": {
        "id": "uqhyflgnMDNq",
        "colab_type": "code",
        "colab": {
          "base_uri": "https://localhost:8080/",
          "height": 51
        },
        "outputId": "8f8c7e94-5621-4598-bae5-09fb55c70b7e"
      },
      "source": [
        "class Encoder(Model):\n",
        "  def __init__(self, vocabs_size, embedding_dim, enc_units, batch_size, dp = 0.25):\n",
        "    super(Encoder, self).__init__()\n",
        "    self.units = enc_units\n",
        "    self.batch_size = batch_size\n",
        "    self.embedding = Embedding(input_dim = vocabs_size, output_dim = embedding_dim)\n",
        "    self.nn_layer = GRU(\n",
        "        units = self.units,\n",
        "        return_state = True, \n",
        "        return_sequences = True, \n",
        "        dropout = dp, \n",
        "    )\n",
        "  def call(self, x, init_hidden_state):\n",
        "    x = self.embedding(x)\n",
        "    output, hidden_state = self.nn_layer(x, initial_state = init_hidden_state)\n",
        "    return output, hidden_state\n",
        "  \n",
        "  def init_state(self):\n",
        "    return tf.zeros(( self.batch_size, self.units))\n",
        "\n",
        "encoder = Encoder(src_vocabs_size, ENC_EMBEDDING_DIM, LATENT_DIM, BATCH_SIZE, DROP_OUT)\n",
        "sample_enc_init_state = encoder.init_state()\n",
        "enc_output, enc_state = encoder(sample_src_seqs, sample_enc_init_state)\n",
        "\n",
        "print('encoder output:', enc_output.shape)\n",
        "print('encoder state:', enc_state.shape)"
      ],
      "execution_count": 15,
      "outputs": [
        {
          "output_type": "stream",
          "text": [
            "encoder output: (64, 42, 1024)\n",
            "encoder state: (64, 1024)\n"
          ],
          "name": "stdout"
        }
      ]
    },
    {
      "cell_type": "code",
      "metadata": {
        "id": "yxcPpZXcSk3Z",
        "colab_type": "code",
        "colab": {
          "base_uri": "https://localhost:8080/",
          "height": 51
        },
        "outputId": "ea9afc8a-21ea-4809-ab36-0813434e8c05"
      },
      "source": [
        "class Decoder(Model):\n",
        "  def __init__(self, vocabs_size, embedding_dim, dec_units, batch_size, dp = 0.25):\n",
        "    super(Decoder, self).__init__()\n",
        "    self.units = dec_units\n",
        "    self.batch_size = batch_size\n",
        "\n",
        "    self.embedding = Embedding(input_dim = vocabs_size, output_dim = embedding_dim)\n",
        "    self.nn_layer = GRU(\n",
        "        units = self.units,\n",
        "        return_state = True, \n",
        "        return_sequences = True, \n",
        "        dropout = dp, \n",
        "    )\n",
        "    self.fc = Dense(vocabs_size)\n",
        "  \n",
        "  def call(self, x, dec_state, enc_state):\n",
        "    x = self.embedding(x)\n",
        "    context_vector = tf.expand_dims(enc_state, 1)\n",
        "    x = tf.concat([context_vector, x], axis = -1)\n",
        "    x, state = self.nn_layer(x, initial_state = dec_state)\n",
        "    x = tf.reshape(x, (-1, x.shape[2]))\n",
        "    output = self.fc(x)\n",
        "    return output, state\n",
        "\n",
        "decoder = Decoder(dist_vocabs_size, DEC_EMBEDDING_DIM, LATENT_DIM, BATCH_SIZE, DROP_OUT)\n",
        "dec_output, dec_state = decoder(tf.random.uniform((BATCH_SIZE, 1)), enc_state, enc_state)\n",
        "print('decoder out:', dec_output.shape)\n",
        "print('decoder state:', dec_state.shape)"
      ],
      "execution_count": 25,
      "outputs": [
        {
          "output_type": "stream",
          "text": [
            "decoder out: (64, 11663)\n",
            "decoder state: (64, 1024)\n"
          ],
          "name": "stdout"
        }
      ]
    },
    {
      "cell_type": "code",
      "metadata": {
        "id": "z-BN2wIoiRcP",
        "colab_type": "code",
        "colab": {}
      },
      "source": [
        "optimizer = Adam(learning_rate = 0.001)\n",
        "checkpoint_dir = 'enc-dec-lstm'\n",
        "checkpoint_prefix = os.path.join(checkpoint_dir, 'ckpt')\n",
        "checkpoint = tf.train.Checkpoint(optimizer = optimizer, encoder = encoder, decoder = decoder)"
      ],
      "execution_count": 26,
      "outputs": []
    },
    {
      "cell_type": "code",
      "metadata": {
        "id": "mGU5RPBeggdN",
        "colab_type": "code",
        "colab": {
          "base_uri": "https://localhost:8080/",
          "height": 1000
        },
        "outputId": "f9ac12da-560e-4780-b4ac-474a1d21c6b9"
      },
      "source": [
        "loss_objective = SparseCategoricalCrossentropy(from_logits=True, reduction='none')\n",
        "\n",
        "def loss_func(y_true, y_hat):\n",
        "  mask = tf.math.logical_not(tf.math.equal(y_true, 0))\n",
        "  loss_ = loss_objective(y_true, y_hat)\n",
        "  mask = tf.cast(mask, dtype=loss_.dtype)\n",
        "  loss_ *= mask\n",
        "  return tf.reduce_mean(loss_)\n",
        "\n",
        "@tf.function\n",
        "def train_step(src_seqs, y_true, enc_init_state):\n",
        "  loss = 0\n",
        "  with tf.GradientTape() as tape:\n",
        "    _, enc_state = encoder(src_seqs, enc_init_state)\n",
        "\n",
        "    dec_state = enc_state\n",
        "    dec_input = tf.expand_dims([dist_word2ind[START_TOKEN]] * BATCH_SIZE, 1)\n",
        "\n",
        "    for t in range(1, dist_max_len):\n",
        "      y_hat, dec_state = decoder(dec_input, dec_state, enc_state)\n",
        "      loss += loss_func(y_true[:, t], y_hat)\n",
        "      dec_input = tf.expand_dims(y_true[:, t], 1)\n",
        "  \n",
        "    batch_loss = loss /int(y_true.shape[1])\n",
        "    variables = decoder.trainable_variables + encoder.trainable_variables\n",
        "    grads = tape.gradient(loss, variables)\n",
        "    optimizer.apply_gradients(zip(grads, variables))\n",
        "    return batch_loss\n",
        "\n",
        "def train():\n",
        "  for epoch in range(1, EPOCHS + 1):\n",
        "    start = time.time()\n",
        "    total_loss = 0\n",
        "    enc_init_state = encoder.init_state()\n",
        "    for batch, (src_seqs, y_true) in enumerate(dataset.take(steps_per_epoch)):\n",
        "      batch_loss = train_step(src_seqs, y_true, enc_init_state)\n",
        "      total_loss += batch_loss\n",
        "      if batch % 50 == 0:\n",
        "        print('Epoch {}, Batch {}, Loss {:.4f}'.format(epoch, batch, batch_loss.numpy()))\n",
        "    if epoch % 2 == 0:\n",
        "      checkpoint.save(file_prefix = checkpoint_prefix)\n",
        "    print('Epoch {} total loss {:.4f}'.format(epoch, total_loss / steps_per_epoch))\n",
        "    print('Time taken for 1 epoch {:.2f} sec\\n'.format(time.time() - start))\n",
        "\n",
        "\n",
        "train()"
      ],
      "execution_count": 27,
      "outputs": [
        {
          "output_type": "stream",
          "text": [
            "Epoch 1, Batch 0, Loss 1.5317\n",
            "Epoch 1, Batch 50, Loss 0.8024\n",
            "Epoch 1, Batch 100, Loss 0.8258\n",
            "Epoch 1, Batch 150, Loss 0.7419\n",
            "Epoch 1 total loss 0.8546\n",
            "Time taken for 1 epoch 137.42 sec\n",
            "\n",
            "Epoch 2, Batch 0, Loss 0.6169\n",
            "Epoch 2, Batch 50, Loss 0.5802\n",
            "Epoch 2, Batch 100, Loss 0.7067\n",
            "Epoch 2, Batch 150, Loss 0.6343\n",
            "Epoch 2 total loss 0.6321\n",
            "Time taken for 1 epoch 89.22 sec\n",
            "\n",
            "Epoch 3, Batch 0, Loss 0.4329\n",
            "Epoch 3, Batch 50, Loss 0.4428\n",
            "Epoch 3, Batch 100, Loss 0.4297\n",
            "Epoch 3, Batch 150, Loss 0.4664\n",
            "Epoch 3 total loss 0.4694\n",
            "Time taken for 1 epoch 89.23 sec\n",
            "\n",
            "Epoch 4, Batch 0, Loss 0.3426\n",
            "Epoch 4, Batch 50, Loss 0.3145\n",
            "Epoch 4, Batch 100, Loss 0.3673\n",
            "Epoch 4, Batch 150, Loss 0.3280\n",
            "Epoch 4 total loss 0.3342\n",
            "Time taken for 1 epoch 89.63 sec\n",
            "\n",
            "Epoch 5, Batch 0, Loss 0.2271\n",
            "Epoch 5, Batch 50, Loss 0.2005\n",
            "Epoch 5, Batch 100, Loss 0.2437\n",
            "Epoch 5, Batch 150, Loss 0.2666\n",
            "Epoch 5 total loss 0.2349\n",
            "Time taken for 1 epoch 88.97 sec\n",
            "\n",
            "Epoch 6, Batch 0, Loss 0.1392\n",
            "Epoch 6, Batch 50, Loss 0.1796\n",
            "Epoch 6, Batch 100, Loss 0.1692\n",
            "Epoch 6, Batch 150, Loss 0.2046\n",
            "Epoch 6 total loss 0.1690\n",
            "Time taken for 1 epoch 89.41 sec\n",
            "\n",
            "Epoch 7, Batch 0, Loss 0.1325\n",
            "Epoch 7, Batch 50, Loss 0.1425\n",
            "Epoch 7, Batch 100, Loss 0.1168\n",
            "Epoch 7, Batch 150, Loss 0.1294\n",
            "Epoch 7 total loss 0.1257\n",
            "Time taken for 1 epoch 88.79 sec\n",
            "\n",
            "Epoch 8, Batch 0, Loss 0.0763\n",
            "Epoch 8, Batch 50, Loss 0.0735\n",
            "Epoch 8, Batch 100, Loss 0.1086\n",
            "Epoch 8, Batch 150, Loss 0.0891\n",
            "Epoch 8 total loss 0.0954\n",
            "Time taken for 1 epoch 89.49 sec\n",
            "\n",
            "Epoch 9, Batch 0, Loss 0.0638\n",
            "Epoch 9, Batch 50, Loss 0.0692\n",
            "Epoch 9, Batch 100, Loss 0.0771\n",
            "Epoch 9, Batch 150, Loss 0.0942\n",
            "Epoch 9 total loss 0.0746\n",
            "Time taken for 1 epoch 88.96 sec\n",
            "\n",
            "Epoch 10, Batch 0, Loss 0.0617\n",
            "Epoch 10, Batch 50, Loss 0.0596\n",
            "Epoch 10, Batch 100, Loss 0.0570\n",
            "Epoch 10, Batch 150, Loss 0.0767\n",
            "Epoch 10 total loss 0.0593\n",
            "Time taken for 1 epoch 89.68 sec\n",
            "\n"
          ],
          "name": "stdout"
        }
      ]
    },
    {
      "cell_type": "code",
      "metadata": {
        "id": "f4XHrVUWuDnA",
        "colab_type": "code",
        "colab": {
          "base_uri": "https://localhost:8080/",
          "height": 170
        },
        "outputId": "c51d5dba-3be4-46ce-c399-718308a29f42"
      },
      "source": [
        "def translate(sentence):\n",
        "  seqs, max_len,  = tokenize([sentence])\n",
        "  seqs, lengths = pad_sentences(seqs, src_word2ind, src_max_len)\n",
        "  seqs = tf.convert_to_tensor(seqs)\n",
        "  enc_init_state = tf.zeros((1, LATENT_DIM))\n",
        "  _, enc_state = encoder(seqs, enc_init_state)\n",
        "\n",
        "  dec_input = tf.expand_dims([dist_word2ind['<start>']] , 0)\n",
        "  dec_state = enc_state\n",
        "  result = ''\n",
        "  for t in range(dist_max_len):\n",
        "    y_hat, dec_state = decoder(dec_input, dec_state, enc_state)\n",
        "    predicted_id = tf.argmax(y_hat[0]).numpy()\n",
        "    result += dist_ind2word[predicted_id] + ' '\n",
        "    if dist_ind2word[predicted_id] == '<end>':\n",
        "      return result\n",
        "    dec_input = tf.expand_dims([predicted_id], 0)\n",
        "  return result\n",
        "\n",
        "#checkpoint.restore(tf.train.latest_checkpoint(checkpoint_dir))\n",
        "for sent in sentences:\n",
        "  print(sent,'--->\\t', translate(sent))"
      ],
      "execution_count": 28,
      "outputs": [
        {
          "output_type": "stream",
          "text": [
            "how to run a car? --->\t كيف وصل قيادة <end> \n",
            "what kind of food do you like? --->\t أي نوع من الشطائر تريد <end> \n",
            "he comes from syria --->\t يلعب كل من عمره . <end> \n",
            "he has a lot of money --->\t لديه الكثير من المال . <end> \n",
            "it is good --->\t إن ذلك جيد . <end> \n",
            "do you have friends ? --->\t هل لديك أي أقلام <end> \n",
            "it is a nice weather . --->\t انها رائعة جميل . <end> \n",
            "they are very bad people . --->\t إنهما فخوران كبار جداً . <end> \n",
            "do you need help ? --->\t هل تريد أن تفعلها <end> \n"
          ],
          "name": "stdout"
        }
      ]
    },
    {
      "cell_type": "code",
      "metadata": {
        "id": "JyouELNDjGhq",
        "colab_type": "code",
        "colab": {
          "base_uri": "https://localhost:8080/",
          "height": 34
        },
        "outputId": "cd6e8a7b-dd05-4f93-c27c-736f5883f485"
      },
      "source": [
        "ind = np.random.randint(len(src_sentences))\n",
        "sent = src_sentences[ind]\n",
        "print(sent,'--->\\t', translate(sent))"
      ],
      "execution_count": 29,
      "outputs": [
        {
          "output_type": "stream",
          "text": [
            "tom is drinking directly from the faucet. --->\t توم يشرب من الصنبور مباشرة <end> \n"
          ],
          "name": "stdout"
        }
      ]
    },
    {
      "cell_type": "markdown",
      "metadata": {
        "id": "ReFry90zL18S",
        "colab_type": "text"
      },
      "source": [
        "##Encoder-Decoder(Bidirectional)"
      ]
    },
    {
      "cell_type": "code",
      "metadata": {
        "id": "oBEQqUUKpVCH",
        "colab_type": "code",
        "colab": {
          "base_uri": "https://localhost:8080/",
          "height": 68
        },
        "outputId": "5a0e0ee9-3790-4951-f6b9-a4d72a777a02"
      },
      "source": [
        "class Encoder(Model):\n",
        "  def __init__(self, vocabs_size, embedding_dim, enc_units, batch_size, dp = 0.1):\n",
        "    super(Encoder, self).__init__()\n",
        "    self.enc_units = enc_units\n",
        "    self.batch_size = batch_size\n",
        "\n",
        "    self.embeddig = Embedding(input_dim = vocabs_size, output_dim = embedding_dim)\n",
        "\n",
        "    self.dyrnn_layer = Bidirectional(\n",
        "        GRU(\n",
        "          units = enc_units,\n",
        "          return_state = True,\n",
        "          dropout = dp,\n",
        "        ),\n",
        "        merge_mode = 'concat',\n",
        "    )\n",
        "\n",
        "  def call(self, x, init_state):\n",
        "    x = self.embeddig(x)\n",
        "    output, forward_state, backward_state = self.dyrnn_layer(x, initial_state = init_state)\n",
        "    state = [forward_state, backward_state]\n",
        "    return output, state\n",
        "\n",
        "  def init_states(self):\n",
        "    return [tf.zeros((self.batch_size, self.enc_units)) for i in range(2)]\n",
        "  \n",
        "encoder = Encoder(src_vocabs_size, ENC_EMBEDDING_DIM, LATENT_DIM, BATCH_SIZE, DROP_OUT)\n",
        "sample_init_state = encoder.init_states()\n",
        "enc_output, (enc_forward_state, enc_backward_state) = encoder(sample_src_seqs, sample_init_state)\n",
        "\n",
        "print ('Encoder output: (batch size, sequence length, units * 2) {}'.format(enc_output.shape))\n",
        "print ('Encoder forward state: (batch size, units) {}'.format(enc_forward_state.shape))\n",
        "print ('Encoder backward state: (batch size, units) {}'.format(enc_backward_state.shape))"
      ],
      "execution_count": 30,
      "outputs": [
        {
          "output_type": "stream",
          "text": [
            "Encoder output: (batch size, sequence length, units * 2) (64, 2048)\n",
            "Encoder forward state: (batch size, units) (64, 1024)\n",
            "Encoder backward state: (batch size, units) (64, 1024)\n"
          ],
          "name": "stdout"
        }
      ]
    },
    {
      "cell_type": "code",
      "metadata": {
        "id": "5l0fXLtgw6Ew",
        "colab_type": "code",
        "colab": {
          "base_uri": "https://localhost:8080/",
          "height": 68
        },
        "outputId": "38305f97-35e0-4520-868c-d11fe0d5906a"
      },
      "source": [
        "class Decoder(Model):\n",
        "  def __init__(self, vocabs_size, embedding_dim, dec_units, batch_size, dp = 0.1):\n",
        "    super(Decoder, self).__init__()\n",
        "    self.dec_units = dec_units\n",
        "    self.batch_size = batch_size\n",
        "\n",
        "    self.embedding = Embedding(input_dim = vocabs_size, output_dim = embedding_dim)\n",
        "    self.dyrnn_layer = Bidirectional(\n",
        "        GRU(\n",
        "            units = self.dec_units,\n",
        "            return_sequences = True,\n",
        "            return_state = True,\n",
        "            dropout = dp,\n",
        "        )\n",
        "    )\n",
        "    self.fc = Dense(units = vocabs_size)\n",
        "\n",
        "  def call(self, x, dec_states, enc_states):\n",
        "    x = self.embedding(x)\n",
        "    context_vector = tf.concat(enc_states, axis = 1)\n",
        "    context_vector = tf.expand_dims(context_vector, 1)\n",
        "    x = tf.concat([context_vector, x], axis = -1)\n",
        "    output, forward_state, backward_state = self.dyrnn_layer(x, initial_state = dec_states)\n",
        "    output = tf.reshape(output, (-1, output.shape[2]))\n",
        "    x = self.fc(output)\n",
        "    return x, [forward_state, backward_state]\n",
        "  \n",
        "  def init_states(self):\n",
        "    return [tf.zeros((self.batch_size, self.dec_units)) for i in range(2)]\n",
        "\n",
        "decoder = Decoder(dist_vocabs_size, DEC_EMBEDDING_DIM, LATENT_DIM, BATCH_SIZE, DROP_OUT)\n",
        "dec_init_states = decoder.init_states()\n",
        "dec_sampel_input = tf.random.uniform((BATCH_SIZE, 1))\n",
        "decoder_output, (dec_forward_state, dec_backward_state) = decoder(dec_sampel_input, [enc_forward_state, enc_backward_state], dec_init_states)\n",
        "print ('Decoder output: (batch_size, vocab size) {}'.format(decoder_output.shape))\n",
        "print ('Decoder forward_state: (batch_size, units) {}'.format(dec_forward_state.shape))\n",
        "print ('Decoder backward_state: (batch_size, units) {}'.format(dec_backward_state.shape))"
      ],
      "execution_count": 31,
      "outputs": [
        {
          "output_type": "stream",
          "text": [
            "Decoder output: (batch_size, vocab size) (64, 11663)\n",
            "Decoder forward_state: (batch_size, units) (64, 1024)\n",
            "Decoder backward_state: (batch_size, units) (64, 1024)\n"
          ],
          "name": "stdout"
        }
      ]
    },
    {
      "cell_type": "code",
      "metadata": {
        "id": "cT0wrPjq7RPG",
        "colab_type": "code",
        "colab": {}
      },
      "source": [
        "optimizer = Adam(learning_rate = 0.001)\n",
        "loss_objective = SparseCategoricalCrossentropy(from_logits=True, reduction='none')\n",
        "\n",
        "def loss_function(y_true, y_hat):\n",
        "  mask = tf.math.logical_not(tf.math.equal(y_true, 0))\n",
        "  loss_ = loss_objective(y_true, y_hat)\n",
        "  mask = tf.cast(mask, dtype=loss_.dtype)\n",
        "  loss_ *= mask\n",
        "  return tf.reduce_mean(loss_)"
      ],
      "execution_count": 32,
      "outputs": []
    },
    {
      "cell_type": "code",
      "metadata": {
        "id": "5icQbjE28hLV",
        "colab_type": "code",
        "colab": {}
      },
      "source": [
        "checkpoint_dir = 'bidirectional_GRU'\n",
        "checkpoint_prefix = os.path.join(checkpoint_dir, 'ckpt')\n",
        "checkpoint = tf.train.Checkpoint(\n",
        "    optimizer = optimizer, \n",
        "    encoder = encoder,\n",
        "    decoder = decoder,\n",
        ")"
      ],
      "execution_count": 33,
      "outputs": []
    },
    {
      "cell_type": "code",
      "metadata": {
        "id": "aBSFRfZ8-dZf",
        "colab_type": "code",
        "colab": {}
      },
      "source": [
        "@tf.function\n",
        "def train_step(src_seqs, y_true, enc_init_state):\n",
        "  loss = 0\n",
        "  with tf.GradientTape() as tape:\n",
        "    enc_out, enc_states = encoder(src_seqs, enc_init_state)\n",
        "\n",
        "    dec_states = enc_states\n",
        "    dec_input = tf.expand_dims([dist_word2ind[START_TOKEN]] * BATCH_SIZE, 1)\n",
        "    for t in range(1,  y_true.shape[1]):\n",
        "      y_hat, dec_states = decoder(dec_input, dec_states, enc_states)\n",
        "      loss += loss_function(y_true[:, t], y_hat)\n",
        "      dec_input = tf.expand_dims(y_true[:, t], 1)\n",
        "    \n",
        "    batch_loss = loss/ int(y_true.shape[1])\n",
        "    variables = encoder.trainable_variables + decoder.trainable_variables\n",
        "    grads = tape.gradient(loss, variables)\n",
        "    optimizer.apply_gradients(zip(grads, variables))\n",
        "    return batch_loss"
      ],
      "execution_count": 36,
      "outputs": []
    },
    {
      "cell_type": "code",
      "metadata": {
        "id": "YsUEss-LDbW3",
        "colab_type": "code",
        "colab": {
          "base_uri": "https://localhost:8080/",
          "height": 867
        },
        "outputId": "bd2caeb8-0d2e-4940-c135-d207433d91d3"
      },
      "source": [
        "def train():\n",
        "  for epoch in range(1, EPOCHS + 1):\n",
        "    start = time.time()\n",
        "\n",
        "    enc_init_states = encoder.init_states()\n",
        "    total_loss = 0\n",
        "    for (batch, (src, dist)) in enumerate(dataset.take(steps_per_epoch)):\n",
        "      batch_loss = train_step(src, dist, enc_init_states)\n",
        "      total_loss += batch_loss\n",
        "      if batch % 100 == 0:\n",
        "        print('Epoch {} Batch {} Loss {:.4f}'.format(epoch, batch, batch_loss.numpy()))\n",
        "    if epoch % 2 == 0:\n",
        "      checkpoint.save(file_prefix = checkpoint_prefix)\n",
        "\n",
        "    print('Epoch {} Loss {:.4f}'.format(epoch, total_loss / steps_per_epoch))\n",
        "    print('Time taken for 1 epoch {:.2f} sec\\n'.format(time.time() - start))\n",
        "    \n",
        "train()"
      ],
      "execution_count": 37,
      "outputs": [
        {
          "output_type": "stream",
          "text": [
            "Epoch 1 Batch 0 Loss 1.4230\n",
            "Epoch 1 Batch 100 Loss 0.8553\n",
            "Epoch 1 Loss 0.9277\n",
            "Time taken for 1 epoch 279.45 sec\n",
            "\n",
            "Epoch 2 Batch 0 Loss 0.8202\n",
            "Epoch 2 Batch 100 Loss 0.7125\n",
            "Epoch 2 Loss 0.7493\n",
            "Time taken for 1 epoch 188.63 sec\n",
            "\n",
            "Epoch 3 Batch 0 Loss 0.6793\n",
            "Epoch 3 Batch 100 Loss 0.5849\n",
            "Epoch 3 Loss 0.6063\n",
            "Time taken for 1 epoch 186.13 sec\n",
            "\n",
            "Epoch 4 Batch 0 Loss 0.4476\n",
            "Epoch 4 Batch 100 Loss 0.4804\n",
            "Epoch 4 Loss 0.4454\n",
            "Time taken for 1 epoch 190.15 sec\n",
            "\n",
            "Epoch 5 Batch 0 Loss 0.2775\n",
            "Epoch 5 Batch 100 Loss 0.2884\n",
            "Epoch 5 Loss 0.2885\n",
            "Time taken for 1 epoch 186.92 sec\n",
            "\n",
            "Epoch 6 Batch 0 Loss 0.1767\n",
            "Epoch 6 Batch 100 Loss 0.1917\n",
            "Epoch 6 Loss 0.1740\n",
            "Time taken for 1 epoch 189.33 sec\n",
            "\n",
            "Epoch 7 Batch 0 Loss 0.1339\n",
            "Epoch 7 Batch 100 Loss 0.1258\n",
            "Epoch 7 Loss 0.1104\n",
            "Time taken for 1 epoch 187.38 sec\n",
            "\n",
            "Epoch 8 Batch 0 Loss 0.0770\n",
            "Epoch 8 Batch 100 Loss 0.0783\n",
            "Epoch 8 Loss 0.0743\n",
            "Time taken for 1 epoch 188.94 sec\n",
            "\n",
            "Epoch 9 Batch 0 Loss 0.0544\n",
            "Epoch 9 Batch 100 Loss 0.0524\n",
            "Epoch 9 Loss 0.0549\n",
            "Time taken for 1 epoch 188.03 sec\n",
            "\n",
            "Epoch 10 Batch 0 Loss 0.0342\n",
            "Epoch 10 Batch 100 Loss 0.0486\n",
            "Epoch 10 Loss 0.0448\n",
            "Time taken for 1 epoch 188.25 sec\n",
            "\n"
          ],
          "name": "stdout"
        }
      ]
    },
    {
      "cell_type": "code",
      "metadata": {
        "id": "Vv7Km-2uJh33",
        "colab_type": "code",
        "colab": {
          "base_uri": "https://localhost:8080/",
          "height": 170
        },
        "outputId": "dea6c5ea-b26b-40ad-d42c-4549bd165e2c"
      },
      "source": [
        "def translate(sentence):\n",
        "  seqs, max_len,  = tokenize([sentence])\n",
        "  seqs, lengths = pad_sentences(seqs, src_word2ind, src_max_len)\n",
        "  seqs = tf.convert_to_tensor(seqs)\n",
        "\n",
        "  enc_init_state = [tf.zeros((1, LATENT_DIM)) for _ in range(2)]\n",
        "  enc_out, enc_states = encoder(seqs, enc_init_state)\n",
        "\n",
        "  dec_input = tf.expand_dims([dist_word2ind['<start>']] , 0)\n",
        "  dec_states = enc_states\n",
        "  result = ''\n",
        "  for t in range(dist_max_len):\n",
        "    y_hat, dec_states = decoder(dec_input, dec_states, enc_states)\n",
        "    predicted_id = tf.argmax(y_hat[0]).numpy()\n",
        "    result += dist_ind2word[predicted_id] + ' '\n",
        "    if dist_ind2word[predicted_id] == '<end>':\n",
        "      return result\n",
        "    dec_input = tf.expand_dims([predicted_id], 0)\n",
        "  return result\n",
        "\n",
        "for sent in sentences:\n",
        "  print(sent,'--->\\t', translate(sent))"
      ],
      "execution_count": 38,
      "outputs": [
        {
          "output_type": "stream",
          "text": [
            "how to run a car? --->\t كيف حال سيارتك <end> \n",
            "what kind of food do you like? --->\t ما نوع الجراحة المفضّل <end> \n",
            "he comes from syria --->\t لقد طلب لنا شرائح اللحم <end> \n",
            "he has a lot of money --->\t عنده كثيرٌ من المال . <end> \n",
            "it is good --->\t إنه لطيف . <end> \n",
            "do you have friends ? --->\t هل لديك واحد <end> \n",
            "it is a nice weather . --->\t الجو حار جداً <end> \n",
            "they are very bad people . --->\t إنهم كبار جداً لكنه يمكننا . <end> \n",
            "do you need help ? --->\t هل تحب أن أساعدك <end> \n"
          ],
          "name": "stdout"
        }
      ]
    },
    {
      "cell_type": "code",
      "metadata": {
        "id": "0K9OmV7sXD3r",
        "colab_type": "code",
        "colab": {
          "base_uri": "https://localhost:8080/",
          "height": 34
        },
        "outputId": "682940cb-57f1-4f6b-8205-d640c17bff12"
      },
      "source": [
        "ind = np.random.randint(len(src_sentences))\n",
        "sent = src_sentences[ind]\n",
        "print(sent,'--->\\t', translate(sent))"
      ],
      "execution_count": 40,
      "outputs": [
        {
          "output_type": "stream",
          "text": [
            "i think it is best not to be impolite. --->\t أظن أن من الأفضل ألا تكون وقِحًا . <end> \n"
          ],
          "name": "stdout"
        }
      ]
    },
    {
      "cell_type": "code",
      "metadata": {
        "id": "x0kmbneo5RKX",
        "colab_type": "code",
        "colab": {}
      },
      "source": [
        "checkpoint.restore(tf.train.latest_checkpoint(checkpoint_dir))"
      ],
      "execution_count": null,
      "outputs": []
    },
    {
      "cell_type": "markdown",
      "metadata": {
        "id": "QNBASpu1fco8",
        "colab_type": "text"
      },
      "source": [
        "# Encoder decoder architecture with attention mechanism"
      ]
    },
    {
      "cell_type": "markdown",
      "metadata": {
        "id": "SroH5pFzZSNg",
        "colab_type": "text"
      },
      "source": [
        "The [attention mechanism](https://arxiv.org/pdf/1508.04025v5.pdf) works as the following:\n",
        "* encoder takes a source sentence, then it generates tow things: a representation of the input $(h_s^-)$ and a state that carries information about the whole seqeunce\n",
        "* at each time step we initailize the decoder state with encoder state\n",
        "* attentions weights are computed using the formula: $\\alpha_{ts}=\\frac{exp(score(h_t, h_s^-))}{\\sum_{j=0}^Jexp(score(h_t, h_j^-))}$, $h_t$ is the hidden state of the decoder\n",
        "* score function compute similarity between the state of the decoder and the output of the encoder as: $score(h_t, h_s^-) =v_a^Ttanh(W_1h_t+W_2h_s^-)$\n",
        "* context vector is computed as: $c_t = \\sum_s\\alpha_{ts}h_s^-$\n",
        "* attention vector is computed as: $a_t = f(c_t, h_t) = tanh(W_c[c_t;h_t])$"
      ]
    },
    {
      "cell_type": "code",
      "metadata": {
        "id": "aJy2d4C8e_bw",
        "colab_type": "code",
        "colab": {
          "base_uri": "https://localhost:8080/",
          "height": 51
        },
        "outputId": "337f68de-adf0-4857-c15b-3930031ecd63"
      },
      "source": [
        "class Encoder(Model):\n",
        "\n",
        "  def __init__(self, batch_size, latent_dim, embedding_dim, dp):\n",
        "    super(Encoder, self).__init__()\n",
        "    self.batch_size = batch_size\n",
        "    self.units = latent_dim\n",
        "\n",
        "    self.embedding = Embedding(input_dim = src_vocabs_size, output_dim = embedding_dim)\n",
        "    self.rnn_layer = GRU(units = self.units, dropout = dp, return_sequences=True, return_state=True)\n",
        "\n",
        "  def call(self, x, init_state):\n",
        "    x = self.embedding(x)\n",
        "    output, state = self.rnn_layer(x, initial_state = init_state)\n",
        "    return output, state\n",
        "  \n",
        "  def init_state(self):\n",
        "    return tf.zeros((self.batch_size, self.units))\n",
        "\n",
        "encoder = Encoder(BATCH_SIZE, LATENT_DIM, ENC_EMBEDDING_DIM, DROP_OUT)\n",
        "init_state = encoder.init_state()\n",
        "enc_out, enc_state = encoder(sample_src_seqs, init_state)\n",
        "print('encoder output (batch_size, src_len, latent_dim)', enc_out.shape)\n",
        "print('encoder state (batch_size, latent_dim)', enc_state.shape)"
      ],
      "execution_count": 95,
      "outputs": [
        {
          "output_type": "stream",
          "text": [
            "encoder output (batch_size, src_len, latent_dim) (64, 42, 1024)\n",
            "encoder state (batch_size, latent_dim) (64, 1024)\n"
          ],
          "name": "stdout"
        }
      ]
    },
    {
      "cell_type": "code",
      "metadata": {
        "id": "0JGD4cLCz_CB",
        "colab_type": "code",
        "colab": {
          "base_uri": "https://localhost:8080/",
          "height": 51
        },
        "outputId": "edbc7221-3558-4306-9a82-b35312599562"
      },
      "source": [
        "class Attention(tf.keras.layers.Layer):\n",
        "\n",
        "  def __init__(self, units):\n",
        "    super(Attention, self).__init__()\n",
        "    self.units = units\n",
        "    self.W1 = Dense(self.units)\n",
        "    self.W2 = Dense(self.units)\n",
        "    self.V = Dense(1)\n",
        "  \n",
        "  def score(self, enc_state, enc_output):\n",
        "    state = tf.expand_dims(enc_state, 1)\n",
        "    score = self.V(tf.nn.tanh(self.W1(state) + self.W2(enc_output)))\n",
        "    return score\n",
        "\n",
        "  def call(self, enc_state, enc_output):\n",
        "    score = self.score(enc_state, enc_output)\n",
        "    attention_weights = tf.nn.softmax(score, axis = 1)\n",
        "    context_vec = tf.reduce_sum(attention_weights * enc_output, axis = 1)\n",
        "    return context_vec, attention_weights\n",
        "\n",
        "attention = Attention(10)\n",
        "context_vec, attention_weights = attention(enc_state, enc_out)\n",
        "print('context_vector:', context_vec.shape)\n",
        "print('attention_weights:', attention_weights.shape)"
      ],
      "execution_count": 96,
      "outputs": [
        {
          "output_type": "stream",
          "text": [
            "context_vector: (64, 1024)\n",
            "attention_weights: (64, 42, 1)\n"
          ],
          "name": "stdout"
        }
      ]
    },
    {
      "cell_type": "code",
      "metadata": {
        "id": "3_a1wiV52gDZ",
        "colab_type": "code",
        "colab": {
          "base_uri": "https://localhost:8080/",
          "height": 68
        },
        "outputId": "5d921a70-4e19-44c3-fa55-a72d76f84128"
      },
      "source": [
        "class Decoder(Model):\n",
        "  def __init__(self, batch_size, latent_dim, embedding_dim, dp):\n",
        "    super(Decoder, self).__init__()\n",
        "    self.batch_size = batch_size\n",
        "    self.units = latent_dim\n",
        "\n",
        "    self.embeddings = Embedding(input_dim = dist_vocabs_size, output_dim = embedding_dim)\n",
        "    self.rnn_layer = GRU(units = self.units, return_sequences = True, return_state=True, dropout=dp, recurrent_initializer='glorot_uniform')\n",
        "    self.fc = Dense(units = dist_vocabs_size)\n",
        "    self.attention = Attention(units = latent_dim)\n",
        "  \n",
        "  def call(self, x, dec_state, enc_output, enc_state):\n",
        "    context_vec, attention_weights = self.attention(dec_state, enc_output)\n",
        "    x = self.embeddings(x)\n",
        "    x = tf.concat([tf.expand_dims(context_vec, 1), x], axis = -1)\n",
        "    output, state = self.rnn_layer(x, initial_state = enc_state)\n",
        "    output = tf.reshape(output, (-1, output.shape[2]))\n",
        "    x = self.fc(output)\n",
        "    return x, state, attention_weights\n",
        "\n",
        "decoder = Decoder(BATCH_SIZE, LATENT_DIM, DEC_EMBEDDING_DIM, DROP_OUT)\n",
        "dec_output, dec_state, attention_weights = decoder(tf.random.uniform((BATCH_SIZE, 1)), enc_state, enc_out, enc_state)\n",
        "print('decoder output:', dec_output.shape)\n",
        "print('decoder state:', dec_state.shape)\n",
        "print('attention weights:', attention_weights.shape)"
      ],
      "execution_count": 97,
      "outputs": [
        {
          "output_type": "stream",
          "text": [
            "decoder output: (64, 11663)\n",
            "decoder state: (64, 1024)\n",
            "attention weights: (64, 42, 1)\n"
          ],
          "name": "stdout"
        }
      ]
    },
    {
      "cell_type": "code",
      "metadata": {
        "id": "KCv2vr9VQApA",
        "colab_type": "code",
        "colab": {}
      },
      "source": [
        "optimizer = Adam(learning_rate = 0.001)\n",
        "checkpoint_dir = 'attention_model'\n",
        "checkpoint_prefix = os.path.join(checkpoint_dir, 'ckpt')\n",
        "checkpoint = tf.train.Checkpoint(optimizer = optimizer, encoder = encoder, decoder = decoder)"
      ],
      "execution_count": 98,
      "outputs": []
    },
    {
      "cell_type": "code",
      "metadata": {
        "id": "rjIoklCDIu_J",
        "colab_type": "code",
        "colab": {}
      },
      "source": [
        "loss_objective = SparseCategoricalCrossentropy(from_logits=True, reduction='none')\n",
        "def loss_function(y_true, y_hat):\n",
        "  mask = tf.math.logical_not(tf.math.equal(y_true, 0))\n",
        "  loss_ = loss_objective(y_true, y_hat)\n",
        "  mask = tf.cast(mask, loss_.dtype)\n",
        "  loss_ = loss_ * mask\n",
        "  return tf.reduce_mean(loss_)"
      ],
      "execution_count": 99,
      "outputs": []
    },
    {
      "cell_type": "code",
      "metadata": {
        "id": "Hfa3-63VKOqp",
        "colab_type": "code",
        "colab": {}
      },
      "source": [
        "@tf.function\n",
        "def train_step(src_input, enc_state, y_true):\n",
        "  loss = 0\n",
        "  with tf.GradientTape() as tape:\n",
        "    enc_output, enc_state = encoder(src_input, enc_state)\n",
        "\n",
        "    dec_input = tf.expand_dims([dist_word2ind['<start>']] * BATCH_SIZE, 1)\n",
        "    dec_state = enc_state\n",
        "    for t in range(1, y_true.shape[1]):\n",
        "      y_hat, dec_state, _ = decoder(dec_input, dec_state, enc_output, enc_state)\n",
        "      loss += loss_function(y_true[:, t], y_hat)\n",
        "      dec_input = tf.expand_dims(y_true[:, t], 1)\n",
        "\n",
        "    batch_loss = loss / BATCH_SIZE\n",
        "    variables = encoder.trainable_variables + decoder.trainable_variables\n",
        "    grads = tape.gradient(loss, variables)\n",
        "    optimizer.apply_gradients(zip(grads, variables))\n",
        "    return batch_loss"
      ],
      "execution_count": 100,
      "outputs": []
    },
    {
      "cell_type": "code",
      "metadata": {
        "id": "2p1J0se_OdAJ",
        "colab_type": "code",
        "colab": {
          "base_uri": "https://localhost:8080/",
          "height": 1000
        },
        "outputId": "e14e531d-e8e6-4436-eb84-333ad8b01b9a"
      },
      "source": [
        "def train():\n",
        "  for epoch in range(1, EPOCHS + 1):\n",
        "    start = time.time()\n",
        "    init_enc_state = encoder.init_state()\n",
        "    total_loss = 0\n",
        "    for batch, (src_sent, dist_sent) in enumerate(dataset.take(steps_per_epoch)):    \n",
        "      batch_loss = train_step(src_sent, init_enc_state, dist_sent)\n",
        "      total_loss += batch_loss\n",
        "      if batch % 50 == 0:\n",
        "        print('Epoch {}, Batch {}, Loss {:.4f}'.format(epoch, batch, batch_loss.numpy()))\n",
        "    if epoch % 5 == 0:\n",
        "      checkpoint.save(file_prefix = checkpoint_prefix)\n",
        "    print('Epoch {} total loss {:.4f}'.format(epoch, total_loss / steps_per_epoch))\n",
        "    print('Time taken for 1 epoch {:.2f} sec\\n'.format(time.time() - start))\n",
        "  \n",
        "train()"
      ],
      "execution_count": 101,
      "outputs": [
        {
          "output_type": "stream",
          "text": [
            "Epoch 1, Batch 0, Loss 0.9077\n",
            "Epoch 1, Batch 50, Loss 0.6466\n",
            "Epoch 1, Batch 100, Loss 0.5612\n",
            "Epoch 1, Batch 150, Loss 0.5720\n",
            "Epoch 1 total loss 0.6208\n",
            "Time taken for 1 epoch 220.86 sec\n",
            "\n",
            "Epoch 2, Batch 0, Loss 0.5383\n",
            "Epoch 2, Batch 50, Loss 0.5835\n",
            "Epoch 2, Batch 100, Loss 0.5805\n",
            "Epoch 2, Batch 150, Loss 0.5206\n",
            "Epoch 2 total loss 0.5149\n",
            "Time taken for 1 epoch 163.19 sec\n",
            "\n",
            "Epoch 3, Batch 0, Loss 0.4684\n",
            "Epoch 3, Batch 50, Loss 0.4737\n",
            "Epoch 3, Batch 100, Loss 0.4575\n",
            "Epoch 3, Batch 150, Loss 0.4848\n",
            "Epoch 3 total loss 0.4572\n",
            "Time taken for 1 epoch 163.30 sec\n",
            "\n",
            "Epoch 4, Batch 0, Loss 0.3886\n",
            "Epoch 4, Batch 50, Loss 0.3831\n",
            "Epoch 4, Batch 100, Loss 0.3416\n",
            "Epoch 4, Batch 150, Loss 0.3633\n",
            "Epoch 4 total loss 0.3924\n",
            "Time taken for 1 epoch 163.29 sec\n",
            "\n",
            "Epoch 5, Batch 0, Loss 0.3265\n",
            "Epoch 5, Batch 50, Loss 0.3203\n",
            "Epoch 5, Batch 100, Loss 0.3094\n",
            "Epoch 5, Batch 150, Loss 0.3304\n",
            "Epoch 5 total loss 0.3215\n",
            "Time taken for 1 epoch 164.57 sec\n",
            "\n",
            "Epoch 6, Batch 0, Loss 0.2401\n",
            "Epoch 6, Batch 50, Loss 0.2459\n",
            "Epoch 6, Batch 100, Loss 0.2240\n",
            "Epoch 6, Batch 150, Loss 0.2447\n",
            "Epoch 6 total loss 0.2453\n",
            "Time taken for 1 epoch 163.40 sec\n",
            "\n",
            "Epoch 7, Batch 0, Loss 0.1529\n",
            "Epoch 7, Batch 50, Loss 0.1596\n",
            "Epoch 7, Batch 100, Loss 0.1725\n",
            "Epoch 7, Batch 150, Loss 0.2076\n",
            "Epoch 7 total loss 0.1743\n",
            "Time taken for 1 epoch 162.92 sec\n",
            "\n",
            "Epoch 8, Batch 0, Loss 0.0921\n",
            "Epoch 8, Batch 50, Loss 0.1245\n",
            "Epoch 8, Batch 100, Loss 0.1080\n",
            "Epoch 8, Batch 150, Loss 0.1261\n",
            "Epoch 8 total loss 0.1171\n",
            "Time taken for 1 epoch 163.22 sec\n",
            "\n",
            "Epoch 9, Batch 0, Loss 0.0618\n",
            "Epoch 9, Batch 50, Loss 0.0753\n",
            "Epoch 9, Batch 100, Loss 0.0871\n",
            "Epoch 9, Batch 150, Loss 0.0691\n",
            "Epoch 9 total loss 0.0786\n",
            "Time taken for 1 epoch 163.16 sec\n",
            "\n",
            "Epoch 10, Batch 0, Loss 0.0578\n",
            "Epoch 10, Batch 50, Loss 0.0545\n",
            "Epoch 10, Batch 100, Loss 0.0473\n",
            "Epoch 10, Batch 150, Loss 0.0678\n",
            "Epoch 10 total loss 0.0561\n",
            "Time taken for 1 epoch 163.97 sec\n",
            "\n"
          ],
          "name": "stdout"
        }
      ]
    },
    {
      "cell_type": "code",
      "metadata": {
        "id": "kkeCkh4zQamK",
        "colab_type": "code",
        "colab": {
          "base_uri": "https://localhost:8080/",
          "height": 34
        },
        "outputId": "25e08630-13a2-4641-b424-e647d51c62e5"
      },
      "source": [
        "#checkpoint.restore(tf.train.latest_checkpoint(checkpoint_dir))\n",
        "#!rm -R attention_model"
      ],
      "execution_count": 89,
      "outputs": [
        {
          "output_type": "execute_result",
          "data": {
            "text/plain": [
              "<tensorflow.python.training.tracking.util.CheckpointLoadStatus at 0x7f68a4924438>"
            ]
          },
          "metadata": {
            "tags": []
          },
          "execution_count": 89
        }
      ]
    },
    {
      "cell_type": "code",
      "metadata": {
        "id": "I4NKlFBWTcPk",
        "colab_type": "code",
        "colab": {}
      },
      "source": [
        "def evaluate(sentence):\n",
        "  attention_plot = np.zeros((dist_max_len, src_max_len))\n",
        "\n",
        "  seqs, max_len,  = tokenize([sentence])\n",
        "  padded_seqs, lengths = pad_sentences(seqs, src_word2ind, src_max_len)\n",
        "  padded_seqs = tf.convert_to_tensor(padded_seqs)\n",
        "\n",
        "  result = ''\n",
        "  init_enc_state = [tf.zeros((1, LATENT_DIM))]\n",
        "\n",
        "  enc_output, enc_state = encoder(padded_seqs, init_enc_state)\n",
        "  dec_state = enc_state\n",
        "  dec_input = tf.expand_dims([dist_word2ind['<start>']], 0)\n",
        "  for t in range(dist_max_len):\n",
        "    y_hat, dec_state, attention_weights = decoder(dec_input, dec_state, enc_output, enc_state)\n",
        "    attention_weights = tf.reshape(attention_weights, (-1, ))\n",
        "    attention_plot[t] = attention_weights.numpy()\n",
        "    y_hat_id = tf.argmax(y_hat[0]).numpy()\n",
        "    result = result + dist_ind2word[y_hat_id] + ' '\n",
        "    if dist_ind2word[y_hat_id] == '<end>':\n",
        "      return result, ' '.join(seqs[0]), attention_plot\n",
        "    dec_input = tf.expand_dims([y_hat_id], 0)\n",
        "  return result, ' '.join(seqs[0]), attention_plot\n"
      ],
      "execution_count": 90,
      "outputs": []
    },
    {
      "cell_type": "code",
      "metadata": {
        "id": "ynuu8LvTV8aM",
        "colab_type": "code",
        "colab": {}
      },
      "source": [
        "def plot_attention(attention, sentence, predicted_sentence):\n",
        "  fig = plt.figure(figsize = (10, 10))\n",
        "  ax = fig.add_subplot(1, 1, 1)\n",
        "  ax.matshow(attention, cmap = 'viridis')\n",
        "\n",
        "  fontdict = {'fontsize': 14}\n",
        "\n",
        "  ax.set_xticklabels([''] + sentence, fontdict=fontdict, rotation = 90)\n",
        "  ax.set_yticklabels([''] + predicted_sentence, fontdict = fontdict)\n",
        "\n",
        "  ax.xaxis.set_major_locator(ticker.MultipleLocator(1))\n",
        "  ax.yaxis.set_major_locator(ticker.MultipleLocator(1))\n",
        "\n",
        "  plt.show()\n",
        "\n",
        "def translate(sentence):\n",
        "  result, sentence, attention_plot = evaluate(sentence)\n",
        "  print('Input: %s' % (sentence))\n",
        "  print('Predicted translation: {}'.format(result))\n",
        "  print(attention_plot.shape)\n",
        "  attention_plot = attention_plot[:len(result.split(' ')), :len(sentence.split(' '))]\n",
        "  plot_attention(attention_plot, sentence.split(' '), result.split(' '))\n",
        "  "
      ],
      "execution_count": 91,
      "outputs": []
    },
    {
      "cell_type": "code",
      "metadata": {
        "id": "fIEU-ssKWOSn",
        "colab_type": "code",
        "colab": {
          "base_uri": "https://localhost:8080/",
          "height": 1000
        },
        "outputId": "c3ca4f75-08df-4b95-ad5c-1d83d82f9968"
      },
      "source": [
        "for sent in sentences:\n",
        "  translate(sent)"
      ],
      "execution_count": 92,
      "outputs": [
        {
          "output_type": "stream",
          "text": [
            "Input: <start> how to run a car ? <end>\n",
            "Predicted translation: كيف أصل إلى تقود سيارة <end> \n",
            "(40, 42)\n"
          ],
          "name": "stdout"
        },
        {
          "output_type": "display_data",
          "data": {
            "image/png": "[encoded data removed]",
            "text/plain": [
              "<Figure size 720x720 with 1 Axes>"
            ]
          },
          "metadata": {
            "tags": [],
            "needs_background": "light"
          }
        },
        {
          "output_type": "stream",
          "text": [
            "Input: <start> what kind of food do you like ? <end>\n",
            "Predicted translation: أي نوع من أجل ذلك <end> \n",
            "(40, 42)\n"
          ],
          "name": "stdout"
        },
        {
          "output_type": "display_data",
          "data": {
            "image/png": "[encoded data removed]",
            "text/plain": [
              "<Figure size 720x720 with 1 Axes>"
            ]
          },
          "metadata": {
            "tags": [],
            "needs_background": "light"
          }
        },
        {
          "output_type": "stream",
          "text": [
            "Input: <start> he comes from syria . <end>\n",
            "Predicted translation: عاد من القمح . <end> \n",
            "(40, 42)\n"
          ],
          "name": "stdout"
        },
        {
          "output_type": "display_data",
          "data": {
            "image/png": "[encoded data removed]",
            "text/plain": [
              "<Figure size 720x720 with 1 Axes>"
            ]
          },
          "metadata": {
            "tags": [],
            "needs_background": "light"
          }
        },
        {
          "output_type": "stream",
          "text": [
            "Input: <start> he has a lot of money . <end>\n",
            "Predicted translation: لديه الكثير من المال . <end> \n",
            "(40, 42)\n"
          ],
          "name": "stdout"
        },
        {
          "output_type": "display_data",
          "data": {
            "image/png": "[encoded data removed]",
            "text/plain": [
              "<Figure size 720x720 with 1 Axes>"
            ]
          },
          "metadata": {
            "tags": [],
            "needs_background": "light"
          }
        },
        {
          "output_type": "stream",
          "text": [
            "Input: <start> it is good . <end>\n",
            "Predicted translation: إنها صناعية . <end> \n",
            "(40, 42)\n"
          ],
          "name": "stdout"
        },
        {
          "output_type": "display_data",
          "data": {
            "image/png": "[encoded data removed]",
            "text/plain": [
              "<Figure size 720x720 with 1 Axes>"
            ]
          },
          "metadata": {
            "tags": [],
            "needs_background": "light"
          }
        },
        {
          "output_type": "stream",
          "text": [
            "Input: <start> do you have friends ? <end>\n",
            "Predicted translation: هل لديك كل شي <end> \n",
            "(40, 42)\n"
          ],
          "name": "stdout"
        },
        {
          "output_type": "display_data",
          "data": {
            "image/png": "[encoded data removed]",
            "text/plain": [
              "<Figure size 720x720 with 1 Axes>"
            ]
          },
          "metadata": {
            "tags": [],
            "needs_background": "light"
          }
        },
        {
          "output_type": "stream",
          "text": [
            "Input: <start> it is a nice weather . <end>\n",
            "Predicted translation: إنها جميلة . <end> \n",
            "(40, 42)\n"
          ],
          "name": "stdout"
        },
        {
          "output_type": "display_data",
          "data": {
            "image/png": "[encoded data removed]",
            "text/plain": [
              "<Figure size 720x720 with 1 Axes>"
            ]
          },
          "metadata": {
            "tags": [],
            "needs_background": "light"
          }
        },
        {
          "output_type": "stream",
          "text": [
            "Input: <start> they are very bad people . <end>\n",
            "Predicted translation: هم كبار جداً . <end> \n",
            "(40, 42)\n"
          ],
          "name": "stdout"
        },
        {
          "output_type": "display_data",
          "data": {
            "image/png": "[encoded data removed]",
            "text/plain": [
              "<Figure size 720x720 with 1 Axes>"
            ]
          },
          "metadata": {
            "tags": [],
            "needs_background": "light"
          }
        },
        {
          "output_type": "stream",
          "text": [
            "Input: <start> do you need help ? <end>\n",
            "Predicted translation: هل تنوي أن نذهب <end> \n",
            "(40, 42)\n"
          ],
          "name": "stdout"
        },
        {
          "output_type": "display_data",
          "data": {
            "image/png": "[encoded data removed]",
            "text/plain": [
              "<Figure size 720x720 with 1 Axes>"
            ]
          },
          "metadata": {
            "tags": [],
            "needs_background": "light"
          }
        }
      ]
    },
    {
      "cell_type": "code",
      "metadata": {
        "id": "Kn4fg5LNZyOP",
        "colab_type": "code",
        "colab": {
          "base_uri": "https://localhost:8080/",
          "height": 567
        },
        "outputId": "08d17322-bb2a-406b-9730-4f2a83617598"
      },
      "source": [
        "ind = np.random.randint(len(src_sentences))\n",
        "sent = src_sentences[ind]\n",
        "translate(sent)"
      ],
      "execution_count": 93,
      "outputs": [
        {
          "output_type": "stream",
          "text": [
            "Input: <start> if we leave now , we should make it . <end>\n",
            "Predicted translation: إن غادرنا الآن فسنصل على الوقت . <end> \n",
            "(40, 42)\n"
          ],
          "name": "stdout"
        },
        {
          "output_type": "display_data",
          "data": {
            "image/png": "[encoded data removed]",
            "text/plain": [
              "<Figure size 720x720 with 1 Axes>"
            ]
          },
          "metadata": {
            "tags": [],
            "needs_background": "light"
          }
        }
      ]
    },
    {
      "cell_type": "code",
      "metadata": {
        "id": "6CmchWgWpuPV",
        "colab_type": "code",
        "colab": {}
      },
      "source": [
        "  "
      ],
      "execution_count": 127,
      "outputs": []
    }
  ]
}