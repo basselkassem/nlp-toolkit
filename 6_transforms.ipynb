{
  "nbformat": 4,
  "nbformat_minor": 0,
  "metadata": {
    "colab": {
      "name": "6_transforms.ipynb",
      "provenance": [],
      "collapsed_sections": [],
      "authorship_tag": "ABX9TyNfA2Cfw9h42stS6BFFJ8eA",
      "include_colab_link": true
    },
    "kernelspec": {
      "name": "python3",
      "display_name": "Python 3"
    },
    "accelerator": "GPU"
  },
  "cells": [
    {
      "cell_type": "markdown",
      "metadata": {
        "id": "view-in-github",
        "colab_type": "text"
      },
      "source": [
        "<a href=\"https://colab.research.google.com/github/basselkassem/nlp-toolkit/blob/master/6_transforms.ipynb\" target=\"_parent\"><img src=\"https://colab.research.google.com/assets/colab-badge.svg\" alt=\"Open In Colab\"/></a>"
      ]
    },
    {
      "cell_type": "markdown",
      "metadata": {
        "id": "5GPpK5Ni4Rav",
        "colab_type": "text"
      },
      "source": [
        "# Import libs"
      ]
    },
    {
      "cell_type": "code",
      "metadata": {
        "id": "l4J4i8-24nir",
        "colab_type": "code",
        "colab": {
          "base_uri": "https://localhost:8080/",
          "height": 34
        },
        "outputId": "7d62cad8-6da8-4b7e-d363-478484847bee"
      },
      "source": [
        "import numpy as np\n",
        "import re\n",
        "import time\n",
        "import os\n",
        "import matplotlib.pyplot as plt\n",
        "\n",
        "import tensorflow as tf\n",
        "import tensorflow_datasets as tfds\n",
        "from tensorflow.keras.layers import Layer, Dense, LayerNormalization, Dropout, Embedding\n",
        "from tensorflow.keras.models import Sequential, Model\n",
        "from tensorflow.keras.optimizers import Adam\n",
        "from tensorflow.keras.optimizers.schedules import LearningRateSchedule\n",
        "from tensorflow.keras.losses import SparseCategoricalCrossentropy\n",
        "from tensorflow.keras.metrics import SparseTopKCategoricalAccuracy, Mean\n",
        "from tensorflow.train import CheckpointManager, Checkpoint\n",
        "%matplotlib inline\n",
        "print(tf.__version__)"
      ],
      "execution_count": 77,
      "outputs": [
        {
          "output_type": "stream",
          "text": [
            "2.2.0\n"
          ],
          "name": "stdout"
        }
      ]
    },
    {
      "cell_type": "markdown",
      "metadata": {
        "id": "lrskPFdT4T0S",
        "colab_type": "text"
      },
      "source": [
        "# Download & Read data"
      ]
    },
    {
      "cell_type": "code",
      "metadata": {
        "id": "7SIuPfjs5Nka",
        "colab_type": "code",
        "colab": {
          "base_uri": "https://localhost:8080/",
          "height": 204
        },
        "outputId": "b8554169-dd71-42d4-a033-24c4d4cd4726"
      },
      "source": [
        "!wget http://www.manythings.org/anki/ara-eng.zip"
      ],
      "execution_count": 78,
      "outputs": [
        {
          "output_type": "stream",
          "text": [
            "--2020-06-27 20:26:37--  http://www.manythings.org/anki/ara-eng.zip\n",
            "Resolving www.manythings.org (www.manythings.org)... 172.67.173.198, 104.24.109.196, 104.24.108.196, ...\n",
            "Connecting to www.manythings.org (www.manythings.org)|172.67.173.198|:80... connected.\n",
            "HTTP request sent, awaiting response... 200 OK\n",
            "Length: 443921 (434K) [application/zip]\n",
            "Saving to: ‘ara-eng.zip.2’\n",
            "\n",
            "\rara-eng.zip.2         0%[                    ]       0  --.-KB/s               \rara-eng.zip.2        11%[=>                  ]  50.41K   219KB/s               \rara-eng.zip.2        51%[=========>          ] 221.50K   480KB/s               \rara-eng.zip.2       100%[===================>] 433.52K   925KB/s    in 0.5s    \n",
            "\n",
            "2020-06-27 20:26:37 (925 KB/s) - ‘ara-eng.zip.2’ saved [443921/443921]\n",
            "\n"
          ],
          "name": "stdout"
        }
      ]
    },
    {
      "cell_type": "code",
      "metadata": {
        "id": "KJWYQhRq5Roc",
        "colab_type": "code",
        "colab": {}
      },
      "source": [
        "from zipfile import ZipFile\n",
        "with ZipFile('ara-eng.zip', 'r') as data_file:\n",
        "  data_file.extractall()"
      ],
      "execution_count": 79,
      "outputs": []
    },
    {
      "cell_type": "code",
      "metadata": {
        "id": "1uDTPLpu5rCG",
        "colab_type": "code",
        "colab": {
          "base_uri": "https://localhost:8080/",
          "height": 51
        },
        "outputId": "eccb964d-95a3-4c0c-d044-47433429719f"
      },
      "source": [
        "def read_data(file_path = 'ara.txt'):\n",
        "  src_senteces, dist_senteces = [], []\n",
        "  for line in open(file_path, 'r', encoding='utf8'):\n",
        "    sentences = line.split('\\t')\n",
        "    src_sent = sentences[0].strip()\n",
        "    dist_sent = sentences[1].strip()\n",
        "    src_senteces.append(src_sent)\n",
        "    dist_senteces.append(dist_sent)\n",
        "  return src_senteces, dist_senteces\n",
        "en_sentences, ar_sentences = read_data()\n",
        "print('#Examples', len(en_sentences))\n",
        "ind = np.random.randint(0, len(en_sentences))\n",
        "print(en_sentences[ind], ar_sentences[ind])"
      ],
      "execution_count": 80,
      "outputs": [
        {
          "output_type": "stream",
          "text": [
            "#Examples 11320\n",
            "She is very pretty. إنها جميلة جداً.\n"
          ],
          "name": "stdout"
        }
      ]
    },
    {
      "cell_type": "markdown",
      "metadata": {
        "id": "5AD4WYmS4bzC",
        "colab_type": "text"
      },
      "source": [
        "# Data Preprocessing"
      ]
    },
    {
      "cell_type": "code",
      "metadata": {
        "id": "hQanRNyQ4TH1",
        "colab_type": "code",
        "colab": {
          "base_uri": "https://localhost:8080/",
          "height": 34
        },
        "outputId": "c3d1719b-a429-49ae-c7bb-d9787b344fa2"
      },
      "source": [
        "ar_pattern = '[^' +'أ-ي آلألآلإإؤءئ.' + ']+'\n",
        "en_pattern = '[^' + 'a-zA-Z!?.,\\'' + ']+'\n",
        "print(ar_pattern, en_pattern)"
      ],
      "execution_count": 81,
      "outputs": [
        {
          "output_type": "stream",
          "text": [
            "[^أ-ي آلألآلإإؤءئ.]+ [^a-zA-Z!?.,']+\n"
          ],
          "name": "stdout"
        }
      ]
    },
    {
      "cell_type": "code",
      "metadata": {
        "id": "hBaoo5q87AxJ",
        "colab_type": "code",
        "colab": {
          "base_uri": "https://localhost:8080/",
          "height": 51
        },
        "outputId": "9a14d1d0-5c99-4ac2-d4cd-866ee61e9a59"
      },
      "source": [
        "def process_sentence(sentence, lang = 'ar'):\n",
        "  if lang == 'ar':\n",
        "    processed_sent = re.sub(ar_pattern, '', sentence)\n",
        "    return processed_sent.strip()\n",
        "  else:\n",
        "    processed_sent = sentence.lower()\n",
        "    processed_sent = re.sub(en_pattern, ' ', processed_sent)\n",
        "    return processed_sent.strip()\n",
        "\n",
        "def process_sentences(sentences, lang ='ar'):\n",
        "  processed_sents = [process_sentence(sent, lang) for sent in sentences]\n",
        "  return processed_sents\n",
        "\n",
        "src_sentences = process_sentences(en_sentences, lang ='en')\n",
        "dist_sentences = process_sentences(ar_sentences, lang ='ar')\n",
        "\n",
        "src_tokenizer = tfds.features.text.SubwordTextEncoder.build_from_corpus(src_sentences, target_vocab_size = 2**13)\n",
        "dist_tokenizer = tfds.features.text.SubwordTextEncoder.build_from_corpus(dist_sentences, target_vocab_size = 2**14)\n",
        "\n",
        "src_vocabs_size = src_tokenizer.vocab_size + 2\n",
        "dist_vocabs_size = dist_tokenizer.vocab_size + 2\n",
        "print('#English vocabs:', src_vocabs_size)\n",
        "print('#Arabic vocabs:', dist_vocabs_size)"
      ],
      "execution_count": 82,
      "outputs": [
        {
          "output_type": "stream",
          "text": [
            "#English vocabs: 5707\n",
            "#Arabic vocabs: 12530\n"
          ],
          "name": "stdout"
        }
      ]
    },
    {
      "cell_type": "markdown",
      "metadata": {
        "id": "fQzF3wxy4boY",
        "colab_type": "text"
      },
      "source": [
        "#Create Dataset"
      ]
    },
    {
      "cell_type": "code",
      "metadata": {
        "id": "q7ZyHZO3pa0t",
        "colab_type": "code",
        "colab": {}
      },
      "source": [
        "BATCH_SIZE = 64"
      ],
      "execution_count": 83,
      "outputs": []
    },
    {
      "cell_type": "code",
      "metadata": {
        "id": "Ox6Nb6u92rnh",
        "colab_type": "code",
        "colab": {}
      },
      "source": [
        "def tokenize(sentences, lang = 'ar'):\n",
        "  tokenizer = None\n",
        "  if lang == 'ar':\n",
        "    tokenizer = dist_tokenizer\n",
        "  else:\n",
        "    tokenizer = src_tokenizer\n",
        "  seqs = []\n",
        "  for sentence in sentences:\n",
        "    seq = [tokenizer.vocab_size] + tokenizer.encode(sentence) + [tokenizer.vocab_size + 1]\n",
        "    seqs.append(seq)\n",
        "  return seqs\n",
        "\n",
        "def create_dataset(src_seqs, dist_seqs, batch_size = 64):\n",
        "  buffer_size = len(src_seqs)\n",
        "  src_ds = tf.data.Dataset.from_generator(lambda: src_seqs, output_types = tf.int64)\n",
        "  dist_ds = tf.data.Dataset.from_generator(lambda: dist_seqs, output_types = tf.int64)\n",
        "  dataset = tf.data.Dataset.zip((src_ds, dist_ds))\n",
        "  dataset = dataset.cache()\n",
        "  dataset = dataset.shuffle(buffer_size)\n",
        "  dataset = dataset.padded_batch(batch_size, padded_shapes=([None], [None]))\n",
        "  dataset = dataset.prefetch(tf.data.experimental.AUTOTUNE)\n",
        "  return dataset\n",
        "\n",
        "src_seqs =  tokenize(src_sentences, lang = 'en')\n",
        "dist_seqs = tokenize(dist_sentences, lang = 'ar')\n",
        "dataset = create_dataset(src_seqs, dist_seqs, BATCH_SIZE)"
      ],
      "execution_count": 84,
      "outputs": []
    },
    {
      "cell_type": "code",
      "metadata": {
        "id": "uYpG9Anv-X7u",
        "colab_type": "code",
        "colab": {}
      },
      "source": [
        "sents2trans = [\n",
        "  'how to run a car?',\n",
        "  'what kind of food do you like?',\n",
        "  'he comes from syria.',\n",
        "  'he has a lot of money.', \n",
        "  'it is good.', \n",
        "  'do you have friends?',\n",
        "  'it is a nice weather.', \n",
        "  'they are very bad people.',\n",
        "  'do you need help?',\n",
        "]\n",
        "ind = np.random.randint(len(src_sentences))\n",
        "sent2trans = src_sentences[ind]"
      ],
      "execution_count": 85,
      "outputs": []
    },
    {
      "cell_type": "markdown",
      "metadata": {
        "id": "IrJs85e7VfDV",
        "colab_type": "text"
      },
      "source": [
        "# Self-attention Mechanism\n",
        "this work is based on [this paper](https://arxiv.org/pdf/1706.03762.pdf)"
      ]
    },
    {
      "cell_type": "markdown",
      "metadata": {
        "id": "cQMbtKx8S7US",
        "colab_type": "text"
      },
      "source": [
        "## Positional encoding\n",
        "This ecoding allows the model to be aware of the positions of the words in the sentence. Positional encoding is added to the embedding of the words. Words with similar meanings and similar positions in the sentence will be close to each other.\n",
        "\n",
        "$PE_{(pos, 2i)}=sin(\\frac{pos}{10000^{2i/d_{model}}})$\n",
        "\n",
        "$PE_{(pos, 2i + 1)}=cos(\\frac{pos}{10000^{2i/d_{model}}})$"
      ]
    },
    {
      "cell_type": "code",
      "metadata": {
        "id": "qH1Yu5apDOGP",
        "colab_type": "code",
        "colab": {
          "base_uri": "https://localhost:8080/",
          "height": 283
        },
        "outputId": "e5cec1e9-1fc2-4a84-bae3-4c5c13d887d7"
      },
      "source": [
        "def compute_angles(pos, i, d_model):\n",
        "  angle = pos / np.power(10000, 2 * (i//2) / d_model)\n",
        "  return angle\n",
        "\n",
        "def compute_positional_encoding(pos, d_model):\n",
        "  positions = np.arange(pos)[:, np.newaxis]\n",
        "  i = np.arange(d_model)[np.newaxis, :]\n",
        "  angles = compute_angles(positions, i, d_model)\n",
        "  encodings = np.zeros(angles.shape)\n",
        "  encodings[:, 0::2] = np.sin(angles[:, 0::2])\n",
        "  encodings[:, 1::2] = np.cos(angles[:, 1::2])\n",
        "  encodings = encodings[np.newaxis, :, :]\n",
        "  return tf.cast(encodings, dtype = tf.float32), angles\n",
        "\n",
        "positions_encoding, angles_rad = compute_positional_encoding(50, 512)\n",
        "\n",
        "plt.pcolormesh(angles_rad * 180 / (2 * np.pi) % 360, cmap='hsv')\n",
        "plt.xlim([0, angles_rad.shape[1]])\n",
        "plt.xlabel('Depth')\n",
        "plt.ylabel('Position')\n",
        "bar = plt.colorbar(label = 'Angle (deg)')\n",
        "bar.set_ticks(np.linspace(0, 360, 6 + 1))\n",
        "plt.show()"
      ],
      "execution_count": 87,
      "outputs": [
        {
          "output_type": "display_data",
          "data": {
            "image/png": "[encoded data removed]",
            "text/plain": [
              "<Figure size 432x288 with 2 Axes>"
            ]
          },
          "metadata": {
            "tags": [],
            "needs_background": "light"
          }
        }
      ]
    },
    {
      "cell_type": "markdown",
      "metadata": {
        "id": "CBZqQsZdqelL",
        "colab_type": "text"
      },
      "source": [
        "## Padding & Lookahead masking"
      ]
    },
    {
      "cell_type": "code",
      "metadata": {
        "id": "0uYXsa8RXLe6",
        "colab_type": "code",
        "colab": {}
      },
      "source": [
        "# create a mask that indicates to the positions of the padding tokens (batch_size, 1, 1, seq_len) \n",
        "def create_padding_mask(seq):\n",
        "  mask = tf.cast(tf.math.equal(seq, 0), dtype=tf.float32)\n",
        "  return mask[:, tf.newaxis, tf.newaxis, :]\n",
        "\n",
        "# create a mask that indicates which tokens are needed when predicting new token(seq_len, seq_len)\n",
        "def create_lookahead_mask(size):\n",
        "  return 1 - tf.linalg.band_part(tf.ones((size, size)), -1, 0)"
      ],
      "execution_count": 88,
      "outputs": []
    },
    {
      "cell_type": "markdown",
      "metadata": {
        "id": "PKgN0CFryBUC",
        "colab_type": "text"
      },
      "source": [
        "##Scaled Dot-Product Attention\n",
        "$Attention(Q,K,V)=softmax_k(\\frac{QK^T}{\\sqrt{d_k}})V$"
      ]
    },
    {
      "cell_type": "code",
      "metadata": {
        "id": "7g8UKTgeq9XT",
        "colab_type": "code",
        "colab": {
          "base_uri": "https://localhost:8080/",
          "height": 442
        },
        "outputId": "53e521dc-5aa9-46ae-aeae-2a11288773cd"
      },
      "source": [
        "def scaled_dot_product_attention(q, k, v, mask):\n",
        "  qt = tf.matmul(q, k, transpose_b = True)\n",
        "  dk = tf.cast(tf.shape(k)[-1], tf.float32)\n",
        "  scaled_attention_logits = qt / tf.math.sqrt(dk)\n",
        "  if mask is not None:\n",
        "    scaled_attention_logits += (mask * -1e9)\n",
        "  attention_weights = tf.nn.softmax(scaled_attention_logits, axis = -1)\n",
        "  output = tf.matmul(attention_weights, v)\n",
        "  return output, attention_weights\n",
        "\n",
        "def print_out(q, k, v):\n",
        "  output, weights = scaled_dot_product_attention(q, k, v, None)\n",
        "  print('weights:')\n",
        "  print(weights)\n",
        "  print('output:')\n",
        "  print(output)\n",
        "\n",
        "temp_k = tf.constant([\n",
        "                      [10, 0, 0],\n",
        "                      [0, 10, 0],\n",
        "                      [0, 0, 10],\n",
        "                      [0, 0, 10],\n",
        "], dtype = tf.float32)\n",
        "temp_v = tf.constant([\n",
        "                      [1, 0],\n",
        "                      [10, 0],\n",
        "                      [100, 5],\n",
        "                      [1000, 6]\n",
        "], dtype = tf.float32)\n",
        "temp_q = tf.constant([[0, 10, 1]], dtype= tf.float32)\n",
        "print_out(temp_q, temp_k, temp_v)\n",
        "print()\n",
        "temp_q = tf.constant([[0, 0, 10]], dtype=tf.float32)  # (1, 3)\n",
        "print_out(temp_q, temp_k, temp_v)\n",
        "print()\n",
        "temp_q = tf.constant([[10, 10, 0]], dtype=tf.float32)  # (1, 3)\n",
        "print_out(temp_q, temp_k, temp_v)\n",
        "print()\n",
        "temp_q = tf.constant([[0, 0, 10], [0, 10, 0], [10, 10, 0]], dtype=tf.float32)  # (3, 3)\n",
        "print_out(temp_q, temp_k, temp_v)\n"
      ],
      "execution_count": 89,
      "outputs": [
        {
          "output_type": "stream",
          "text": [
            "weights:\n",
            "tf.Tensor([[8.4332738e-26 1.0000000e+00 2.7126667e-23 2.7126667e-23]], shape=(1, 4), dtype=float32)\n",
            "output:\n",
            "tf.Tensor([[1.0000000e+01 2.9839334e-22]], shape=(1, 2), dtype=float32)\n",
            "\n",
            "weights:\n",
            "tf.Tensor([[4.216637e-26 4.216637e-26 5.000000e-01 5.000000e-01]], shape=(1, 4), dtype=float32)\n",
            "output:\n",
            "tf.Tensor([[550.    5.5]], shape=(1, 2), dtype=float32)\n",
            "\n",
            "weights:\n",
            "tf.Tensor([[5.000000e-01 5.000000e-01 4.216637e-26 4.216637e-26]], shape=(1, 4), dtype=float32)\n",
            "output:\n",
            "tf.Tensor([[5.5000000e+00 4.6383005e-25]], shape=(1, 2), dtype=float32)\n",
            "\n",
            "weights:\n",
            "tf.Tensor(\n",
            "[[4.216637e-26 4.216637e-26 5.000000e-01 5.000000e-01]\n",
            " [8.433274e-26 1.000000e+00 8.433274e-26 8.433274e-26]\n",
            " [5.000000e-01 5.000000e-01 4.216637e-26 4.216637e-26]], shape=(3, 4), dtype=float32)\n",
            "output:\n",
            "tf.Tensor(\n",
            "[[5.5000000e+02 5.5000000e+00]\n",
            " [1.0000000e+01 9.2766009e-25]\n",
            " [5.5000000e+00 4.6383005e-25]], shape=(3, 2), dtype=float32)\n"
          ],
          "name": "stdout"
        }
      ]
    },
    {
      "cell_type": "markdown",
      "metadata": {
        "id": "CE04WiJ1FPjT",
        "colab_type": "text"
      },
      "source": [
        "## Multihead-Attention\n",
        "Multihead attention consists of four parts:\n",
        "\n",
        "*  linear layers and split into heads\n",
        "*  scaler dot product attention\n",
        "*  concatenation of heads\n",
        "*  final linear layer"
      ]
    },
    {
      "cell_type": "code",
      "metadata": {
        "id": "EwXBDuAGFb1V",
        "colab_type": "code",
        "colab": {
          "base_uri": "https://localhost:8080/",
          "height": 34
        },
        "outputId": "5d235e71-1608-4225-8666-67a2eb7fc68d"
      },
      "source": [
        "class MultiHeadAttention(Layer):\n",
        "  def __init__(self, d_model, heads_num):\n",
        "    super(MultiHeadAttention, self).__init__()\n",
        "    self.d_model = d_model\n",
        "    self.heads_num = heads_num\n",
        "    self.depth = self.d_model // self.heads_num\n",
        "\n",
        "    self.wq = Dense(d_model)\n",
        "    self.wk = Dense(d_model)\n",
        "    self.wv = Dense(d_model)\n",
        "\n",
        "    self.fc = Dense(d_model)\n",
        "  \n",
        "  def split_into_heads(self, x, batch_size):\n",
        "    x = tf.reshape(x, (batch_size, -1, self.heads_num, self.depth))\n",
        "    return tf.transpose(x, perm = (0, 2, 1, 3))\n",
        "  \n",
        "  def call(self, k, v, q, mask):\n",
        "    batch_size = tf.shape(q)[0]\n",
        "    q = self.wq(q) # batch_size, seq_len_q, d_model\n",
        "    k = self.wk(k)\n",
        "    v = self.wv(v)\n",
        "\n",
        "    q = self.split_into_heads(q, batch_size) # batch_size, heads_num, seq_len_q, depth\n",
        "    k = self.split_into_heads(k, batch_size)\n",
        "    v = self.split_into_heads(v, batch_size)\n",
        "\n",
        "    scaled_attention, attention_weights = scaled_dot_product_attention(q, k, v, mask)\n",
        "\n",
        "    scaled_attention = tf.transpose(scaled_attention, perm = (0, 2, 1, 3))\n",
        "    concat_attention = tf.reshape(scaled_attention, (batch_size, -1, self.d_model)) \n",
        "\n",
        "    return self.fc(concat_attention), attention_weights\n",
        "\n",
        "temp_attention_layer = MultiHeadAttention(512, 8)\n",
        "y = tf.random.uniform((1, 60, 512))\n",
        "out, weights = temp_attention_layer(y, y, y, None)\n",
        "out.shape, weights.shape"
      ],
      "execution_count": 90,
      "outputs": [
        {
          "output_type": "execute_result",
          "data": {
            "text/plain": [
              "(TensorShape([1, 60, 512]), TensorShape([1, 8, 60, 60]))"
            ]
          },
          "metadata": {
            "tags": []
          },
          "execution_count": 90
        }
      ]
    },
    {
      "cell_type": "markdown",
      "metadata": {
        "id": "0SeYHcJ4MzR5",
        "colab_type": "text"
      },
      "source": [
        "## Point-wise feed forward network"
      ]
    },
    {
      "cell_type": "code",
      "metadata": {
        "id": "Gf8_ccaUMwmQ",
        "colab_type": "code",
        "colab": {
          "base_uri": "https://localhost:8080/",
          "height": 34
        },
        "outputId": "b7e5aa64-0ec2-4490-952a-da76e1e23c8e"
      },
      "source": [
        "def point_wise_feed_forward_network(d_model, ff_units_num):\n",
        "  return Sequential([\n",
        "                     Dense(ff_units_num, activation = 'relu'),\n",
        "                     Dense(d_model)\n",
        "  ])\n",
        "\n",
        "sample_ff = point_wise_feed_forward_network(512, 2048)\n",
        "sample_ff(tf.random.uniform((64, 50, 512))).shape"
      ],
      "execution_count": 91,
      "outputs": [
        {
          "output_type": "execute_result",
          "data": {
            "text/plain": [
              "TensorShape([64, 50, 512])"
            ]
          },
          "metadata": {
            "tags": []
          },
          "execution_count": 91
        }
      ]
    },
    {
      "cell_type": "markdown",
      "metadata": {
        "id": "Sw4RJbSpN6Wy",
        "colab_type": "text"
      },
      "source": [
        "## Encoder-Decoder"
      ]
    },
    {
      "cell_type": "markdown",
      "metadata": {
        "id": "Re2KYIRDOcmV",
        "colab_type": "text"
      },
      "source": [
        "### Encoder Layer\n",
        "Each encoder layer consists of 2 sub-layers:\n",
        "\n",
        "*  Multihead attention(with padding mask)\n",
        "*  point-wise feed forward network\n",
        "\n",
        "For each sub-layer:\n",
        "*  the output is $LayerNorm(x + Sublayer(x))$\n",
        "*  we implement a residual connection around it followed by a linear normalization"
      ]
    },
    {
      "cell_type": "code",
      "metadata": {
        "id": "pe2a7C18NQCe",
        "colab_type": "code",
        "colab": {
          "base_uri": "https://localhost:8080/",
          "height": 34
        },
        "outputId": "0254bfb9-3242-4d1f-9396-eb685973d750"
      },
      "source": [
        "class EncoderLayer(Layer):\n",
        "  def __init__(self, d_model, heads_num, ff_units_num, dp_rate = 0.1):\n",
        "    super(EncoderLayer, self).__init__()\n",
        "    \n",
        "    self.multihead_attention = MultiHeadAttention(d_model, heads_num)\n",
        "    self.dropout1 = Dropout(dp_rate)\n",
        "    self.layer_norm1 = LayerNormalization(epsilon = 1e-6)\n",
        "\n",
        "    self.feed_forward = point_wise_feed_forward_network(d_model, ff_units_num)\n",
        "    self.dropout2 = Dropout(dp_rate)\n",
        "    self.layer_norm2 = LayerNormalization(epsilon = 1e-6)\n",
        "  \n",
        "  def call(self, x, is_training, mask):\n",
        "    attention_output, _ = self.multihead_attention(x, x, x, mask)\n",
        "    attention_output = self.dropout1(attention_output, training = is_training)\n",
        "    sub_layer_output = self.layer_norm1(x + attention_output)\n",
        "\n",
        "    feed_forward_output = self.feed_forward(sub_layer_output)\n",
        "    feed_forward_output = self.dropout2(feed_forward_output, training = is_training)\n",
        "    output = self.layer_norm2(sub_layer_output + feed_forward_output)\n",
        "    return output\n",
        "\n",
        "encoder_layer = EncoderLayer(512, 8, 2048, 0.2)\n",
        "enc_out = encoder_layer(tf.random.uniform((64, 60, 512)), True, None)\n",
        "enc_out.shape"
      ],
      "execution_count": 92,
      "outputs": [
        {
          "output_type": "execute_result",
          "data": {
            "text/plain": [
              "TensorShape([64, 60, 512])"
            ]
          },
          "metadata": {
            "tags": []
          },
          "execution_count": 92
        }
      ]
    },
    {
      "cell_type": "markdown",
      "metadata": {
        "id": "dqUrC9s7UM8c",
        "colab_type": "text"
      },
      "source": [
        "###Decoder Layer\n",
        "Each decoder layer consists of 3 sub-layers:\n",
        "*  masked Multihead attention sub-layer with lookahead mask and padding mask\n",
        "*  multihead attention sub-layer with padding mask. it recieves the encoder output and used as key-value, and recieves the decoder first sub-layer's output and use it as a query\n",
        "*  point wise feed forward network\n",
        "\n",
        "For each sub-layer:\n",
        "\n",
        "*  We implement a residual connection around it followed by linear normalization\n",
        "*  the output is $LayerNorm(x + Sublayer(x))$\n",
        "\n",
        "The decoder predicts the next word by attending the encoder output and its own output."
      ]
    },
    {
      "cell_type": "code",
      "metadata": {
        "id": "orGcR6qoUQkz",
        "colab_type": "code",
        "colab": {
          "base_uri": "https://localhost:8080/",
          "height": 68
        },
        "outputId": "2bccde72-8f88-4ebf-86d7-328debdef3b1"
      },
      "source": [
        "class DecoderLayer(Layer):\n",
        "  def __init__(self, d_model, heads_num, ff_units_num, dp_rate = 0.1):\n",
        "    super(DecoderLayer, self).__init__()\n",
        "    self.masked_multihead_attention = MultiHeadAttention(d_model, heads_num)\n",
        "    self.dropout1 = Dropout(dp_rate)\n",
        "    self.layer_norm1 = LayerNormalization(epsilon = 1e-6)\n",
        "\n",
        "    self.multihead_attention = MultiHeadAttention(d_model, heads_num)\n",
        "    self.dropout2 = Dropout(dp_rate)\n",
        "    self.layer_norm2 = LayerNormalization(epsilon = 1e-6)\n",
        "\n",
        "    self.feed_forward = point_wise_feed_forward_network(d_model, ff_units_num)\n",
        "    self.dropout3 = Dropout(dp_rate)\n",
        "    self.layer_norm3 = LayerNormalization(epsilon = 1e-6)\n",
        "  \n",
        "  def call(self, x, enc_output, is_training, look_ahead_mask, mask):\n",
        "    mmha_out, self_attention_weights = self.masked_multihead_attention(x, x, x, look_ahead_mask)\n",
        "    mmha_out = self.dropout1(mmha_out, training = is_training)\n",
        "    out1 = self.layer_norm1(mmha_out + x)\n",
        "\n",
        "    mha_out, attention_weights = self.multihead_attention(k = enc_output, v = enc_output, q = out1, mask = mask)\n",
        "    mha_out = self.dropout2(mha_out, training = is_training)\n",
        "    out2 = self.layer_norm2(mha_out + out1)\n",
        "\n",
        "    ff_out = self.feed_forward(out2)\n",
        "    ff_out = self.dropout3(ff_out, training = is_training)\n",
        "    out3 = self.layer_norm3(ff_out + out2)\n",
        "    return out3, self_attention_weights, attention_weights\n",
        "\n",
        "decoder_layer = DecoderLayer(512, 8, 2048, 0.2)\n",
        "x = tf.random.uniform((64, 80, 512))\n",
        "dec_out, self_attention_weights, dec_weights = decoder_layer(x, enc_out, True, None, None)\n",
        "\n",
        "dec_out.shape, self_attention_weights.shape, dec_weights.shape"
      ],
      "execution_count": 93,
      "outputs": [
        {
          "output_type": "execute_result",
          "data": {
            "text/plain": [
              "(TensorShape([64, 80, 512]),\n",
              " TensorShape([64, 8, 80, 80]),\n",
              " TensorShape([64, 8, 80, 60]))"
            ]
          },
          "metadata": {
            "tags": []
          },
          "execution_count": 93
        }
      ]
    },
    {
      "cell_type": "markdown",
      "metadata": {
        "id": "Adm0v4REt8GO",
        "colab_type": "text"
      },
      "source": [
        "###Encoder\n",
        "Ther encoder consists of:\n",
        "*  embedding layer\n",
        "*  positional encoder\n",
        "*  N encoder layers"
      ]
    },
    {
      "cell_type": "code",
      "metadata": {
        "id": "8334Fw1kuAUT",
        "colab_type": "code",
        "colab": {
          "base_uri": "https://localhost:8080/",
          "height": 34
        },
        "outputId": "b24d328e-6669-4eb6-dfb5-f26ada835d70"
      },
      "source": [
        "class Encoder(Layer):\n",
        "  def __init__(self, layers_num, d_model, heads_num, ff_units_num, vocab_size, max_pos_enc, dp_rate = 0.1):\n",
        "    super(Encoder, self).__init__()\n",
        "    self.d_model = d_model\n",
        "    self.layers_num = layers_num\n",
        "\n",
        "    self.embeddings = Embedding(vocab_size, d_model)\n",
        "    self.pos_encodings, _ = compute_positional_encoding(max_pos_enc, d_model)\n",
        "    self.enc_layers = [EncoderLayer(d_model, heads_num, ff_units_num, dp_rate) for _ in range(layers_num)]\n",
        "    self.dropout = Dropout(dp_rate)\n",
        "  \n",
        "  def call(self, x, is_training, mask):\n",
        "    seq_len = tf.shape(x)[1]\n",
        "    x = self.embeddings(x)\n",
        "    x = x * tf.sqrt(tf.cast(self.d_model, tf.float32))\n",
        "    x = x + self.pos_encodings[:, :seq_len, :]\n",
        "\n",
        "    x = self.dropout(x, training = is_training)\n",
        "\n",
        "    for i in range(self.layers_num):\n",
        "      x = self.enc_layers[i](x, is_training, mask)\n",
        "    return x\n",
        "\n",
        "encoder = Encoder(5, 512, 8, 2048, src_vocabs_size, 10000)\n",
        "x = tf.random.uniform((64, 62))\n",
        "enc_out = encoder(x, False, None)\n",
        "enc_out.shape"
      ],
      "execution_count": 94,
      "outputs": [
        {
          "output_type": "execute_result",
          "data": {
            "text/plain": [
              "TensorShape([64, 62, 512])"
            ]
          },
          "metadata": {
            "tags": []
          },
          "execution_count": 94
        }
      ]
    },
    {
      "cell_type": "markdown",
      "metadata": {
        "id": "ORtmeUQRt52N",
        "colab_type": "text"
      },
      "source": [
        "###Decoder\n",
        "Ther decoder consists of:\n",
        "\n",
        "*  embedding layer\n",
        "*  positional encoder\n",
        "*  N encoder layers"
      ]
    },
    {
      "cell_type": "code",
      "metadata": {
        "id": "chYhDE6ypcLW",
        "colab_type": "code",
        "colab": {
          "base_uri": "https://localhost:8080/",
          "height": 34
        },
        "outputId": "5c045513-5b4c-44bc-d38a-faa510eb10e1"
      },
      "source": [
        "class Decoder(Layer):\n",
        "  def __init__(self, layers_num, d_model, heads_num, ff_units_num, vocab_size, max_pos_enc, dp_rate = 0.1):\n",
        "    super(Decoder, self).__init__()\n",
        "    self.layers_num = layers_num\n",
        "    self.d_model = d_model\n",
        "\n",
        "    self.embeddings = Embedding(vocab_size, d_model)\n",
        "    self.pos_encodings, _ = compute_positional_encoding(max_pos_enc, d_model)\n",
        "    self.dec_layers = [DecoderLayer(d_model, heads_num, ff_units_num, dp_rate) for _ in range(layers_num)]\n",
        "    self.dropout = Dropout(dp_rate)\n",
        "  \n",
        "  def call(self, x, enc_output, is_training, lookahead_mask, mask):\n",
        "    attention_weigths_dic = {}\n",
        "    seq_len = tf.shape(x)[1]\n",
        "    x = self.embeddings(x)\n",
        "    x = x * tf.sqrt(tf.cast(self.d_model, tf.float32))\n",
        "    x = x + self.pos_encodings[:, :seq_len, :]\n",
        "\n",
        "    x = self.dropout(x, training = is_training)\n",
        "\n",
        "    for i in range(self.layers_num):\n",
        "      x, self_attention_weigths, attention_weigths = self.dec_layers[i](x, enc_output, is_training, lookahead_mask, mask)\n",
        "      attention_weigths_dic['dec_layer{}_self_attention'.format(i + 1)] = self_attention_weigths\n",
        "      attention_weigths_dic['dec_layer{}_attention'.format(i + 1)] = attention_weigths\n",
        "    \n",
        "    return x, attention_weigths_dic\n",
        "  \n",
        "decoder = Decoder(5, 512, 8, 2048, dist_vocabs_size, 10000, )\n",
        "x = tf.random.uniform((64, 50))\n",
        "dec_out, attention_dic = decoder(x, enc_out, True, None, None)\n",
        "dec_out.shape, len(attention_dic)"
      ],
      "execution_count": 95,
      "outputs": [
        {
          "output_type": "execute_result",
          "data": {
            "text/plain": [
              "(TensorShape([64, 50, 512]), 10)"
            ]
          },
          "metadata": {
            "tags": []
          },
          "execution_count": 95
        }
      ]
    },
    {
      "cell_type": "markdown",
      "metadata": {
        "id": "9PTykvv67RXv",
        "colab_type": "text"
      },
      "source": [
        "#Transformer"
      ]
    },
    {
      "cell_type": "code",
      "metadata": {
        "id": "jrAR5jFX4fQu",
        "colab_type": "code",
        "colab": {
          "base_uri": "https://localhost:8080/",
          "height": 34
        },
        "outputId": "23d456db-7b03-42c2-d671-b0b34db31f35"
      },
      "source": [
        "class Transformer(Model):\n",
        "  def __init__(self, layers_num, d_model, heads_num, ff_units_num, \n",
        "               src_vocab_size, dist_vocab_size,\n",
        "               src_max_pos_enc, dist_max_pos_enc, dp_rate = 0.1,):\n",
        "    super(Transformer, self).__init__()\n",
        "    \n",
        "    self.encoder = Encoder(layers_num, d_model, heads_num, ff_units_num, src_vocab_size, src_max_pos_enc, dp_rate)\n",
        "    self.decoder = Decoder(layers_num, d_model, heads_num, ff_units_num, dist_vocab_size, dist_max_pos_enc, dp_rate)\n",
        "    self.fc = Dense(dist_vocab_size)\n",
        "  \n",
        "  def call(self, src_input, dist_input, is_training, src_mask, dist_lah_mask, dist_mask):\n",
        "    enc_out = self.encoder(src_input, is_training, src_mask)\n",
        "    dec_out, attention_dict = self.decoder(dist_input, enc_out, is_training, dist_lah_mask, dist_mask)\n",
        "    output = self.fc(dec_out)\n",
        "    return output, attention_dict\n",
        "\n",
        "\n",
        "sample_transformer = Transformer(5, 512, 8, 2048, src_vocabs_size, dist_vocabs_size, 10**4, 10**4, 0.1)\n",
        "src_x = tf.random.uniform((64, 49))\n",
        "dist_x = tf.random.uniform((64, 50))\n",
        "trans_out, trans_attention_dict = sample_transformer(src_x, dist_x, True, None, None, None)\n",
        "trans_out.shape, len(trans_attention_dict)"
      ],
      "execution_count": 96,
      "outputs": [
        {
          "output_type": "execute_result",
          "data": {
            "text/plain": [
              "(TensorShape([64, 50, 12530]), 10)"
            ]
          },
          "metadata": {
            "tags": []
          },
          "execution_count": 96
        }
      ]
    },
    {
      "cell_type": "markdown",
      "metadata": {
        "id": "ParwxY3Rn7oC",
        "colab_type": "text"
      },
      "source": [
        "## Hyperparameters"
      ]
    },
    {
      "cell_type": "code",
      "metadata": {
        "id": "G3D8Q6o5kkZH",
        "colab_type": "code",
        "colab": {}
      },
      "source": [
        "layers_num = 4 #6\n",
        "d_model = 128 #512\n",
        "ff_units_num = 512 #2048\n",
        "heads_num = 8 #8\n",
        "dp_rate = 0.1 #0.1\n",
        "\n",
        "EPOCHS = 20\n",
        "DIST_MAX_LEN = 40"
      ],
      "execution_count": 97,
      "outputs": []
    },
    {
      "cell_type": "markdown",
      "metadata": {
        "id": "uxtxR2j8p0aM",
        "colab_type": "text"
      },
      "source": [
        "##Optimizer\n",
        "\n",
        "We use Adam optimizer with $\\beta_1 =0.9, \\beta_2=0.98, \\epsilon=10^{-9}$ and scheduled learning rate: \n",
        "\n",
        "$lr=\\frac{1}{\\sqrt{d_{model}}}min(\\frac{1}{\\sqrt{step\\_num}}, \\frac{step\\_num}{\\sqrt{warmup\\_step^3}})$\n",
        "\n",
        "According to the equation, learning rate will increase at the begining of the training, then it will decrease."
      ]
    },
    {
      "cell_type": "code",
      "metadata": {
        "id": "N69nJW8apLxr",
        "colab_type": "code",
        "colab": {
          "base_uri": "https://localhost:8080/",
          "height": 280
        },
        "outputId": "f89768db-ef08-4c3c-e107-d0431aa318cb"
      },
      "source": [
        "class LearningRateDecaySchedule(LearningRateSchedule):\n",
        "  def __init__(self, d_model, warmup_steps = 4000):\n",
        "    super(LearningRateSchedule, self).__init__()\n",
        "    self.d_model = tf.cast(d_model, tf.float32)\n",
        "    self.warmpu_steps = tf.cast(warmup_steps, dtype=tf.float32)\n",
        "\n",
        "  def __call__(self, step_num):\n",
        "    min_term_arg1 = tf.math.rsqrt(step_num)\n",
        "    min_term_arg2 = step_num * tf.math.rsqrt(tf.math.pow(self.warmpu_steps, 3))\n",
        "    min_term = tf.math.minimum(min_term_arg1, min_term_arg2)\n",
        "    return tf.math.rsqrt(self.d_model) * min_term\n",
        "\n",
        "temp_lr = LearningRateDecaySchedule(d_model)\n",
        "steps = tf.range(4*10**4, dtype=tf.float32)\n",
        "plt.plot(temp_lr(steps))\n",
        "plt.xlabel('step_num')\n",
        "plt.ylabel('learning rate')\n",
        "plt.show()"
      ],
      "execution_count": 98,
      "outputs": [
        {
          "output_type": "display_data",
          "data": {
            "image/png": "[encoded data removed]",
            "text/plain": [
              "<Figure size 432x288 with 1 Axes>"
            ]
          },
          "metadata": {
            "tags": [],
            "needs_background": "light"
          }
        }
      ]
    },
    {
      "cell_type": "code",
      "metadata": {
        "id": "Mrs0Wbbjv6nm",
        "colab_type": "code",
        "colab": {}
      },
      "source": [
        "lr = LearningRateDecaySchedule(d_model)\n",
        "optimizer = Adam(learning_rate=lr, beta_1=0.9, beta_2=0.98, epsilon=1e-9)"
      ],
      "execution_count": 99,
      "outputs": []
    },
    {
      "cell_type": "markdown",
      "metadata": {
        "id": "542i3eDv0bUR",
        "colab_type": "text"
      },
      "source": [
        "## Loss and Metrics"
      ]
    },
    {
      "cell_type": "code",
      "metadata": {
        "id": "sATuyeRSxWyO",
        "colab_type": "code",
        "colab": {}
      },
      "source": [
        "loss_objective = SparseCategoricalCrossentropy(from_logits = True, reduction = 'none')\n",
        "\n",
        "def loss_function(y_true, y_hat):\n",
        "  mask = tf.logical_not(tf.math.equal(y_true, 0))\n",
        "  loss_ = loss_objective(y_true, y_hat)\n",
        "  mask = tf.cast(mask, dtype=loss_.dtype)\n",
        "  loss_ *= mask\n",
        "  return tf.reduce_mean(loss_)\n",
        "\n",
        "training_loss = Mean(name = 'training_loss')\n",
        "training_acc = SparseTopKCategoricalAccuracy(name = 'training_acc')"
      ],
      "execution_count": 100,
      "outputs": []
    },
    {
      "cell_type": "markdown",
      "metadata": {
        "id": "HnPoMmVEDKS9",
        "colab_type": "text"
      },
      "source": [
        "## Training & Checkpoints"
      ]
    },
    {
      "cell_type": "code",
      "metadata": {
        "id": "9idHEsqABBAs",
        "colab_type": "code",
        "colab": {}
      },
      "source": [
        "#!rm -R checkpoints"
      ],
      "execution_count": 102,
      "outputs": []
    },
    {
      "cell_type": "code",
      "metadata": {
        "id": "KTXZEFF428gq",
        "colab_type": "code",
        "colab": {}
      },
      "source": [
        "transformer = Transformer(\n",
        "    layers_num, d_model, heads_num, ff_units_num,\n",
        "    src_vocabs_size, dist_vocabs_size,\n",
        "    src_max_pos_enc = src_vocabs_size, dist_max_pos_enc = dist_vocabs_size,\n",
        "    dp_rate = dp_rate,\n",
        ")\n",
        "\n",
        "ckpt_dir = 'checkpoints/training'\n",
        "ckpt = Checkpoint(transformer = transformer, optimizer = optimizer)\n",
        "ckpt_manager = CheckpointManager(ckpt, ckpt_dir, max_to_keep = 5)\n",
        "if ckpt_manager.latest_checkpoint:\n",
        "  ckpt.restore(ckpt_manager.latest_checkpoint)\n",
        "  print('Last training checkpoint is restored!')"
      ],
      "execution_count": 103,
      "outputs": []
    },
    {
      "cell_type": "code",
      "metadata": {
        "id": "-ObOl_T5FTSy",
        "colab_type": "code",
        "colab": {}
      },
      "source": [
        "def create_masks(src_seqs, dist_seqs):\n",
        "  enc_padding_mask = create_padding_mask(src_seqs)\n",
        "\n",
        "  dec_att_padding_mask = create_padding_mask(src_seqs)\n",
        "\n",
        "  padding_mask = create_padding_mask(dist_seqs)\n",
        "  lookahead_mask = create_lookahead_mask(tf.shape(dist_seqs)[1])\n",
        "  dec_lah_mask = tf.maximum(padding_mask, lookahead_mask)\n",
        "\n",
        "  return enc_padding_mask, dec_lah_mask, dec_att_padding_mask\n"
      ],
      "execution_count": 104,
      "outputs": []
    },
    {
      "cell_type": "code",
      "metadata": {
        "id": "Ydw2oLCYIEgH",
        "colab_type": "code",
        "colab": {}
      },
      "source": [
        "train_step_signature = [\n",
        "                        tf.TensorSpec(shape = (None, None), dtype = tf.int64),\n",
        "                        tf.TensorSpec(shape = (None, None), dtype = tf.int64),\n",
        "]\n",
        "@tf.function(input_signature = train_step_signature)\n",
        "def train_step(src_seqs, dist_seqs):\n",
        "  dist_seqs_shifted = dist_seqs[:, :-1]\n",
        "  dist_seqs_real = dist_seqs[:, 1:]\n",
        "\n",
        "  enc_padding_mask, dec_lah_mask, dec_att_padding_mask = create_masks(src_seqs, dist_seqs_shifted)\n",
        "\n",
        "  with tf.GradientTape() as tape:\n",
        "    y_hat, _ = transformer(\n",
        "        src_seqs, dist_seqs_shifted, \n",
        "        True, \n",
        "        enc_padding_mask, dec_lah_mask, dec_att_padding_mask,\n",
        "    )\n",
        "    loss = loss_function(dist_seqs_real, y_hat)\n",
        "\n",
        "  variables = transformer.trainable_variables\n",
        "  grads = tape.gradient(loss, variables)\n",
        "  optimizer.apply_gradients(zip(grads, variables))\n",
        "\n",
        "  training_loss(loss)\n",
        "  training_acc(dist_seqs_real, y_hat)\n"
      ],
      "execution_count": 105,
      "outputs": []
    },
    {
      "cell_type": "code",
      "metadata": {
        "id": "uAPGXl9HRrxb",
        "colab_type": "code",
        "colab": {
          "base_uri": "https://localhost:8080/",
          "height": 1000
        },
        "outputId": "749fc9fa-abb4-4740-aac9-297bf3eb0b38"
      },
      "source": [
        "def train_transformer():\n",
        "  for epoch in range(1, EPOCHS + 1):\n",
        "    start = time.time()\n",
        "    training_loss.reset_states()\n",
        "    training_acc.reset_states()\n",
        "\n",
        "    for batch, (src_seqs, dist_seqs) in enumerate(dataset):\n",
        "      train_step(src_seqs, dist_seqs)\n",
        "      \n",
        "      if batch % 50 == 0:\n",
        "        msg = 'Epoch {} Batch {} Loss {:.4f} Accuracy {:.4f}'.format(\n",
        "            epoch, batch, training_loss.result(), training_acc.result(),\n",
        "        )\n",
        "        print(msg)\n",
        "\n",
        "    if epoch % 2 == 0:\n",
        "      ckpt_save_path = ckpt_manager.save()\n",
        "      msg = 'Saving checkpoint for epoch {} at {}'.format(\n",
        "          epoch, ckpt_save_path\n",
        "      )\n",
        "      print(msg)\n",
        "    \n",
        "    msg = 'Epoch {} Loss {:.4f} Accuracy {:.4f}'.format(\n",
        "            epoch, training_loss.result(), training_acc.result(),\n",
        "    )\n",
        "    print(msg)\n",
        "    msg = 'Time taken for {}th epoch is {:.2f} secs.\\n'.format(\n",
        "        epoch, time.time() - start\n",
        "    )\n",
        "    print(msg)\n",
        "\n",
        "train_transformer()"
      ],
      "execution_count": 106,
      "outputs": [
        {
          "output_type": "stream",
          "text": [
            "Epoch 1 Batch 0 Loss 4.5921 Accuracy 0.0000\n",
            "Epoch 1 Batch 50 Loss 4.6024 Accuracy 0.0030\n",
            "Epoch 1 Batch 100 Loss 4.5261 Accuracy 0.0649\n",
            "Epoch 1 Batch 150 Loss 4.4428 Accuracy 0.0931\n",
            "Epoch 1 Loss 4.3842 Accuracy 0.1006\n",
            "Time taken for 1th epoch is 31.34 secs.\n",
            "\n",
            "Epoch 2 Batch 0 Loss 4.3048 Accuracy 0.1732\n",
            "Epoch 2 Batch 50 Loss 4.0997 Accuracy 0.1545\n",
            "Epoch 2 Batch 100 Loss 4.0038 Accuracy 0.1544\n",
            "Epoch 2 Batch 150 Loss 3.9388 Accuracy 0.1543\n",
            "Saving checkpoint for epoch 2 at checkpoints/training/ckpt-1\n",
            "Epoch 2 Loss 3.8871 Accuracy 0.1551\n",
            "Time taken for 2th epoch is 13.15 secs.\n",
            "\n",
            "Epoch 3 Batch 0 Loss 3.6261 Accuracy 0.1732\n",
            "Epoch 3 Batch 50 Loss 3.4456 Accuracy 0.1612\n",
            "Epoch 3 Batch 100 Loss 3.3719 Accuracy 0.1584\n",
            "Epoch 3 Batch 150 Loss 3.2831 Accuracy 0.1584\n",
            "Epoch 3 Loss 3.2490 Accuracy 0.1590\n",
            "Time taken for 3th epoch is 12.92 secs.\n",
            "\n",
            "Epoch 4 Batch 0 Loss 2.5777 Accuracy 0.1484\n",
            "Epoch 4 Batch 50 Loss 2.8482 Accuracy 0.1610\n",
            "Epoch 4 Batch 100 Loss 2.8566 Accuracy 0.1646\n",
            "Epoch 4 Batch 150 Loss 2.8496 Accuracy 0.1663\n",
            "Saving checkpoint for epoch 4 at checkpoints/training/ckpt-2\n",
            "Epoch 4 Loss 2.8318 Accuracy 0.1676\n",
            "Time taken for 4th epoch is 13.11 secs.\n",
            "\n",
            "Epoch 5 Batch 0 Loss 3.5463 Accuracy 0.2448\n",
            "Epoch 5 Batch 50 Loss 2.6703 Accuracy 0.1762\n",
            "Epoch 5 Batch 100 Loss 2.6126 Accuracy 0.1767\n",
            "Epoch 5 Batch 150 Loss 2.6162 Accuracy 0.1797\n",
            "Epoch 5 Loss 2.6201 Accuracy 0.1813\n",
            "Time taken for 5th epoch is 12.78 secs.\n",
            "\n",
            "Epoch 6 Batch 0 Loss 2.8197 Accuracy 0.2091\n",
            "Epoch 6 Batch 50 Loss 2.4614 Accuracy 0.1831\n",
            "Epoch 6 Batch 100 Loss 2.4701 Accuracy 0.1872\n",
            "Epoch 6 Batch 150 Loss 2.5067 Accuracy 0.1929\n",
            "Saving checkpoint for epoch 6 at checkpoints/training/ckpt-3\n",
            "Epoch 6 Loss 2.5028 Accuracy 0.1940\n",
            "Time taken for 6th epoch is 13.19 secs.\n",
            "\n",
            "Epoch 7 Batch 0 Loss 2.4094 Accuracy 0.2161\n",
            "Epoch 7 Batch 50 Loss 2.3858 Accuracy 0.2057\n",
            "Epoch 7 Batch 100 Loss 2.4055 Accuracy 0.2090\n",
            "Epoch 7 Batch 150 Loss 2.3486 Accuracy 0.2026\n",
            "Epoch 7 Loss 2.3632 Accuracy 0.2058\n",
            "Time taken for 7th epoch is 12.94 secs.\n",
            "\n",
            "Epoch 8 Batch 0 Loss 2.3920 Accuracy 0.2175\n",
            "Epoch 8 Batch 50 Loss 2.2160 Accuracy 0.2106\n",
            "Epoch 8 Batch 100 Loss 2.1994 Accuracy 0.2091\n",
            "Epoch 8 Batch 150 Loss 2.2098 Accuracy 0.2125\n",
            "Saving checkpoint for epoch 8 at checkpoints/training/ckpt-4\n",
            "Epoch 8 Loss 2.2228 Accuracy 0.2146\n",
            "Time taken for 8th epoch is 13.09 secs.\n",
            "\n",
            "Epoch 9 Batch 0 Loss 1.8298 Accuracy 0.2009\n",
            "Epoch 9 Batch 50 Loss 2.1301 Accuracy 0.2231\n",
            "Epoch 9 Batch 100 Loss 2.1076 Accuracy 0.2242\n",
            "Epoch 9 Batch 150 Loss 2.1082 Accuracy 0.2244\n",
            "Epoch 9 Loss 2.1172 Accuracy 0.2263\n",
            "Time taken for 9th epoch is 12.82 secs.\n",
            "\n",
            "Epoch 10 Batch 0 Loss 2.4389 Accuracy 0.3097\n",
            "Epoch 10 Batch 50 Loss 2.0241 Accuracy 0.2422\n",
            "Epoch 10 Batch 100 Loss 2.0086 Accuracy 0.2374\n",
            "Epoch 10 Batch 150 Loss 1.9997 Accuracy 0.2366\n",
            "Saving checkpoint for epoch 10 at checkpoints/training/ckpt-5\n",
            "Epoch 10 Loss 2.0010 Accuracy 0.2372\n",
            "Time taken for 10th epoch is 12.94 secs.\n",
            "\n",
            "Epoch 11 Batch 0 Loss 2.0225 Accuracy 0.2734\n",
            "Epoch 11 Batch 50 Loss 1.9080 Accuracy 0.2578\n",
            "Epoch 11 Batch 100 Loss 1.8799 Accuracy 0.2508\n",
            "Epoch 11 Batch 150 Loss 1.8848 Accuracy 0.2523\n",
            "Epoch 11 Loss 1.8826 Accuracy 0.2509\n",
            "Time taken for 11th epoch is 12.93 secs.\n",
            "\n",
            "Epoch 12 Batch 0 Loss 1.8363 Accuracy 0.2773\n",
            "Epoch 12 Batch 50 Loss 1.7463 Accuracy 0.2646\n",
            "Epoch 12 Batch 100 Loss 1.7356 Accuracy 0.2638\n",
            "Epoch 12 Batch 150 Loss 1.7330 Accuracy 0.2609\n",
            "Saving checkpoint for epoch 12 at checkpoints/training/ckpt-6\n",
            "Epoch 12 Loss 1.7326 Accuracy 0.2619\n",
            "Time taken for 12th epoch is 13.20 secs.\n",
            "\n",
            "Epoch 13 Batch 0 Loss 1.3531 Accuracy 0.2478\n",
            "Epoch 13 Batch 50 Loss 1.5776 Accuracy 0.2689\n",
            "Epoch 13 Batch 100 Loss 1.6022 Accuracy 0.2759\n",
            "Epoch 13 Batch 150 Loss 1.6254 Accuracy 0.2806\n",
            "Epoch 13 Loss 1.6327 Accuracy 0.2824\n",
            "Time taken for 13th epoch is 12.79 secs.\n",
            "\n",
            "Epoch 14 Batch 0 Loss 1.0540 Accuracy 0.2222\n",
            "Epoch 14 Batch 50 Loss 1.4338 Accuracy 0.2950\n",
            "Epoch 14 Batch 100 Loss 1.4494 Accuracy 0.2936\n",
            "Epoch 14 Batch 150 Loss 1.4791 Accuracy 0.2960\n",
            "Saving checkpoint for epoch 14 at checkpoints/training/ckpt-7\n",
            "Epoch 14 Loss 1.4904 Accuracy 0.2981\n",
            "Time taken for 14th epoch is 13.19 secs.\n",
            "\n",
            "Epoch 15 Batch 0 Loss 1.6332 Accuracy 0.3565\n",
            "Epoch 15 Batch 50 Loss 1.2801 Accuracy 0.3075\n",
            "Epoch 15 Batch 100 Loss 1.3198 Accuracy 0.3156\n",
            "Epoch 15 Batch 150 Loss 1.3392 Accuracy 0.3115\n",
            "Epoch 15 Loss 1.3464 Accuracy 0.3125\n",
            "Time taken for 15th epoch is 12.88 secs.\n",
            "\n",
            "Epoch 16 Batch 0 Loss 1.1917 Accuracy 0.3693\n",
            "Epoch 16 Batch 50 Loss 1.1981 Accuracy 0.3517\n",
            "Epoch 16 Batch 100 Loss 1.1963 Accuracy 0.3355\n",
            "Epoch 16 Batch 150 Loss 1.2269 Accuracy 0.3369\n",
            "Saving checkpoint for epoch 16 at checkpoints/training/ckpt-8\n",
            "Epoch 16 Loss 1.2281 Accuracy 0.3335\n",
            "Time taken for 16th epoch is 13.03 secs.\n",
            "\n",
            "Epoch 17 Batch 0 Loss 1.2490 Accuracy 0.3949\n",
            "Epoch 17 Batch 50 Loss 1.0008 Accuracy 0.3563\n",
            "Epoch 17 Batch 100 Loss 1.0582 Accuracy 0.3556\n",
            "Epoch 17 Batch 150 Loss 1.0720 Accuracy 0.3473\n",
            "Epoch 17 Loss 1.0846 Accuracy 0.3479\n",
            "Time taken for 17th epoch is 12.84 secs.\n",
            "\n",
            "Epoch 18 Batch 0 Loss 0.9408 Accuracy 0.4023\n",
            "Epoch 18 Batch 50 Loss 0.9059 Accuracy 0.3890\n",
            "Epoch 18 Batch 100 Loss 0.9429 Accuracy 0.3806\n",
            "Epoch 18 Batch 150 Loss 0.9595 Accuracy 0.3687\n",
            "Saving checkpoint for epoch 18 at checkpoints/training/ckpt-9\n",
            "Epoch 18 Loss 0.9708 Accuracy 0.3672\n",
            "Time taken for 18th epoch is 12.88 secs.\n",
            "\n",
            "Epoch 19 Batch 0 Loss 0.5732 Accuracy 0.3105\n",
            "Epoch 19 Batch 50 Loss 0.7619 Accuracy 0.3922\n",
            "Epoch 19 Batch 100 Loss 0.8047 Accuracy 0.3935\n",
            "Epoch 19 Batch 150 Loss 0.8441 Accuracy 0.3904\n",
            "Epoch 19 Loss 0.8583 Accuracy 0.3881\n",
            "Time taken for 19th epoch is 12.85 secs.\n",
            "\n",
            "Epoch 20 Batch 0 Loss 0.7890 Accuracy 0.5270\n",
            "Epoch 20 Batch 50 Loss 0.6746 Accuracy 0.4377\n",
            "Epoch 20 Batch 100 Loss 0.7069 Accuracy 0.4194\n",
            "Epoch 20 Batch 150 Loss 0.7309 Accuracy 0.4094\n",
            "Saving checkpoint for epoch 20 at checkpoints/training/ckpt-10\n",
            "Epoch 20 Loss 0.7470 Accuracy 0.4069\n",
            "Time taken for 20th epoch is 13.11 secs.\n",
            "\n"
          ],
          "name": "stdout"
        }
      ]
    },
    {
      "cell_type": "markdown",
      "metadata": {
        "id": "JIb0tPRf9gGK",
        "colab_type": "text"
      },
      "source": [
        "## Evaluation"
      ]
    },
    {
      "cell_type": "code",
      "metadata": {
        "id": "wdmLn-cwUYkQ",
        "colab_type": "code",
        "colab": {}
      },
      "source": [
        "def evaluate(src_sentence):\n",
        "  src_start_token = [src_tokenizer.vocab_size]\n",
        "  src_end_token = [src_tokenizer.vocab_size + 1]\n",
        "\n",
        "  dist_end = dist_tokenizer.vocab_size + 1\n",
        "  enc_input = src_start_token + src_tokenizer.encode(src_sentence) + src_end_token\n",
        "  enc_input = tf.expand_dims(enc_input, 0)\n",
        "\n",
        "  decoder_input = [dist_tokenizer.vocab_size]\n",
        "  output = tf.expand_dims(decoder_input, 0)\n",
        "\n",
        "  for i in range(DIST_MAX_LEN):\n",
        "    enc_padding_mask, dec_lah_mask, dec_att_padding_mask = create_masks(enc_input, output)\n",
        "    y_hat, attention_weights_dict = transformer(enc_input, output, \n",
        "                                                False,\n",
        "                                                enc_padding_mask, dec_lah_mask, dec_att_padding_mask,\n",
        "                                                )\n",
        "    y_hat = y_hat[:, -1:, :] #(batch_size, seq_len, vocab_size) select the last word\n",
        "    predict_id = tf.cast(tf.argmax(y_hat, axis = -1), tf.int32)\n",
        "    \n",
        "    if predict_id == dist_end:\n",
        "      return tf.squeeze(output, axis = 0), attention_weights_dict\n",
        "\n",
        "    output = tf.concat([output, predict_id], axis = -1)\n",
        "\n",
        "  return tf.squeeze(output, axis = 0), attention_weights_dict\n",
        "\n",
        "def plot_attention_weights(attention, sentence, result, layer):\n",
        "  fig = plt.figure(figsize=(16, 8))\n",
        "  sentence = src_tokenizer.encode(sentence)\n",
        "  attention = tf.squeeze(attention[layer], axis = 0)\n",
        "  for head in range(attention.shape[0]):\n",
        "    ax = fig.add_subplot(2, 4, head + 1)\n",
        "    ax.matshow(attention[head][:-1, :], cmap='viridis')\n",
        "    fontdict = {'fontsize': 10}\n",
        "    \n",
        "    ax.set_xticks(range(len(sentence) + 2))\n",
        "    ax.set_yticks(range(len(result)))\n",
        "    \n",
        "    ax.set_ylim(len(result) - 1.5, -0.5)\n",
        "        \n",
        "    ax.set_xticklabels(\n",
        "        ['<start>'] + [src_tokenizer.decode([i]) for i in sentence] + ['<end>'], \n",
        "        fontdict = fontdict, rotation = 90\n",
        "    )\n",
        "    \n",
        "    ax.set_yticklabels(\n",
        "        [dist_tokenizer.decode([i]) for i in result if i < dist_tokenizer.vocab_size], \n",
        "        fontdict = fontdict,\n",
        "    )\n",
        "    \n",
        "    ax.set_xlabel('Head {}'.format(head + 1))\n",
        "  \n",
        "  plt.tight_layout()\n",
        "  plt.show()\n",
        "\n",
        "def translate(src_sentence, plot = ''):\n",
        "  src_pre_sentence = process_sentence(src_sentence, lang = 'en')\n",
        "  output, attention_weights_dict = evaluate(src_pre_sentence)\n",
        "\n",
        "  result = [i for i in output if i < dist_tokenizer.vocab_size]\n",
        "  translated_sentence = dist_tokenizer.decode(result)\n",
        "\n",
        "  print('Input:\\t\\t', src_pre_sentence)\n",
        "  print('Translation:\\t', translated_sentence)\n",
        "\n",
        "  if plot:\n",
        "    plot_attention_weights(attention_weights_dict, src_pre_sentence, output, plot)"
      ],
      "execution_count": 118,
      "outputs": []
    },
    {
      "cell_type": "code",
      "metadata": {
        "id": "kyT_IthDkBf0",
        "colab_type": "code",
        "colab": {
          "base_uri": "https://localhost:8080/",
          "height": 476
        },
        "outputId": "8c1b3081-25b1-43c4-882c-c25bbcb7f818"
      },
      "source": [
        "for sent in sents2trans:\n",
        "  translate(sent)\n",
        "  print()"
      ],
      "execution_count": 119,
      "outputs": [
        {
          "output_type": "stream",
          "text": [
            "Input:\t\t how to run a car?\n",
            "Translation:\t كيف جاء سيارتك\n",
            "\n",
            "Input:\t\t what kind of food do you like?\n",
            "Translation:\t ما نوع الذي قمت تريد\n",
            "\n",
            "Input:\t\t he comes from syria.\n",
            "Translation:\t ها هو يغسل سيارتك.\n",
            "\n",
            "Input:\t\t he has a lot of money.\n",
            "Translation:\t لديه الكثير من المال.\n",
            "\n",
            "Input:\t\t it is good.\n",
            "Translation:\t هذا جيد جدا\n",
            "\n",
            "Input:\t\t do you have friends?\n",
            "Translation:\t هل لديك فرصة\n",
            "\n",
            "Input:\t\t it is a nice weather.\n",
            "Translation:\t إنها جميلة جدا.\n",
            "\n",
            "Input:\t\t they are very bad people.\n",
            "Translation:\t إنهم حيوانات نظيفة كبيرة.\n",
            "\n",
            "Input:\t\t do you need help?\n",
            "Translation:\t هل أنت تريد أن تساعدني\n",
            "\n"
          ],
          "name": "stdout"
        }
      ]
    },
    {
      "cell_type": "code",
      "metadata": {
        "id": "h0dniV2g-skK",
        "colab_type": "code",
        "colab": {
          "base_uri": "https://localhost:8080/",
          "height": 533
        },
        "outputId": "74bc5015-e8a2-4291-de3d-0cc305e073d9"
      },
      "source": [
        "ind = np.random.randint(len(src_sentences))\n",
        "sent2trans = src_sentences[ind]\n",
        "translate(sent2trans, 'dec_layer4_attention')"
      ],
      "execution_count": 113,
      "outputs": [
        {
          "output_type": "stream",
          "text": [
            "Input:\t\t can i borrow your umbrella?\n",
            "Translation:\t هل يمكنني أن أستعير مظلتك\n"
          ],
          "name": "stdout"
        },
        {
          "output_type": "display_data",
          "data": {
            "image/png": "[encoded data removed]",
            "text/plain": [
              "<Figure size 1152x576 with 8 Axes>"
            ]
          },
          "metadata": {
            "tags": [],
            "needs_background": "light"
          }
        }
      ]
    },
    {
      "cell_type": "code",
      "metadata": {
        "id": "NokXrRUb_4gT",
        "colab_type": "code",
        "colab": {
          "base_uri": "https://localhost:8080/",
          "height": 512
        },
        "outputId": "30774a10-451e-4e5f-e53a-2a5b0e57500e"
      },
      "source": [
        "translate('he has a lot of money.', 'dec_layer4_attention')"
      ],
      "execution_count": 111,
      "outputs": [
        {
          "output_type": "stream",
          "text": [
            "Input:\t\t he has a lot of money.\n",
            "Translation:\t لديه الكثير من المال.\n"
          ],
          "name": "stdout"
        },
        {
          "output_type": "display_data",
          "data": {
            "image/png": "[encoded data removed]",
            "text/plain": [
              "<Figure size 1152x576 with 8 Axes>"
            ]
          },
          "metadata": {
            "tags": [],
            "needs_background": "light"
          }
        }
      ]
    }
  ]
}