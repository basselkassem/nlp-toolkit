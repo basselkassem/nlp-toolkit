{
  "nbformat": 4,
  "nbformat_minor": 0,
  "metadata": {
    "colab": {
      "name": "6_transforms.ipynb",
      "provenance": [],
      "collapsed_sections": [],
      "authorship_tag": "ABX9TyMOhyAX9rcuEz1zhiBQzPoW",
      "include_colab_link": true
    },
    "kernelspec": {
      "name": "python3",
      "display_name": "Python 3"
    },
    "accelerator": "GPU"
  },
  "cells": [
    {
      "cell_type": "markdown",
      "metadata": {
        "id": "view-in-github",
        "colab_type": "text"
      },
      "source": [
        "<a href=\"https://colab.research.google.com/github/basselkassem/nlp-toolkit/blob/master/6_transforms.ipynb\" target=\"_parent\"><img src=\"https://colab.research.google.com/assets/colab-badge.svg\" alt=\"Open In Colab\"/></a>"
      ]
    },
    {
      "cell_type": "markdown",
      "metadata": {
        "id": "5GPpK5Ni4Rav",
        "colab_type": "text"
      },
      "source": [
        "# Import libs"
      ]
    },
    {
      "cell_type": "code",
      "metadata": {
        "id": "l4J4i8-24nir",
        "colab_type": "code",
        "colab": {
          "base_uri": "https://localhost:8080/",
          "height": 34
        },
        "outputId": "db094e1c-1273-4cf6-ebcb-2abaa10b249b"
      },
      "source": [
        "import numpy as np\n",
        "import re\n",
        "import time\n",
        "import os\n",
        "import matplotlib.pyplot as plt\n",
        "\n",
        "import tensorflow as tf\n",
        "import tensorflow_datasets as tfds\n",
        "from tensorflow.keras.layers import Layer, Dense, LayerNormalization, Dropout, Embedding\n",
        "from tensorflow.keras.models import Sequential, Model\n",
        "from tensorflow.keras.optimizers import Adam\n",
        "from tensorflow.keras.optimizers.schedules import LearningRateSchedule\n",
        "from tensorflow.keras.losses import SparseCategoricalCrossentropy\n",
        "from tensorflow.keras.metrics import SparseTopKCategoricalAccuracy, Mean\n",
        "from tensorflow.train import CheckpointManager, Checkpoint\n",
        "%matplotlib inline\n",
        "print(tf.__version__)"
      ],
      "execution_count": 1,
      "outputs": [
        {
          "output_type": "stream",
          "text": [
            "2.2.0\n"
          ],
          "name": "stdout"
        }
      ]
    },
    {
      "cell_type": "markdown",
      "metadata": {
        "id": "lrskPFdT4T0S",
        "colab_type": "text"
      },
      "source": [
        "# Download & Read data"
      ]
    },
    {
      "cell_type": "code",
      "metadata": {
        "id": "7SIuPfjs5Nka",
        "colab_type": "code",
        "colab": {
          "base_uri": "https://localhost:8080/",
          "height": 204
        },
        "outputId": "552ac8be-0dd6-4efa-f08a-d88740cd8d78"
      },
      "source": [
        "!wget http://www.manythings.org/anki/ara-eng.zip"
      ],
      "execution_count": 2,
      "outputs": [
        {
          "output_type": "stream",
          "text": [
            "--2020-06-29 15:42:16--  http://www.manythings.org/anki/ara-eng.zip\n",
            "Resolving www.manythings.org (www.manythings.org)... 104.24.108.196, 104.24.109.196, 172.67.173.198, ...\n",
            "Connecting to www.manythings.org (www.manythings.org)|104.24.108.196|:80... connected.\n",
            "HTTP request sent, awaiting response... 200 OK\n",
            "Length: 443921 (434K) [application/zip]\n",
            "Saving to: ‘ara-eng.zip’\n",
            "\n",
            "\rara-eng.zip           0%[                    ]       0  --.-KB/s               \rara-eng.zip         100%[===================>] 433.52K  2.63MB/s    in 0.2s    \n",
            "\n",
            "2020-06-29 15:42:16 (2.63 MB/s) - ‘ara-eng.zip’ saved [443921/443921]\n",
            "\n"
          ],
          "name": "stdout"
        }
      ]
    },
    {
      "cell_type": "code",
      "metadata": {
        "id": "KJWYQhRq5Roc",
        "colab_type": "code",
        "colab": {}
      },
      "source": [
        "from zipfile import ZipFile\n",
        "with ZipFile('ara-eng.zip', 'r') as data_file:\n",
        "  data_file.extractall()"
      ],
      "execution_count": 3,
      "outputs": []
    },
    {
      "cell_type": "code",
      "metadata": {
        "id": "1uDTPLpu5rCG",
        "colab_type": "code",
        "colab": {
          "base_uri": "https://localhost:8080/",
          "height": 51
        },
        "outputId": "07a65d9a-c303-43b3-9ee4-50761b7768f6"
      },
      "source": [
        "def read_data(file_path = 'ara.txt'):\n",
        "  src_senteces, dist_senteces = [], []\n",
        "  for line in open(file_path, 'r', encoding='utf8'):\n",
        "    sentences = line.split('\\t')\n",
        "    src_sent = sentences[0].strip()\n",
        "    dist_sent = sentences[1].strip()\n",
        "    src_senteces.append(src_sent)\n",
        "    dist_senteces.append(dist_sent)\n",
        "  return src_senteces, dist_senteces\n",
        "en_sentences, ar_sentences = read_data()\n",
        "print('#Examples', len(en_sentences))\n",
        "ind = np.random.randint(0, len(en_sentences))\n",
        "print(en_sentences[ind], ar_sentences[ind])"
      ],
      "execution_count": 4,
      "outputs": [
        {
          "output_type": "stream",
          "text": [
            "#Examples 11320\n",
            "I think Tom likes me. أظن بأن توم يحبني.\n"
          ],
          "name": "stdout"
        }
      ]
    },
    {
      "cell_type": "markdown",
      "metadata": {
        "id": "5AD4WYmS4bzC",
        "colab_type": "text"
      },
      "source": [
        "# Data Preprocessing"
      ]
    },
    {
      "cell_type": "code",
      "metadata": {
        "id": "hQanRNyQ4TH1",
        "colab_type": "code",
        "colab": {
          "base_uri": "https://localhost:8080/",
          "height": 34
        },
        "outputId": "c68fd6dd-9aa3-4848-84d5-39152f2ad36d"
      },
      "source": [
        "ar_pattern = '[^' +'أ-ي آلألآلإإؤءئ.' + ']+'\n",
        "en_pattern = '[^' + 'a-zA-Z!?.,\\'' + ']+'\n",
        "print(ar_pattern, en_pattern)"
      ],
      "execution_count": 5,
      "outputs": [
        {
          "output_type": "stream",
          "text": [
            "[^أ-ي آلألآلإإؤءئ.]+ [^a-zA-Z!?.,']+\n"
          ],
          "name": "stdout"
        }
      ]
    },
    {
      "cell_type": "code",
      "metadata": {
        "id": "hBaoo5q87AxJ",
        "colab_type": "code",
        "colab": {
          "base_uri": "https://localhost:8080/",
          "height": 51
        },
        "outputId": "a3ad5e75-c3ea-4453-a30d-9467c6812e75"
      },
      "source": [
        "def process_sentence(sentence, lang = 'ar'):\n",
        "  if lang == 'ar':\n",
        "    processed_sent = re.sub(ar_pattern, '', sentence)\n",
        "    return processed_sent.strip()\n",
        "  else:\n",
        "    processed_sent = sentence.lower()\n",
        "    processed_sent = re.sub(en_pattern, ' ', processed_sent)\n",
        "    return processed_sent.strip()\n",
        "\n",
        "def process_sentences(sentences, lang ='ar'):\n",
        "  processed_sents = [process_sentence(sent, lang) for sent in sentences]\n",
        "  return processed_sents\n",
        "\n",
        "src_sentences = process_sentences(en_sentences, lang ='en')\n",
        "dist_sentences = process_sentences(ar_sentences, lang ='ar')\n",
        "\n",
        "src_tokenizer = tfds.features.text.SubwordTextEncoder.build_from_corpus(src_sentences, target_vocab_size = 2**13)\n",
        "dist_tokenizer = tfds.features.text.SubwordTextEncoder.build_from_corpus(dist_sentences, target_vocab_size = 2**14)\n",
        "\n",
        "src_vocabs_size = src_tokenizer.vocab_size + 2\n",
        "dist_vocabs_size = dist_tokenizer.vocab_size + 2\n",
        "print('#English vocabs:', src_vocabs_size)\n",
        "print('#Arabic vocabs:', dist_vocabs_size)"
      ],
      "execution_count": 6,
      "outputs": [
        {
          "output_type": "stream",
          "text": [
            "#English vocabs: 5707\n",
            "#Arabic vocabs: 12530\n"
          ],
          "name": "stdout"
        }
      ]
    },
    {
      "cell_type": "markdown",
      "metadata": {
        "id": "fQzF3wxy4boY",
        "colab_type": "text"
      },
      "source": [
        "#Create Dataset"
      ]
    },
    {
      "cell_type": "code",
      "metadata": {
        "id": "q7ZyHZO3pa0t",
        "colab_type": "code",
        "colab": {}
      },
      "source": [
        "BATCH_SIZE = 64"
      ],
      "execution_count": 7,
      "outputs": []
    },
    {
      "cell_type": "code",
      "metadata": {
        "id": "Ox6Nb6u92rnh",
        "colab_type": "code",
        "colab": {}
      },
      "source": [
        "def tokenize(sentences, lang = 'ar'):\n",
        "  tokenizer = None\n",
        "  if lang == 'ar':\n",
        "    tokenizer = dist_tokenizer\n",
        "  else:\n",
        "    tokenizer = src_tokenizer\n",
        "  seqs = []\n",
        "  for sentence in sentences:\n",
        "    seq = [tokenizer.vocab_size] + tokenizer.encode(sentence) + [tokenizer.vocab_size + 1]\n",
        "    seqs.append(seq)\n",
        "  return seqs\n",
        "\n",
        "def create_dataset(src_seqs, dist_seqs, batch_size = 64):\n",
        "  buffer_size = len(src_seqs)\n",
        "  src_ds = tf.data.Dataset.from_generator(lambda: src_seqs, output_types = tf.int64)\n",
        "  dist_ds = tf.data.Dataset.from_generator(lambda: dist_seqs, output_types = tf.int64)\n",
        "  dataset = tf.data.Dataset.zip((src_ds, dist_ds))\n",
        "  dataset = dataset.cache()\n",
        "  dataset = dataset.shuffle(buffer_size)\n",
        "  dataset = dataset.padded_batch(batch_size, padded_shapes=([None], [None]))\n",
        "  dataset = dataset.prefetch(tf.data.experimental.AUTOTUNE)\n",
        "  return dataset\n",
        "\n",
        "src_seqs =  tokenize(src_sentences, lang = 'en')\n",
        "dist_seqs = tokenize(dist_sentences, lang = 'ar')\n",
        "dataset = create_dataset(src_seqs, dist_seqs, BATCH_SIZE)"
      ],
      "execution_count": 8,
      "outputs": []
    },
    {
      "cell_type": "code",
      "metadata": {
        "id": "uYpG9Anv-X7u",
        "colab_type": "code",
        "colab": {}
      },
      "source": [
        "sents2trans = [\n",
        "  'how to run a car?',\n",
        "  'what kind of food do you like?',\n",
        "  'he comes from syria.',\n",
        "  'he has a lot of money.', \n",
        "  'it is good.', \n",
        "  'do you have friends?',\n",
        "  'it is a nice weather.', \n",
        "  'they are very bad people.',\n",
        "  'do you need help?',\n",
        "]\n",
        "ind = np.random.randint(len(src_sentences))\n",
        "sent2trans = src_sentences[ind]"
      ],
      "execution_count": 9,
      "outputs": []
    },
    {
      "cell_type": "markdown",
      "metadata": {
        "id": "IrJs85e7VfDV",
        "colab_type": "text"
      },
      "source": [
        "# Self-attention Mechanism\n",
        "this work is based on [this paper](https://arxiv.org/pdf/1706.03762.pdf)"
      ]
    },
    {
      "cell_type": "markdown",
      "metadata": {
        "id": "cQMbtKx8S7US",
        "colab_type": "text"
      },
      "source": [
        "## Positional encoding\n",
        "This ecoding allows the model to be aware of the positions of the words in the sentence. Positional encoding is added to the embedding of the words. Words with similar meanings and similar positions in the sentence will be close to each other.\n",
        "\n",
        "$PE_{(pos, 2i)}=sin(\\frac{pos}{10000^{2i/d_{model}}})$\n",
        "\n",
        "$PE_{(pos, 2i + 1)}=cos(\\frac{pos}{10000^{2i/d_{model}}})$"
      ]
    },
    {
      "cell_type": "code",
      "metadata": {
        "id": "qH1Yu5apDOGP",
        "colab_type": "code",
        "colab": {
          "base_uri": "https://localhost:8080/",
          "height": 283
        },
        "outputId": "fb552eb0-39d3-4b9e-aeb2-44681edeac64"
      },
      "source": [
        "def compute_angles(pos, i, d_model):\n",
        "  angle = pos / np.power(10000, 2 * (i//2) / d_model)\n",
        "  return angle\n",
        "\n",
        "def compute_positional_encoding(pos, d_model):\n",
        "  positions = np.arange(pos)[:, np.newaxis]\n",
        "  i = np.arange(d_model)[np.newaxis, :]\n",
        "  angles = compute_angles(positions, i, d_model)\n",
        "  encodings = np.zeros(angles.shape)\n",
        "  encodings[:, 0::2] = np.sin(angles[:, 0::2])\n",
        "  encodings[:, 1::2] = np.cos(angles[:, 1::2])\n",
        "  encodings = encodings[np.newaxis, :, :]\n",
        "  return tf.cast(encodings, dtype = tf.float32), angles\n",
        "\n",
        "positions_encoding, angles_rad = compute_positional_encoding(50, 512)\n",
        "\n",
        "plt.pcolormesh(angles_rad * 180 / (2 * np.pi) % 360, cmap='hsv')\n",
        "plt.xlim([0, angles_rad.shape[1]])\n",
        "plt.xlabel('Depth')\n",
        "plt.ylabel('Position')\n",
        "bar = plt.colorbar(label = 'Angle (deg)')\n",
        "bar.set_ticks(np.linspace(0, 360, 6 + 1))\n",
        "plt.show()"
      ],
      "execution_count": 10,
      "outputs": [
        {
          "output_type": "display_data",
          "data": {
            "image/png": "[encoded data removed]",
            "text/plain": [
              "<Figure size 432x288 with 2 Axes>"
            ]
          },
          "metadata": {
            "tags": [],
            "needs_background": "light"
          }
        }
      ]
    },
    {
      "cell_type": "markdown",
      "metadata": {
        "id": "CBZqQsZdqelL",
        "colab_type": "text"
      },
      "source": [
        "## Padding & Lookahead masking"
      ]
    },
    {
      "cell_type": "code",
      "metadata": {
        "id": "0uYXsa8RXLe6",
        "colab_type": "code",
        "colab": {}
      },
      "source": [
        "# create a mask that indicates to the positions of the padding tokens (batch_size, 1, 1, seq_len) \n",
        "def create_padding_mask(seq):\n",
        "  mask = tf.cast(tf.math.equal(seq, 0), dtype=tf.float32)\n",
        "  return mask[:, tf.newaxis, tf.newaxis, :]\n",
        "\n",
        "# create a mask that indicates which tokens are needed when predicting new token(seq_len, seq_len)\n",
        "def create_lookahead_mask(size):\n",
        "  return 1 - tf.linalg.band_part(tf.ones((size, size)), -1, 0)"
      ],
      "execution_count": 11,
      "outputs": []
    },
    {
      "cell_type": "markdown",
      "metadata": {
        "id": "PKgN0CFryBUC",
        "colab_type": "text"
      },
      "source": [
        "##Scaled Dot-Product Attention\n",
        "$Attention(Q,K,V)=softmax_k(\\frac{QK^T}{\\sqrt{d_k}})V$"
      ]
    },
    {
      "cell_type": "code",
      "metadata": {
        "id": "7g8UKTgeq9XT",
        "colab_type": "code",
        "colab": {}
      },
      "source": [
        "def scaled_dot_product_attention(q, k, v, mask):\n",
        "  qt = tf.matmul(q, k, transpose_b = True)\n",
        "  dk = tf.cast(tf.shape(k)[-1], tf.float32)\n",
        "  scaled_attention_logits = qt / tf.math.sqrt(dk)\n",
        "  if mask is not None:\n",
        "    scaled_attention_logits += (mask * -1e9)\n",
        "  attention_weights = tf.nn.softmax(scaled_attention_logits, axis = -1)\n",
        "  output = tf.matmul(attention_weights, v)\n",
        "  return output, attention_weights"
      ],
      "execution_count": 81,
      "outputs": []
    },
    {
      "cell_type": "markdown",
      "metadata": {
        "id": "CE04WiJ1FPjT",
        "colab_type": "text"
      },
      "source": [
        "## Multihead-Attention\n",
        "Multihead attention consists of four parts:\n",
        "\n",
        "*  linear layers and split into heads\n",
        "*  scaler dot product attention\n",
        "*  concatenation of heads\n",
        "*  final linear layer"
      ]
    },
    {
      "cell_type": "code",
      "metadata": {
        "id": "EwXBDuAGFb1V",
        "colab_type": "code",
        "colab": {}
      },
      "source": [
        "class MultiHeadAttention(Layer):\n",
        "  def __init__(self, d_model, heads_num):\n",
        "    super(MultiHeadAttention, self).__init__()\n",
        "    self.d_model = d_model\n",
        "    self.heads_num = heads_num\n",
        "    self.depth = self.d_model // self.heads_num\n",
        "\n",
        "    self.wq = Dense(d_model)\n",
        "    self.wk = Dense(d_model)\n",
        "    self.wv = Dense(d_model)\n",
        "\n",
        "    self.fc = Dense(d_model)\n",
        "  \n",
        "  def split_into_heads(self, x, batch_size):\n",
        "    x = tf.reshape(x, (batch_size, -1, self.heads_num, self.depth))\n",
        "    return tf.transpose(x, perm = (0, 2, 1, 3))\n",
        "  \n",
        "  def call(self, k, v, q, mask):\n",
        "    batch_size = tf.shape(q)[0]\n",
        "    q = self.wq(q) # batch_size, seq_len_q, d_model\n",
        "    k = self.wk(k)\n",
        "    v = self.wv(v)\n",
        "\n",
        "    q = self.split_into_heads(q, batch_size) # batch_size, heads_num, seq_len_q, depth\n",
        "    k = self.split_into_heads(k, batch_size)\n",
        "    v = self.split_into_heads(v, batch_size)\n",
        "\n",
        "    scaled_attention, attention_weights = scaled_dot_product_attention(q, k, v, mask)\n",
        "\n",
        "    scaled_attention = tf.transpose(scaled_attention, perm = (0, 2, 1, 3))\n",
        "    concat_attention = tf.reshape(scaled_attention, (batch_size, -1, self.d_model)) \n",
        "\n",
        "    return self.fc(concat_attention), attention_weights"
      ],
      "execution_count": 82,
      "outputs": []
    },
    {
      "cell_type": "markdown",
      "metadata": {
        "id": "0SeYHcJ4MzR5",
        "colab_type": "text"
      },
      "source": [
        "## Point-wise feed forward network"
      ]
    },
    {
      "cell_type": "code",
      "metadata": {
        "id": "Gf8_ccaUMwmQ",
        "colab_type": "code",
        "colab": {}
      },
      "source": [
        "def point_wise_feed_forward_network(d_model, ff_units_num):\n",
        "  return Sequential([\n",
        "                     Dense(ff_units_num, activation = 'relu'),\n",
        "                     Dense(d_model)\n",
        "  ])"
      ],
      "execution_count": 83,
      "outputs": []
    },
    {
      "cell_type": "markdown",
      "metadata": {
        "id": "Sw4RJbSpN6Wy",
        "colab_type": "text"
      },
      "source": [
        "## Encoder-Decoder"
      ]
    },
    {
      "cell_type": "markdown",
      "metadata": {
        "id": "Re2KYIRDOcmV",
        "colab_type": "text"
      },
      "source": [
        "### Encoder Layer\n",
        "Each encoder layer consists of 2 sub-layers:\n",
        "\n",
        "*  Multihead attention(with padding mask)\n",
        "*  point-wise feed forward network\n",
        "\n",
        "For each sub-layer:\n",
        "*  the output is $LayerNorm(x + Sublayer(x))$\n",
        "*  we implement a residual connection around it followed by a linear normalization"
      ]
    },
    {
      "cell_type": "code",
      "metadata": {
        "id": "pe2a7C18NQCe",
        "colab_type": "code",
        "colab": {}
      },
      "source": [
        "class EncoderLayer(Layer):\n",
        "  def __init__(self, d_model, heads_num, ff_units_num, dp_rate = 0.1):\n",
        "    super(EncoderLayer, self).__init__()\n",
        "    \n",
        "    self.multihead_attention = MultiHeadAttention(d_model, heads_num)\n",
        "    self.dropout1 = Dropout(dp_rate)\n",
        "    self.layer_norm1 = LayerNormalization(epsilon = 1e-6)\n",
        "\n",
        "    self.feed_forward = point_wise_feed_forward_network(d_model, ff_units_num)\n",
        "    self.dropout2 = Dropout(dp_rate)\n",
        "    self.layer_norm2 = LayerNormalization(epsilon = 1e-6)\n",
        "  \n",
        "  def call(self, x, is_training, mask):\n",
        "    attention_output, _ = self.multihead_attention(x, x, x, mask)\n",
        "    attention_output = self.dropout1(attention_output, training = is_training)\n",
        "    sub_layer_output = self.layer_norm1(x + attention_output)\n",
        "\n",
        "    feed_forward_output = self.feed_forward(sub_layer_output)\n",
        "    feed_forward_output = self.dropout2(feed_forward_output, training = is_training)\n",
        "    output = self.layer_norm2(sub_layer_output + feed_forward_output)\n",
        "    return output"
      ],
      "execution_count": 84,
      "outputs": []
    },
    {
      "cell_type": "markdown",
      "metadata": {
        "id": "dqUrC9s7UM8c",
        "colab_type": "text"
      },
      "source": [
        "###Decoder Layer\n",
        "Each decoder layer consists of 3 sub-layers:\n",
        "*  masked Multihead attention sub-layer with lookahead mask and padding mask\n",
        "*  multihead attention sub-layer with padding mask. it recieves the encoder output and used as key-value, and recieves the decoder first sub-layer's output and use it as a query\n",
        "*  point wise feed forward network\n",
        "\n",
        "For each sub-layer:\n",
        "\n",
        "*  We implement a residual connection around it followed by linear normalization\n",
        "*  the output is $LayerNorm(x + Sublayer(x))$\n",
        "\n",
        "The decoder predicts the next word by attending the encoder output and its own output."
      ]
    },
    {
      "cell_type": "code",
      "metadata": {
        "id": "orGcR6qoUQkz",
        "colab_type": "code",
        "colab": {}
      },
      "source": [
        "class DecoderLayer(Layer):\n",
        "  def __init__(self, d_model, heads_num, ff_units_num, dp_rate = 0.1):\n",
        "    super(DecoderLayer, self).__init__()\n",
        "    self.masked_multihead_attention = MultiHeadAttention(d_model, heads_num)\n",
        "    self.dropout1 = Dropout(dp_rate)\n",
        "    self.layer_norm1 = LayerNormalization(epsilon = 1e-6)\n",
        "\n",
        "    self.multihead_attention = MultiHeadAttention(d_model, heads_num)\n",
        "    self.dropout2 = Dropout(dp_rate)\n",
        "    self.layer_norm2 = LayerNormalization(epsilon = 1e-6)\n",
        "\n",
        "    self.feed_forward = point_wise_feed_forward_network(d_model, ff_units_num)\n",
        "    self.dropout3 = Dropout(dp_rate)\n",
        "    self.layer_norm3 = LayerNormalization(epsilon = 1e-6)\n",
        "  \n",
        "  def call(self, x, enc_output, is_training, look_ahead_mask, mask):\n",
        "    mmha_out, self_attention_weights = self.masked_multihead_attention(x, x, x, look_ahead_mask)\n",
        "    mmha_out = self.dropout1(mmha_out, training = is_training)\n",
        "    out1 = self.layer_norm1(mmha_out + x)\n",
        "\n",
        "    mha_out, attention_weights = self.multihead_attention(k = enc_output, v = enc_output, q = out1, mask = mask)\n",
        "    mha_out = self.dropout2(mha_out, training = is_training)\n",
        "    out2 = self.layer_norm2(mha_out + out1)\n",
        "\n",
        "    ff_out = self.feed_forward(out2)\n",
        "    ff_out = self.dropout3(ff_out, training = is_training)\n",
        "    out3 = self.layer_norm3(ff_out + out2)\n",
        "    return out3, self_attention_weights, attention_weights"
      ],
      "execution_count": 85,
      "outputs": []
    },
    {
      "cell_type": "markdown",
      "metadata": {
        "id": "Adm0v4REt8GO",
        "colab_type": "text"
      },
      "source": [
        "###Encoder\n",
        "Ther encoder consists of:\n",
        "*  embedding layer\n",
        "*  positional encoder\n",
        "*  N encoder layers"
      ]
    },
    {
      "cell_type": "code",
      "metadata": {
        "id": "8334Fw1kuAUT",
        "colab_type": "code",
        "colab": {}
      },
      "source": [
        "class Encoder(Layer):\n",
        "  def __init__(self, layers_num, d_model, heads_num, ff_units_num, vocab_size, max_pos_enc, dp_rate = 0.1):\n",
        "    super(Encoder, self).__init__()\n",
        "    self.d_model = d_model\n",
        "    self.layers_num = layers_num\n",
        "\n",
        "    self.embeddings = Embedding(vocab_size, d_model)\n",
        "    self.pos_encodings, _ = compute_positional_encoding(max_pos_enc, d_model)\n",
        "    self.enc_layers = [EncoderLayer(d_model, heads_num, ff_units_num, dp_rate) for _ in range(layers_num)]\n",
        "    self.dropout = Dropout(dp_rate)\n",
        "  \n",
        "  def call(self, x, is_training, mask):\n",
        "    seq_len = tf.shape(x)[1]\n",
        "    x = self.embeddings(x)\n",
        "    x = x * tf.sqrt(tf.cast(self.d_model, tf.float32))\n",
        "    x = x + self.pos_encodings[:, :seq_len, :]\n",
        "\n",
        "    x = self.dropout(x, training = is_training)\n",
        "\n",
        "    for i in range(self.layers_num):\n",
        "      x = self.enc_layers[i](x, is_training, mask)\n",
        "    return x"
      ],
      "execution_count": 86,
      "outputs": []
    },
    {
      "cell_type": "markdown",
      "metadata": {
        "id": "ORtmeUQRt52N",
        "colab_type": "text"
      },
      "source": [
        "###Decoder\n",
        "Ther decoder consists of:\n",
        "\n",
        "*  embedding layer\n",
        "*  positional encoder\n",
        "*  N encoder layers"
      ]
    },
    {
      "cell_type": "code",
      "metadata": {
        "id": "chYhDE6ypcLW",
        "colab_type": "code",
        "colab": {}
      },
      "source": [
        "class Decoder(Layer):\n",
        "  def __init__(self, layers_num, d_model, heads_num, ff_units_num, vocab_size, max_pos_enc, dp_rate = 0.1):\n",
        "    super(Decoder, self).__init__()\n",
        "    self.layers_num = layers_num\n",
        "    self.d_model = d_model\n",
        "\n",
        "    self.embeddings = Embedding(vocab_size, d_model)\n",
        "    self.pos_encodings, _ = compute_positional_encoding(max_pos_enc, d_model)\n",
        "    self.dec_layers = [DecoderLayer(d_model, heads_num, ff_units_num, dp_rate) for _ in range(layers_num)]\n",
        "    self.dropout = Dropout(dp_rate)\n",
        "  \n",
        "  def call(self, x, enc_output, is_training, lookahead_mask, mask):\n",
        "    attention_weigths_dic = {}\n",
        "    seq_len = tf.shape(x)[1]\n",
        "    x = self.embeddings(x)\n",
        "    x = x * tf.sqrt(tf.cast(self.d_model, tf.float32))\n",
        "    x = x + self.pos_encodings[:, :seq_len, :]\n",
        "\n",
        "    x = self.dropout(x, training = is_training)\n",
        "\n",
        "    for i in range(self.layers_num):\n",
        "      x, self_attention_weigths, attention_weigths = self.dec_layers[i](x, enc_output, is_training, lookahead_mask, mask)\n",
        "      attention_weigths_dic['dec_layer{}_self_attention'.format(i + 1)] = self_attention_weigths\n",
        "      attention_weigths_dic['dec_layer{}_attention'.format(i + 1)] = attention_weigths\n",
        "    \n",
        "    return x, attention_weigths_dic"
      ],
      "execution_count": 87,
      "outputs": []
    },
    {
      "cell_type": "markdown",
      "metadata": {
        "id": "9PTykvv67RXv",
        "colab_type": "text"
      },
      "source": [
        "#Transformer"
      ]
    },
    {
      "cell_type": "code",
      "metadata": {
        "id": "jrAR5jFX4fQu",
        "colab_type": "code",
        "colab": {}
      },
      "source": [
        "class Transformer(Model):\n",
        "  def __init__(self, layers_num, d_model, heads_num, ff_units_num, \n",
        "               src_vocab_size, dist_vocab_size,\n",
        "               src_max_pos_enc, dist_max_pos_enc, dp_rate = 0.1,):\n",
        "    super(Transformer, self).__init__()\n",
        "    \n",
        "    self.encoder = Encoder(layers_num, d_model, heads_num, ff_units_num, src_vocab_size, src_max_pos_enc, dp_rate)\n",
        "    self.decoder = Decoder(layers_num, d_model, heads_num, ff_units_num, dist_vocab_size, dist_max_pos_enc, dp_rate)\n",
        "    self.fc = Dense(dist_vocab_size)\n",
        "  \n",
        "  def call(self, src_input, dist_input, is_training, src_mask, dist_lah_mask, dist_mask):\n",
        "    enc_out = self.encoder(src_input, is_training, src_mask)\n",
        "    dec_out, attention_dict = self.decoder(dist_input, enc_out, is_training, dist_lah_mask, dist_mask)\n",
        "    output = self.fc(dec_out)\n",
        "    return output, attention_dict"
      ],
      "execution_count": 88,
      "outputs": []
    },
    {
      "cell_type": "markdown",
      "metadata": {
        "id": "ParwxY3Rn7oC",
        "colab_type": "text"
      },
      "source": [
        "## Hyperparameters"
      ]
    },
    {
      "cell_type": "code",
      "metadata": {
        "id": "G3D8Q6o5kkZH",
        "colab_type": "code",
        "colab": {}
      },
      "source": [
        "layers_num = 4 #6\n",
        "d_model = 128 #512\n",
        "ff_units_num = 512 #2048\n",
        "heads_num = 8 #8\n",
        "dp_rate = 0.1 #0.1\n",
        "\n",
        "EPOCHS = 20\n",
        "DIST_MAX_LEN = 40"
      ],
      "execution_count": 20,
      "outputs": []
    },
    {
      "cell_type": "markdown",
      "metadata": {
        "id": "uxtxR2j8p0aM",
        "colab_type": "text"
      },
      "source": [
        "##Optimizer\n",
        "\n",
        "We use Adam optimizer with $\\beta_1 =0.9, \\beta_2=0.98, \\epsilon=10^{-9}$ and scheduled learning rate: \n",
        "\n",
        "$lr=\\frac{1}{\\sqrt{d_{model}}}min(\\frac{1}{\\sqrt{step\\_num}}, \\frac{step\\_num}{\\sqrt{warmup\\_step^3}})$\n",
        "\n",
        "According to the equation, learning rate will increase at the begining of the training, then it will decrease."
      ]
    },
    {
      "cell_type": "code",
      "metadata": {
        "id": "N69nJW8apLxr",
        "colab_type": "code",
        "colab": {
          "base_uri": "https://localhost:8080/",
          "height": 280
        },
        "outputId": "eaa31ff2-a701-4df4-c638-bd1438507868"
      },
      "source": [
        "class LearningRateDecaySchedule(LearningRateSchedule):\n",
        "  def __init__(self, d_model, warmup_steps = 4000):\n",
        "    super(LearningRateSchedule, self).__init__()\n",
        "    self.d_model = tf.cast(d_model, tf.float32)\n",
        "    self.warmpu_steps = tf.cast(warmup_steps, dtype=tf.float32)\n",
        "\n",
        "  def __call__(self, step_num):\n",
        "    min_term_arg1 = tf.math.rsqrt(step_num)\n",
        "    min_term_arg2 = step_num * tf.math.rsqrt(tf.math.pow(self.warmpu_steps, 3))\n",
        "    min_term = tf.math.minimum(min_term_arg1, min_term_arg2)\n",
        "    lr = tf.math.rsqrt(self.d_model) * min_term\n",
        "    return lr\n",
        "\n",
        "temp_lr = LearningRateDecaySchedule(d_model)\n",
        "steps = tf.range(4*10**4, dtype=tf.float32)\n",
        "plt.plot(temp_lr(steps))\n",
        "plt.xlabel('step_num')\n",
        "plt.ylabel('learning rate')\n",
        "plt.show()"
      ],
      "execution_count": 21,
      "outputs": [
        {
          "output_type": "display_data",
          "data": {
            "image/png": "[encoded data removed]",
            "text/plain": [
              "<Figure size 432x288 with 1 Axes>"
            ]
          },
          "metadata": {
            "tags": [],
            "needs_background": "light"
          }
        }
      ]
    },
    {
      "cell_type": "code",
      "metadata": {
        "id": "Mrs0Wbbjv6nm",
        "colab_type": "code",
        "colab": {}
      },
      "source": [
        "lr = LearningRateDecaySchedule(d_model)\n",
        "optimizer = Adam(learning_rate=lr, beta_1=0.9, beta_2=0.98, epsilon=1e-9)"
      ],
      "execution_count": 22,
      "outputs": []
    },
    {
      "cell_type": "markdown",
      "metadata": {
        "id": "542i3eDv0bUR",
        "colab_type": "text"
      },
      "source": [
        "## Loss and Metrics"
      ]
    },
    {
      "cell_type": "code",
      "metadata": {
        "id": "sATuyeRSxWyO",
        "colab_type": "code",
        "colab": {}
      },
      "source": [
        "loss_objective = SparseCategoricalCrossentropy(from_logits = True, reduction = 'none')\n",
        "\n",
        "def loss_function(y_true, y_hat):\n",
        "  mask = tf.logical_not(tf.math.equal(y_true, 0))\n",
        "  loss_ = loss_objective(y_true, y_hat)\n",
        "  mask = tf.cast(mask, dtype=loss_.dtype)\n",
        "  loss_ *= mask\n",
        "  return tf.reduce_mean(loss_)\n",
        "\n",
        "training_loss = Mean(name = 'training_loss')\n",
        "training_acc = SparseTopKCategoricalAccuracy(name = 'training_acc')"
      ],
      "execution_count": 23,
      "outputs": []
    },
    {
      "cell_type": "markdown",
      "metadata": {
        "id": "HnPoMmVEDKS9",
        "colab_type": "text"
      },
      "source": [
        "## Training & Checkpoints"
      ]
    },
    {
      "cell_type": "code",
      "metadata": {
        "id": "9idHEsqABBAs",
        "colab_type": "code",
        "colab": {
          "base_uri": "https://localhost:8080/",
          "height": 34
        },
        "outputId": "470fef4c-d656-4f41-bbcc-322502053f6b"
      },
      "source": [
        "!rm -R checkpoints"
      ],
      "execution_count": 24,
      "outputs": [
        {
          "output_type": "stream",
          "text": [
            "rm: cannot remove 'checkpoints': No such file or directory\n"
          ],
          "name": "stdout"
        }
      ]
    },
    {
      "cell_type": "code",
      "metadata": {
        "id": "KTXZEFF428gq",
        "colab_type": "code",
        "colab": {}
      },
      "source": [
        "transformer = Transformer(\n",
        "    layers_num, d_model, heads_num, ff_units_num,\n",
        "    src_vocabs_size, dist_vocabs_size,\n",
        "    src_max_pos_enc = src_vocabs_size, dist_max_pos_enc = dist_vocabs_size,\n",
        "    dp_rate = dp_rate,\n",
        ")\n",
        "\n",
        "ckpt_dir = 'checkpoints/training'\n",
        "ckpt = Checkpoint(transformer = transformer, optimizer = optimizer)\n",
        "ckpt_manager = CheckpointManager(ckpt, ckpt_dir, max_to_keep = 5)\n",
        "if ckpt_manager.latest_checkpoint:\n",
        "  ckpt.restore(ckpt_manager.latest_checkpoint)\n",
        "  print('Last training checkpoint is restored!')"
      ],
      "execution_count": 25,
      "outputs": []
    },
    {
      "cell_type": "code",
      "metadata": {
        "id": "-ObOl_T5FTSy",
        "colab_type": "code",
        "colab": {}
      },
      "source": [
        "def create_masks(src_seqs, dist_seqs):\n",
        "  enc_padding_mask = create_padding_mask(src_seqs)\n",
        "\n",
        "  dec_att_padding_mask = create_padding_mask(src_seqs)\n",
        "\n",
        "  padding_mask = create_padding_mask(dist_seqs)\n",
        "  lookahead_mask = create_lookahead_mask(tf.shape(dist_seqs)[1])\n",
        "  dec_lah_mask = tf.maximum(padding_mask, lookahead_mask)\n",
        "\n",
        "  return enc_padding_mask, dec_lah_mask, dec_att_padding_mask\n"
      ],
      "execution_count": 26,
      "outputs": []
    },
    {
      "cell_type": "code",
      "metadata": {
        "id": "Ydw2oLCYIEgH",
        "colab_type": "code",
        "colab": {}
      },
      "source": [
        "train_step_signature = [\n",
        "                        tf.TensorSpec(shape = (None, None), dtype = tf.int64),\n",
        "                        tf.TensorSpec(shape = (None, None), dtype = tf.int64),\n",
        "]\n",
        "@tf.function(input_signature = train_step_signature)\n",
        "def train_step(src_seqs, dist_seqs):\n",
        "  dist_seqs_shifted = dist_seqs[:, :-1]\n",
        "  dist_seqs_real = dist_seqs[:, 1:]\n",
        "\n",
        "  enc_padding_mask, dec_lah_mask, dec_att_padding_mask = create_masks(src_seqs, dist_seqs_shifted)\n",
        "\n",
        "  with tf.GradientTape() as tape:\n",
        "    y_hat, _ = transformer(\n",
        "        src_seqs, dist_seqs_shifted, \n",
        "        True, \n",
        "        enc_padding_mask, dec_lah_mask, dec_att_padding_mask,\n",
        "    )\n",
        "    loss = loss_function(dist_seqs_real, y_hat)\n",
        "\n",
        "  variables = transformer.trainable_variables\n",
        "  grads = tape.gradient(loss, variables)\n",
        "  optimizer.apply_gradients(zip(grads, variables))\n",
        "\n",
        "  training_loss(loss)\n",
        "  training_acc(dist_seqs_real, y_hat)\n"
      ],
      "execution_count": 27,
      "outputs": []
    },
    {
      "cell_type": "code",
      "metadata": {
        "id": "uAPGXl9HRrxb",
        "colab_type": "code",
        "colab": {
          "base_uri": "https://localhost:8080/",
          "height": 1000
        },
        "outputId": "1fc044ee-4de5-459d-9ce6-e910ae3742b1"
      },
      "source": [
        "def train_transformer():\n",
        "  for epoch in range(1, EPOCHS + 1):\n",
        "    start = time.time()\n",
        "    training_loss.reset_states()\n",
        "    training_acc.reset_states()\n",
        "\n",
        "    for batch, (src_seqs, dist_seqs) in enumerate(dataset):\n",
        "      train_step(src_seqs, dist_seqs)\n",
        "      \n",
        "      if batch % 50 == 0:\n",
        "        msg = 'Epoch {} Batch {} Loss {:.4f} Accuracy {:.4f}'.format(\n",
        "            epoch, batch, training_loss.result(), training_acc.result(),\n",
        "        )\n",
        "        print(msg)\n",
        "\n",
        "    if epoch % 2 == 0:\n",
        "      ckpt_save_path = ckpt_manager.save()\n",
        "      msg = 'Saving checkpoint for epoch {} at {}'.format(\n",
        "          epoch, ckpt_save_path\n",
        "      )\n",
        "      print(msg)\n",
        "    \n",
        "    msg = 'Epoch {} Loss {:.4f} Accuracy {:.4f}'.format(\n",
        "            epoch, training_loss.result(), training_acc.result(),\n",
        "    )\n",
        "    print(msg)\n",
        "    msg = 'Time taken for {}th epoch is {:.2f} secs.\\n'.format(\n",
        "        epoch, time.time() - start\n",
        "    )\n",
        "    print(msg)\n",
        "\n",
        "train_transformer()"
      ],
      "execution_count": 28,
      "outputs": [
        {
          "output_type": "stream",
          "text": [
            "Epoch 1 Batch 0 Loss 4.3528 Accuracy 0.0000\n",
            "Epoch 1 Batch 50 Loss 4.6297 Accuracy 0.0256\n",
            "Epoch 1 Batch 100 Loss 4.4063 Accuracy 0.0766\n",
            "Epoch 1 Batch 150 Loss 4.4149 Accuracy 0.0974\n",
            "Epoch 1 Loss 4.3881 Accuracy 0.1042\n",
            "Time taken for 1th epoch is 130.68 secs.\n",
            "\n",
            "Epoch 2 Batch 0 Loss 4.6322 Accuracy 0.1705\n",
            "Epoch 2 Batch 50 Loss 4.0808 Accuracy 0.1443\n",
            "Epoch 2 Batch 100 Loss 4.0900 Accuracy 0.1511\n",
            "Epoch 2 Batch 150 Loss 3.9399 Accuracy 0.1510\n",
            "Saving checkpoint for epoch 2 at checkpoints/training/ckpt-1\n",
            "Epoch 2 Loss 3.8893 Accuracy 0.1508\n",
            "Time taken for 2th epoch is 114.75 secs.\n",
            "\n",
            "Epoch 3 Batch 0 Loss 3.1546 Accuracy 0.1406\n",
            "Epoch 3 Batch 50 Loss 3.4801 Accuracy 0.1644\n",
            "Epoch 3 Batch 100 Loss 3.3368 Accuracy 0.1593\n",
            "Epoch 3 Batch 150 Loss 3.2529 Accuracy 0.1578\n",
            "Epoch 3 Loss 3.2222 Accuracy 0.1582\n",
            "Time taken for 3th epoch is 116.45 secs.\n",
            "\n",
            "Epoch 4 Batch 0 Loss 2.6613 Accuracy 0.1462\n",
            "Epoch 4 Batch 50 Loss 2.9526 Accuracy 0.1663\n",
            "Epoch 4 Batch 100 Loss 2.9619 Accuracy 0.1694\n",
            "Epoch 4 Batch 150 Loss 2.8698 Accuracy 0.1658\n",
            "Saving checkpoint for epoch 4 at checkpoints/training/ckpt-2\n",
            "Epoch 4 Loss 2.8719 Accuracy 0.1682\n",
            "Time taken for 4th epoch is 116.45 secs.\n",
            "\n",
            "Epoch 5 Batch 0 Loss 2.4204 Accuracy 0.1484\n",
            "Epoch 5 Batch 50 Loss 2.7118 Accuracy 0.1773\n",
            "Epoch 5 Batch 100 Loss 2.7043 Accuracy 0.1816\n",
            "Epoch 5 Batch 150 Loss 2.6847 Accuracy 0.1807\n",
            "Epoch 5 Loss 2.6775 Accuracy 0.1817\n",
            "Time taken for 5th epoch is 117.51 secs.\n",
            "\n",
            "Epoch 6 Batch 0 Loss 2.0819 Accuracy 0.1426\n",
            "Epoch 6 Batch 50 Loss 2.5662 Accuracy 0.1916\n",
            "Epoch 6 Batch 100 Loss 2.5213 Accuracy 0.1901\n",
            "Epoch 6 Batch 150 Loss 2.5264 Accuracy 0.1926\n",
            "Saving checkpoint for epoch 6 at checkpoints/training/ckpt-3\n",
            "Epoch 6 Loss 2.5178 Accuracy 0.1922\n",
            "Time taken for 6th epoch is 116.61 secs.\n",
            "\n",
            "Epoch 7 Batch 0 Loss 2.1531 Accuracy 0.1971\n",
            "Epoch 7 Batch 50 Loss 2.3627 Accuracy 0.2001\n",
            "Epoch 7 Batch 100 Loss 2.3752 Accuracy 0.1998\n",
            "Epoch 7 Batch 150 Loss 2.3616 Accuracy 0.2009\n",
            "Epoch 7 Loss 2.3640 Accuracy 0.2014\n",
            "Time taken for 7th epoch is 121.43 secs.\n",
            "\n",
            "Epoch 8 Batch 0 Loss 0.8628 Accuracy 0.0695\n",
            "Epoch 8 Batch 50 Loss 2.2408 Accuracy 0.2060\n",
            "Epoch 8 Batch 100 Loss 2.2211 Accuracy 0.2069\n",
            "Epoch 8 Batch 150 Loss 2.2314 Accuracy 0.2095\n",
            "Saving checkpoint for epoch 8 at checkpoints/training/ckpt-4\n",
            "Epoch 8 Loss 2.2124 Accuracy 0.2085\n",
            "Time taken for 8th epoch is 118.76 secs.\n",
            "\n",
            "Epoch 9 Batch 0 Loss 2.0118 Accuracy 0.2175\n",
            "Epoch 9 Batch 50 Loss 2.0915 Accuracy 0.2118\n",
            "Epoch 9 Batch 100 Loss 2.1254 Accuracy 0.2196\n",
            "Epoch 9 Batch 150 Loss 2.1121 Accuracy 0.2196\n",
            "Epoch 9 Loss 2.1225 Accuracy 0.2214\n",
            "Time taken for 9th epoch is 117.35 secs.\n",
            "\n",
            "Epoch 10 Batch 0 Loss 2.2383 Accuracy 0.2670\n",
            "Epoch 10 Batch 50 Loss 2.0326 Accuracy 0.2374\n",
            "Epoch 10 Batch 100 Loss 2.0260 Accuracy 0.2380\n",
            "Epoch 10 Batch 150 Loss 2.0411 Accuracy 0.2393\n",
            "Saving checkpoint for epoch 10 at checkpoints/training/ckpt-5\n",
            "Epoch 10 Loss 2.0269 Accuracy 0.2356\n",
            "Time taken for 10th epoch is 116.99 secs.\n",
            "\n",
            "Epoch 11 Batch 0 Loss 1.7878 Accuracy 0.2176\n",
            "Epoch 11 Batch 50 Loss 1.8414 Accuracy 0.2377\n",
            "Epoch 11 Batch 100 Loss 1.8720 Accuracy 0.2414\n",
            "Epoch 11 Batch 150 Loss 1.8664 Accuracy 0.2432\n",
            "Epoch 11 Loss 1.8746 Accuracy 0.2449\n",
            "Time taken for 11th epoch is 118.05 secs.\n",
            "\n",
            "Epoch 12 Batch 0 Loss 1.8940 Accuracy 0.2917\n",
            "Epoch 12 Batch 50 Loss 1.7565 Accuracy 0.2592\n",
            "Epoch 12 Batch 100 Loss 1.7633 Accuracy 0.2624\n",
            "Epoch 12 Batch 150 Loss 1.7565 Accuracy 0.2591\n",
            "Saving checkpoint for epoch 12 at checkpoints/training/ckpt-6\n",
            "Epoch 12 Loss 1.7648 Accuracy 0.2602\n",
            "Time taken for 12th epoch is 121.05 secs.\n",
            "\n",
            "Epoch 13 Batch 0 Loss 2.0973 Accuracy 0.3641\n",
            "Epoch 13 Batch 50 Loss 1.6954 Accuracy 0.2932\n",
            "Epoch 13 Batch 100 Loss 1.6699 Accuracy 0.2874\n",
            "Epoch 13 Batch 150 Loss 1.6472 Accuracy 0.2827\n",
            "Epoch 13 Loss 1.6451 Accuracy 0.2798\n",
            "Time taken for 13th epoch is 116.35 secs.\n",
            "\n",
            "Epoch 14 Batch 0 Loss 1.3184 Accuracy 0.2723\n",
            "Epoch 14 Batch 50 Loss 1.4740 Accuracy 0.2994\n",
            "Epoch 14 Batch 100 Loss 1.4579 Accuracy 0.2924\n",
            "Epoch 14 Batch 150 Loss 1.4940 Accuracy 0.2939\n",
            "Saving checkpoint for epoch 14 at checkpoints/training/ckpt-7\n",
            "Epoch 14 Loss 1.4973 Accuracy 0.2934\n",
            "Time taken for 14th epoch is 117.06 secs.\n",
            "\n",
            "Epoch 15 Batch 0 Loss 1.5828 Accuracy 0.4328\n",
            "Epoch 15 Batch 50 Loss 1.2857 Accuracy 0.2997\n",
            "Epoch 15 Batch 100 Loss 1.3303 Accuracy 0.3123\n",
            "Epoch 15 Batch 150 Loss 1.3408 Accuracy 0.3096\n",
            "Epoch 15 Loss 1.3567 Accuracy 0.3114\n",
            "Time taken for 15th epoch is 116.77 secs.\n",
            "\n",
            "Epoch 16 Batch 0 Loss 1.0085 Accuracy 0.3114\n",
            "Epoch 16 Batch 50 Loss 1.1866 Accuracy 0.3386\n",
            "Epoch 16 Batch 100 Loss 1.2004 Accuracy 0.3343\n",
            "Epoch 16 Batch 150 Loss 1.2169 Accuracy 0.3279\n",
            "Saving checkpoint for epoch 16 at checkpoints/training/ckpt-8\n",
            "Epoch 16 Loss 1.2254 Accuracy 0.3291\n",
            "Time taken for 16th epoch is 118.00 secs.\n",
            "\n",
            "Epoch 17 Batch 0 Loss 0.9628 Accuracy 0.3270\n",
            "Epoch 17 Batch 50 Loss 1.0728 Accuracy 0.3714\n",
            "Epoch 17 Batch 100 Loss 1.0546 Accuracy 0.3491\n",
            "Epoch 17 Batch 150 Loss 1.0835 Accuracy 0.3478\n",
            "Epoch 17 Loss 1.0966 Accuracy 0.3477\n",
            "Time taken for 17th epoch is 121.18 secs.\n",
            "\n",
            "Epoch 18 Batch 0 Loss 0.7838 Accuracy 0.3493\n",
            "Epoch 18 Batch 50 Loss 0.9333 Accuracy 0.3940\n",
            "Epoch 18 Batch 100 Loss 0.9503 Accuracy 0.3809\n",
            "Epoch 18 Batch 150 Loss 0.9788 Accuracy 0.3719\n",
            "Saving checkpoint for epoch 18 at checkpoints/training/ckpt-9\n",
            "Epoch 18 Loss 0.9897 Accuracy 0.3700\n",
            "Time taken for 18th epoch is 117.37 secs.\n",
            "\n",
            "Epoch 19 Batch 0 Loss 0.7615 Accuracy 0.3858\n",
            "Epoch 19 Batch 50 Loss 0.8051 Accuracy 0.4184\n",
            "Epoch 19 Batch 100 Loss 0.8131 Accuracy 0.4025\n",
            "Epoch 19 Batch 150 Loss 0.8394 Accuracy 0.3885\n",
            "Epoch 19 Loss 0.8523 Accuracy 0.3843\n",
            "Time taken for 19th epoch is 118.81 secs.\n",
            "\n",
            "Epoch 20 Batch 0 Loss 0.6130 Accuracy 0.4387\n",
            "Epoch 20 Batch 50 Loss 0.6725 Accuracy 0.4216\n",
            "Epoch 20 Batch 100 Loss 0.6958 Accuracy 0.4101\n",
            "Epoch 20 Batch 150 Loss 0.7355 Accuracy 0.4093\n",
            "Saving checkpoint for epoch 20 at checkpoints/training/ckpt-10\n",
            "Epoch 20 Loss 0.7514 Accuracy 0.4057\n",
            "Time taken for 20th epoch is 118.44 secs.\n",
            "\n"
          ],
          "name": "stdout"
        }
      ]
    },
    {
      "cell_type": "markdown",
      "metadata": {
        "id": "JIb0tPRf9gGK",
        "colab_type": "text"
      },
      "source": [
        "## Evaluation"
      ]
    },
    {
      "cell_type": "code",
      "metadata": {
        "id": "ljV1QD8n9ziW",
        "colab_type": "code",
        "colab": {}
      },
      "source": [
        "def run_transformer_step(enc_input, output):\n",
        "  enc_padding_mask, dec_lah_mask, dec_att_padding_mask = create_masks(enc_input, output)\n",
        "  logits, attentions_dict = transformer(enc_input, output, False,\n",
        "                                          enc_padding_mask, dec_lah_mask, dec_att_padding_mask,\n",
        "  )\n",
        "  log_probas = tf.nn.log_softmax(logits, axis=-1)\n",
        "  return log_probas, attentions_dict\n",
        "\n",
        "def generate_candidates(enc_input, dec_input, beam_width, score):\n",
        "  log_probas, attentions_dict = run_transformer_step(enc_input, dec_input)\n",
        "  scores, candidates = tf.nn.top_k(log_probas[0,-1, :], sorted = True, k = beam_width)\n",
        "  scores += score\n",
        "  return candidates, attentions_dict, scores\n",
        "\n",
        "def candidates2seqs(dec_input, candidates, scores):\n",
        "  seqs = []\n",
        "  for candidate, score in zip(candidates, scores):\n",
        "    tmp_dec_input = tf.concat([dec_input, tf.expand_dims([candidate], 0)], axis = -1)\n",
        "    seqs.append([tmp_dec_input, score])\n",
        "  return seqs\n",
        "\n",
        "all_seqs = []\n",
        "def generate_child_seqs(enc_input, dec_input, beam_width, score):\n",
        "  candidates, attentions_dict, scores = generate_candidates(enc_input, dec_input, beam_width, score)\n",
        "  seqs = candidates2seqs(dec_input, candidates, scores)\n",
        "  for seq, score in seqs:\n",
        "    if seq[0, -1] ==  dist_tokenizer.vocab_size + 1:\n",
        "      all_seqs.append((seq, score))\n",
        "      return True\n",
        "    generate_child_seqs(enc_input, seq, beam_width, score)\n",
        "\n",
        "\n",
        "def beam_search(enc_input, dec_input, beam_width):\n",
        "  candidates, attentions_dict, scores = generate_candidates(enc_input, dec_input, beam_width, 0)\n",
        "  seqs = candidates2seqs(dec_input, candidates, scores)\n",
        "  for seq, score in seqs:\n",
        "    new_seqs = generate_child_seqs(enc_input, seq, beam_width, score)\n",
        "\n",
        "  seq = sorted(all_seqs, key = lambda tup: tup[1], reverse = True)\n",
        "  return seq[0][0], None\n",
        "\n",
        "def predict_beam_search(src_sentence, beam_width = 3,):\n",
        "  src_start_token = [src_tokenizer.vocab_size]\n",
        "  src_end_token = [src_tokenizer.vocab_size + 1]\n",
        "\n",
        "  dist_end = dist_tokenizer.vocab_size + 1\n",
        "  enc_input = src_start_token + src_tokenizer.encode(src_sentence) + src_end_token\n",
        "  enc_input = tf.expand_dims(enc_input, 0)\n",
        "\n",
        "  dec_input = [dist_tokenizer.vocab_size]\n",
        "  dec_input = tf.expand_dims(dec_input, 0)\n",
        "\n",
        "  seq, None = beam_search(enc_input, dec_input, beam_width)\n",
        "  return  tf.squeeze(seq, axis = 0), None"
      ],
      "execution_count": 89,
      "outputs": []
    },
    {
      "cell_type": "code",
      "metadata": {
        "id": "wdmLn-cwUYkQ",
        "colab_type": "code",
        "colab": {}
      },
      "source": [
        "def predict(src_sentence):\n",
        "  src_start_token = [src_tokenizer.vocab_size]\n",
        "  src_end_token = [src_tokenizer.vocab_size + 1]\n",
        "\n",
        "  dist_end = dist_tokenizer.vocab_size + 1\n",
        "  enc_input = src_start_token + src_tokenizer.encode(src_sentence) + src_end_token\n",
        "  enc_input = tf.expand_dims(enc_input, 0)\n",
        "\n",
        "  decoder_input = [dist_tokenizer.vocab_size]\n",
        "  output = tf.expand_dims(decoder_input, 0)\n",
        "\n",
        "  for i in range(DIST_MAX_LEN):\n",
        "    enc_padding_mask, dec_lah_mask, dec_att_padding_mask = create_masks(enc_input, output)\n",
        "    y_hat, attention_weights_dict = transformer(enc_input, output, \n",
        "                                                False,\n",
        "                                                enc_padding_mask, dec_lah_mask, dec_att_padding_mask,\n",
        "                                                )\n",
        "    y_hat = y_hat[:, -1:, :] #(batch_size, seq_len, vocab_size) select the last word\n",
        "    predict_id = tf.cast(tf.argmax(y_hat, axis = -1), tf.int32)\n",
        "    \n",
        "    if predict_id == dist_end:\n",
        "      return tf.squeeze(output, axis = 0), attention_weights_dict\n",
        "    output = tf.concat([output, predict_id], axis = -1)\n",
        "\n",
        "  return tf.squeeze(output, axis = 0), attention_weights_dict\n",
        "\n",
        "def plot_attention_weights(attention, sentence, result, layer):\n",
        "  fig = plt.figure(figsize=(16, 8))\n",
        "  sentence = src_tokenizer.encode(sentence)\n",
        "  attention = tf.squeeze(attention[layer], axis = 0)\n",
        "  for head in range(attention.shape[0]):\n",
        "    ax = fig.add_subplot(2, 4, head + 1)\n",
        "    ax.matshow(attention[head][:-1, :], cmap='viridis')\n",
        "    fontdict = {'fontsize': 10}\n",
        "    \n",
        "    ax.set_xticks(range(len(sentence) + 2))\n",
        "    ax.set_yticks(range(len(result)))\n",
        "    \n",
        "    ax.set_ylim(len(result) - 1.5, -0.5)\n",
        "        \n",
        "    ax.set_xticklabels(\n",
        "        ['<start>'] + [src_tokenizer.decode([i]) for i in sentence] + ['<end>'], \n",
        "        fontdict = fontdict, rotation = 90\n",
        "    )\n",
        "    \n",
        "    ax.set_yticklabels(\n",
        "        [dist_tokenizer.decode([i]) for i in result if i < dist_tokenizer.vocab_size], \n",
        "        fontdict = fontdict,\n",
        "    )\n",
        "    \n",
        "    ax.set_xlabel('Head {}'.format(head + 1))\n",
        "  \n",
        "  plt.tight_layout()\n",
        "  plt.show()\n",
        "\n",
        "def translate(src_sentence, use_beam = False, plot = ''):\n",
        "  src_pre_sentence = process_sentence(src_sentence, lang = 'en')\n",
        "  output, attention_weights_dict = None, None\n",
        "  if use_beam:\n",
        "    output, attention_weights_dict = predict_beam_search(src_pre_sentence)\n",
        "  else:\n",
        "    output, attention_weights_dict = predict(src_pre_sentence)\n",
        "\n",
        "  result = [i for i in output if i < dist_tokenizer.vocab_size]\n",
        "  translated_sentence = dist_tokenizer.decode(result)\n",
        "\n",
        "  print('Input:\\t\\t', src_pre_sentence)\n",
        "  print('Translation:\\t', translated_sentence)\n",
        "\n",
        "  if plot:\n",
        "    plot_attention_weights(attention_weights_dict, src_pre_sentence, output, plot)"
      ],
      "execution_count": 75,
      "outputs": []
    },
    {
      "cell_type": "code",
      "metadata": {
        "id": "kyT_IthDkBf0",
        "colab_type": "code",
        "colab": {
          "base_uri": "https://localhost:8080/",
          "height": 476
        },
        "outputId": "26f6c086-bfb3-4931-dc60-a6f121754e53"
      },
      "source": [
        "for sent in sents2trans:\n",
        "  translate(sent)\n",
        "  print()"
      ],
      "execution_count": 70,
      "outputs": [
        {
          "output_type": "stream",
          "text": [
            "Input:\t\t how to run a car?\n",
            "Translation:\t كيف حال سيارتك\n",
            "\n",
            "Input:\t\t what kind of food do you like?\n",
            "Translation:\t أي نوع من الفواكه تريد\n",
            "\n",
            "Input:\t\t he comes from syria.\n",
            "Translation:\t ذهب من الهند.\n",
            "\n",
            "Input:\t\t he has a lot of money.\n",
            "Translation:\t إنه كثير من المال.\n",
            "\n",
            "Input:\t\t it is good.\n",
            "Translation:\t إنها تمطر.\n",
            "\n",
            "Input:\t\t do you have friends?\n",
            "Translation:\t هل عندك أصدقاء\n",
            "\n",
            "Input:\t\t it is a nice weather.\n",
            "Translation:\t إنها صغيرة جدا.\n",
            "\n",
            "Input:\t\t they are very bad people.\n",
            "Translation:\t هم كبار جدا\n",
            "\n",
            "Input:\t\t do you need help?\n",
            "Translation:\t هل تريد أن تأتي إلى رأيك\n",
            "\n"
          ],
          "name": "stdout"
        }
      ]
    },
    {
      "cell_type": "code",
      "metadata": {
        "id": "oVnlkw92NOSf",
        "colab_type": "code",
        "colab": {
          "base_uri": "https://localhost:8080/",
          "height": 476
        },
        "outputId": "4874bcbd-6f95-4f5d-9556-671bc1322171"
      },
      "source": [
        "for sent in sents2trans:\n",
        "  all_seqs = []\n",
        "  translate(sent, use_beam = True)\n",
        "  print()"
      ],
      "execution_count": 77,
      "outputs": [
        {
          "output_type": "stream",
          "text": [
            "Input:\t\t how to run a car?\n",
            "Translation:\t كيف حال سيارتك\n",
            "\n",
            "Input:\t\t what kind of food do you like?\n",
            "Translation:\t أي نوع من الفواكه تريد\n",
            "\n",
            "Input:\t\t he comes from syria.\n",
            "Translation:\t ذهب توم.\n",
            "\n",
            "Input:\t\t he has a lot of money.\n",
            "Translation:\t عنده الكثير من المال.\n",
            "\n",
            "Input:\t\t it is good.\n",
            "Translation:\t إنها تمطر.\n",
            "\n",
            "Input:\t\t do you have friends?\n",
            "Translation:\t هل عندك أصدقاء\n",
            "\n",
            "Input:\t\t it is a nice weather.\n",
            "Translation:\t إنها صغيرة جدا.\n",
            "\n",
            "Input:\t\t they are very bad people.\n",
            "Translation:\t هم كبار جدا\n",
            "\n",
            "Input:\t\t do you need help?\n",
            "Translation:\t هل تريد أن آتي\n",
            "\n"
          ],
          "name": "stdout"
        }
      ]
    },
    {
      "cell_type": "code",
      "metadata": {
        "id": "h0dniV2g-skK",
        "colab_type": "code",
        "colab": {
          "base_uri": "https://localhost:8080/",
          "height": 477
        },
        "outputId": "8a24f741-396c-4cd3-c36c-edc15500670a"
      },
      "source": [
        "ind = np.random.randint(len(src_sentences))\n",
        "sent2trans = src_sentences[ind]\n",
        "translate(sent2trans, False, 'dec_layer4_attention')"
      ],
      "execution_count": 79,
      "outputs": [
        {
          "output_type": "stream",
          "text": [
            "Input:\t\t i came on foot.\n",
            "Translation:\t أتيت سيرا .\n"
          ],
          "name": "stdout"
        },
        {
          "output_type": "display_data",
          "data": {
            "image/png": "[encoded data removed]",
            "text/plain": [
              "<Figure size 1152x576 with 8 Axes>"
            ]
          },
          "metadata": {
            "tags": [],
            "needs_background": "light"
          }
        }
      ]
    },
    {
      "cell_type": "code",
      "metadata": {
        "id": "NokXrRUb_4gT",
        "colab_type": "code",
        "colab": {
          "base_uri": "https://localhost:8080/",
          "height": 518
        },
        "outputId": "5485d2cb-6b98-49be-caaf-05b14a052f73"
      },
      "source": [
        "translate('he has a lot of money.', False, 'dec_layer4_attention')"
      ],
      "execution_count": 80,
      "outputs": [
        {
          "output_type": "stream",
          "text": [
            "Input:\t\t he has a lot of money.\n",
            "Translation:\t إنه كثير من المال.\n"
          ],
          "name": "stdout"
        },
        {
          "output_type": "display_data",
          "data": {
            "image/png": "[encoded data removed]",
            "text/plain": [
              "<Figure size 1152x576 with 8 Axes>"
            ]
          },
          "metadata": {
            "tags": [],
            "needs_background": "light"
          }
        }
      ]
    },
    {
      "cell_type": "code",
      "metadata": {
        "id": "9lihIXXt7w7K",
        "colab_type": "code",
        "colab": {}
      },
      "source": [
        ""
      ],
      "execution_count": null,
      "outputs": []
    }
  ]
}